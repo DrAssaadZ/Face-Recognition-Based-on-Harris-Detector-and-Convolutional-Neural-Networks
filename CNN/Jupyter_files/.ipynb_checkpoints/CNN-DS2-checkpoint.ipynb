{
 "cells": [
  {
   "cell_type": "markdown",
   "metadata": {},
   "source": [
    "# Georgia tech dataset"
   ]
  },
  {
   "cell_type": "code",
   "execution_count": 1,
   "metadata": {},
   "outputs": [
    {
     "name": "stderr",
     "output_type": "stream",
     "text": [
      "Using TensorFlow backend.\n"
     ]
    }
   ],
   "source": [
    "from keras.models import Sequential\n",
    "from keras.layers import Conv2D\n",
    "from keras.layers import MaxPooling2D\n",
    "from keras.layers import Flatten\n",
    "from keras.layers import Dense\n",
    "import tensorflow as tf\n",
    "from keras.layers import Dropout\n",
    "from keras.layers.normalization import BatchNormalization\n",
    "from keras.preprocessing.image import ImageDataGenerator\n",
    "import os\n",
    "from sklearn.metrics import classification_report, confusion_matrix\n",
    "import numpy as np\n",
    "from keras.models import load_model\n",
    "\n",
    "import matplotlib.pyplot as plt\n",
    "%matplotlib inline\n",
    "\n",
    "import sklearn.metrics as metrics\n",
    "from keras.callbacks import ModelCheckpoint\n",
    "from numpy import expand_dims\n",
    "from keras.models import Model\n",
    "from keras.preprocessing.image import load_img\n",
    "from keras.preprocessing.image import img_to_array\n",
    "from pickle import load\n",
    "from pickle import dump"
   ]
  },
  {
   "cell_type": "markdown",
   "metadata": {},
   "source": [
    "## Model building "
   ]
  },
  {
   "cell_type": "code",
   "execution_count": 2,
   "metadata": {},
   "outputs": [
    {
     "name": "stdout",
     "output_type": "stream",
     "text": [
      "WARNING:tensorflow:From c:\\users\\ouss\\appdata\\local\\programs\\python\\python36\\lib\\site-packages\\keras\\backend\\tensorflow_backend.py:66: The name tf.get_default_graph is deprecated. Please use tf.compat.v1.get_default_graph instead.\n",
      "\n"
     ]
    }
   ],
   "source": [
    "classifier = Sequential()"
   ]
  },
  {
   "cell_type": "code",
   "execution_count": 3,
   "metadata": {},
   "outputs": [
    {
     "name": "stdout",
     "output_type": "stream",
     "text": [
      "WARNING:tensorflow:From c:\\users\\ouss\\appdata\\local\\programs\\python\\python36\\lib\\site-packages\\keras\\backend\\tensorflow_backend.py:541: The name tf.placeholder is deprecated. Please use tf.compat.v1.placeholder instead.\n",
      "\n",
      "WARNING:tensorflow:From c:\\users\\ouss\\appdata\\local\\programs\\python\\python36\\lib\\site-packages\\keras\\backend\\tensorflow_backend.py:4432: The name tf.random_uniform is deprecated. Please use tf.random.uniform instead.\n",
      "\n"
     ]
    }
   ],
   "source": [
    "classifier.add(Conv2D(32, (3, 3), input_shape=(32, 32, 3), padding='same', activation=\"relu\"))"
   ]
  },
  {
   "cell_type": "code",
   "execution_count": 4,
   "metadata": {},
   "outputs": [
    {
     "name": "stdout",
     "output_type": "stream",
     "text": [
      "WARNING:tensorflow:From c:\\users\\ouss\\appdata\\local\\programs\\python\\python36\\lib\\site-packages\\keras\\backend\\tensorflow_backend.py:4267: The name tf.nn.max_pool is deprecated. Please use tf.nn.max_pool2d instead.\n",
      "\n"
     ]
    }
   ],
   "source": [
    "classifier.add(MaxPooling2D(pool_size = (2, 2)))"
   ]
  },
  {
   "cell_type": "code",
   "execution_count": 5,
   "metadata": {},
   "outputs": [],
   "source": [
    "classifier.add(Conv2D(64, (3, 3), padding='same', activation = 'relu'))"
   ]
  },
  {
   "cell_type": "code",
   "execution_count": 6,
   "metadata": {},
   "outputs": [
    {
     "name": "stdout",
     "output_type": "stream",
     "text": [
      "WARNING:tensorflow:From c:\\users\\ouss\\appdata\\local\\programs\\python\\python36\\lib\\site-packages\\keras\\backend\\tensorflow_backend.py:190: The name tf.get_default_session is deprecated. Please use tf.compat.v1.get_default_session instead.\n",
      "\n",
      "WARNING:tensorflow:From c:\\users\\ouss\\appdata\\local\\programs\\python\\python36\\lib\\site-packages\\keras\\backend\\tensorflow_backend.py:197: The name tf.ConfigProto is deprecated. Please use tf.compat.v1.ConfigProto instead.\n",
      "\n",
      "WARNING:tensorflow:From c:\\users\\ouss\\appdata\\local\\programs\\python\\python36\\lib\\site-packages\\keras\\backend\\tensorflow_backend.py:2041: The name tf.nn.fused_batch_norm is deprecated. Please use tf.compat.v1.nn.fused_batch_norm instead.\n",
      "\n"
     ]
    }
   ],
   "source": [
    "classifier.add(BatchNormalization())"
   ]
  },
  {
   "cell_type": "code",
   "execution_count": 7,
   "metadata": {},
   "outputs": [],
   "source": [
    "classifier.add(MaxPooling2D(pool_size = (2, 2)))"
   ]
  },
  {
   "cell_type": "code",
   "execution_count": 8,
   "metadata": {},
   "outputs": [],
   "source": [
    "classifier.add(Conv2D(64, (3, 3), padding='same', activation = 'relu'))"
   ]
  },
  {
   "cell_type": "code",
   "execution_count": 9,
   "metadata": {},
   "outputs": [],
   "source": [
    "classifier.add(BatchNormalization())"
   ]
  },
  {
   "cell_type": "code",
   "execution_count": 10,
   "metadata": {},
   "outputs": [],
   "source": [
    "classifier.add(MaxPooling2D(pool_size = (2, 2)))"
   ]
  },
  {
   "cell_type": "code",
   "execution_count": 11,
   "metadata": {},
   "outputs": [],
   "source": [
    "classifier.add(Conv2D(128, (3, 3), padding='same', activation = 'relu'))"
   ]
  },
  {
   "cell_type": "code",
   "execution_count": 12,
   "metadata": {},
   "outputs": [],
   "source": [
    "classifier.add(BatchNormalization())"
   ]
  },
  {
   "cell_type": "code",
   "execution_count": 13,
   "metadata": {},
   "outputs": [],
   "source": [
    "classifier.add(MaxPooling2D(pool_size = (2, 2)))"
   ]
  },
  {
   "cell_type": "code",
   "execution_count": 14,
   "metadata": {},
   "outputs": [],
   "source": [
    "classifier.add(Flatten())"
   ]
  },
  {
   "cell_type": "code",
   "execution_count": 15,
   "metadata": {},
   "outputs": [],
   "source": [
    "classifier.add(Dense(activation=\"relu\", units=512))"
   ]
  },
  {
   "cell_type": "code",
   "execution_count": 16,
   "metadata": {},
   "outputs": [
    {
     "name": "stdout",
     "output_type": "stream",
     "text": [
      "WARNING:tensorflow:From c:\\users\\ouss\\appdata\\local\\programs\\python\\python36\\lib\\site-packages\\keras\\backend\\tensorflow_backend.py:3733: calling dropout (from tensorflow.python.ops.nn_ops) with keep_prob is deprecated and will be removed in a future version.\n",
      "Instructions for updating:\n",
      "Please use `rate` instead of `keep_prob`. Rate should be set to `rate = 1 - keep_prob`.\n"
     ]
    }
   ],
   "source": [
    "classifier.add(Dropout(0.2))"
   ]
  },
  {
   "cell_type": "code",
   "execution_count": 17,
   "metadata": {},
   "outputs": [],
   "source": [
    "classifier.add(Dense(activation=\"softmax\", units=50))"
   ]
  },
  {
   "cell_type": "code",
   "execution_count": 18,
   "metadata": {},
   "outputs": [
    {
     "name": "stdout",
     "output_type": "stream",
     "text": [
      "WARNING:tensorflow:From c:\\users\\ouss\\appdata\\local\\programs\\python\\python36\\lib\\site-packages\\keras\\optimizers.py:793: The name tf.train.Optimizer is deprecated. Please use tf.compat.v1.train.Optimizer instead.\n",
      "\n"
     ]
    }
   ],
   "source": [
    "classifier.compile(optimizer = 'adam', loss = 'categorical_crossentropy', metrics = ['accuracy'])"
   ]
  },
  {
   "cell_type": "code",
   "execution_count": 19,
   "metadata": {},
   "outputs": [
    {
     "name": "stdout",
     "output_type": "stream",
     "text": [
      "Model: \"sequential_1\"\n",
      "_________________________________________________________________\n",
      "Layer (type)                 Output Shape              Param #   \n",
      "=================================================================\n",
      "conv2d_1 (Conv2D)            (None, 32, 32, 32)        896       \n",
      "_________________________________________________________________\n",
      "max_pooling2d_1 (MaxPooling2 (None, 16, 16, 32)        0         \n",
      "_________________________________________________________________\n",
      "conv2d_2 (Conv2D)            (None, 16, 16, 64)        18496     \n",
      "_________________________________________________________________\n",
      "batch_normalization_1 (Batch (None, 16, 16, 64)        256       \n",
      "_________________________________________________________________\n",
      "max_pooling2d_2 (MaxPooling2 (None, 8, 8, 64)          0         \n",
      "_________________________________________________________________\n",
      "conv2d_3 (Conv2D)            (None, 8, 8, 64)          36928     \n",
      "_________________________________________________________________\n",
      "batch_normalization_2 (Batch (None, 8, 8, 64)          256       \n",
      "_________________________________________________________________\n",
      "max_pooling2d_3 (MaxPooling2 (None, 4, 4, 64)          0         \n",
      "_________________________________________________________________\n",
      "conv2d_4 (Conv2D)            (None, 4, 4, 128)         73856     \n",
      "_________________________________________________________________\n",
      "batch_normalization_3 (Batch (None, 4, 4, 128)         512       \n",
      "_________________________________________________________________\n",
      "max_pooling2d_4 (MaxPooling2 (None, 2, 2, 128)         0         \n",
      "_________________________________________________________________\n",
      "flatten_1 (Flatten)          (None, 512)               0         \n",
      "_________________________________________________________________\n",
      "dense_1 (Dense)              (None, 512)               262656    \n",
      "_________________________________________________________________\n",
      "dropout_1 (Dropout)          (None, 512)               0         \n",
      "_________________________________________________________________\n",
      "dense_2 (Dense)              (None, 50)                25650     \n",
      "=================================================================\n",
      "Total params: 419,506\n",
      "Trainable params: 418,994\n",
      "Non-trainable params: 512\n",
      "_________________________________________________________________\n"
     ]
    }
   ],
   "source": [
    "classifier.summary()"
   ]
  },
  {
   "cell_type": "markdown",
   "metadata": {},
   "source": [
    "### Model Training"
   ]
  },
  {
   "cell_type": "code",
   "execution_count": 20,
   "metadata": {},
   "outputs": [
    {
     "name": "stdout",
     "output_type": "stream",
     "text": [
      "Found 600 images belonging to 50 classes.\n",
      "Found 150 images belonging to 50 classes.\n"
     ]
    }
   ],
   "source": [
    "bat_size = 32\n",
    "input_size = 32\n",
    "\n",
    "# initializing a train datagenerator\n",
    "train_datagen = ImageDataGenerator(rescale=1./255)\n",
    "\n",
    "# applying data generation (augmentation) to test set:\n",
    "test_datagen = ImageDataGenerator(rescale=1./255)\n",
    "\n",
    "# preprocessing for trainig set\n",
    "train_set = train_datagen.flow_from_directory(\n",
    "                            '../../datasets/dataset2/fold 1/orig_images/training', # train data directory\n",
    "                            target_size=(input_size, input_size), \n",
    "                            batch_size=bat_size,\n",
    "                            class_mode='categorical'\n",
    "                                            )\n",
    "\n",
    "# preprocessing for test set\n",
    "test_set = test_datagen.flow_from_directory(\n",
    "                            '../../datasets/dataset2/fold 1/orig_images/testing', # train data directory\n",
    "                            target_size=(input_size, input_size),\n",
    "                            batch_size=bat_size,\n",
    "                            shuffle=False,\n",
    "                            class_mode='categorical'\n",
    "                                            )"
   ]
  },
  {
   "cell_type": "code",
   "execution_count": 22,
   "metadata": {},
   "outputs": [],
   "source": [
    "# saving the best weights of the model (where the validation accuracy is best)\n",
    "filepath = \"CNN-DS2-bestweights.hdf5\"\n",
    "checkpoint = ModelCheckpoint(\n",
    "                            filepath,\n",
    "                            monitor='val_acc',\n",
    "                            verbose=1,\n",
    "                            save_best_only=True,\n",
    "                            mode='max'\n",
    "                            )"
   ]
  },
  {
   "cell_type": "code",
   "execution_count": 23,
   "metadata": {
    "scrolled": false
   },
   "outputs": [
    {
     "name": "stdout",
     "output_type": "stream",
     "text": [
      "WARNING:tensorflow:From c:\\users\\ouss\\appdata\\local\\programs\\python\\python36\\lib\\site-packages\\tensorflow\\python\\ops\\math_grad.py:1250: add_dispatch_support.<locals>.wrapper (from tensorflow.python.ops.array_ops) is deprecated and will be removed in a future version.\n",
      "Instructions for updating:\n",
      "Use tf.where in 2.0, which has the same broadcast rule as np.where\n",
      "Epoch 1/25\n",
      "19/19 [==============================] - 3s 146ms/step - loss: 3.3699 - acc: 0.2150 - val_loss: 2.5593 - val_acc: 0.3333\n",
      "\n",
      "Epoch 00001: val_acc improved from -inf to 0.33333, saving model to CNN-DS2-bestweights.hdf5\n",
      "Epoch 2/25\n",
      "19/19 [==============================] - 0s 20ms/step - loss: 1.4366 - acc: 0.6316 - val_loss: 2.1786 - val_acc: 0.3600\n",
      "\n",
      "Epoch 00002: val_acc improved from 0.33333 to 0.36000, saving model to CNN-DS2-bestweights.hdf5\n",
      "Epoch 3/25\n",
      "19/19 [==============================] - 1s 32ms/step - loss: 0.5638 - acc: 0.8674 - val_loss: 1.7388 - val_acc: 0.5200\n",
      "\n",
      "Epoch 00003: val_acc improved from 0.36000 to 0.52000, saving model to CNN-DS2-bestweights.hdf5\n",
      "Epoch 4/25\n",
      "19/19 [==============================] - 1s 34ms/step - loss: 0.2624 - acc: 0.9326 - val_loss: 2.1241 - val_acc: 0.4000\n",
      "\n",
      "Epoch 00004: val_acc did not improve from 0.52000\n",
      "Epoch 5/25\n",
      "19/19 [==============================] - 1s 34ms/step - loss: 0.1318 - acc: 0.9764 - val_loss: 0.8746 - val_acc: 0.7200\n",
      "\n",
      "Epoch 00005: val_acc improved from 0.52000 to 0.72000, saving model to CNN-DS2-bestweights.hdf5\n",
      "Epoch 6/25\n",
      "19/19 [==============================] - 1s 35ms/step - loss: 0.0540 - acc: 0.9945 - val_loss: 0.6656 - val_acc: 0.8200\n",
      "\n",
      "Epoch 00006: val_acc improved from 0.72000 to 0.82000, saving model to CNN-DS2-bestweights.hdf5\n",
      "Epoch 7/25\n",
      "19/19 [==============================] - 1s 32ms/step - loss: 0.0306 - acc: 0.9951 - val_loss: 0.8470 - val_acc: 0.7400\n",
      "\n",
      "Epoch 00007: val_acc did not improve from 0.82000\n",
      "Epoch 8/25\n",
      "19/19 [==============================] - 1s 31ms/step - loss: 0.0158 - acc: 0.9984 - val_loss: 0.4639 - val_acc: 0.8800\n",
      "\n",
      "Epoch 00008: val_acc improved from 0.82000 to 0.88000, saving model to CNN-DS2-bestweights.hdf5\n",
      "Epoch 9/25\n",
      "19/19 [==============================] - 1s 32ms/step - loss: 0.0108 - acc: 1.0000 - val_loss: 0.4958 - val_acc: 0.8400\n",
      "\n",
      "Epoch 00009: val_acc did not improve from 0.88000\n",
      "Epoch 10/25\n",
      "19/19 [==============================] - 1s 35ms/step - loss: 0.0072 - acc: 1.0000 - val_loss: 0.4645 - val_acc: 0.8600\n",
      "\n",
      "Epoch 00010: val_acc did not improve from 0.88000\n",
      "Epoch 11/25\n",
      "19/19 [==============================] - 1s 31ms/step - loss: 0.0046 - acc: 1.0000 - val_loss: 0.4069 - val_acc: 0.8800\n",
      "\n",
      "Epoch 00011: val_acc did not improve from 0.88000\n",
      "Epoch 12/25\n",
      "19/19 [==============================] - 1s 31ms/step - loss: 0.0036 - acc: 1.0000 - val_loss: 0.4051 - val_acc: 0.8533\n",
      "\n",
      "Epoch 00012: val_acc did not improve from 0.88000\n",
      "Epoch 13/25\n",
      "19/19 [==============================] - 1s 31ms/step - loss: 0.0025 - acc: 1.0000 - val_loss: 0.3819 - val_acc: 0.8933\n",
      "\n",
      "Epoch 00013: val_acc improved from 0.88000 to 0.89333, saving model to CNN-DS2-bestweights.hdf5\n",
      "Epoch 14/25\n",
      "19/19 [==============================] - 1s 32ms/step - loss: 0.0019 - acc: 1.0000 - val_loss: 0.3792 - val_acc: 0.9133\n",
      "\n",
      "Epoch 00014: val_acc improved from 0.89333 to 0.91333, saving model to CNN-DS2-bestweights.hdf5\n",
      "Epoch 15/25\n",
      "19/19 [==============================] - 1s 32ms/step - loss: 0.0023 - acc: 1.0000 - val_loss: 0.4133 - val_acc: 0.8733\n",
      "\n",
      "Epoch 00015: val_acc did not improve from 0.91333\n",
      "Epoch 16/25\n",
      "19/19 [==============================] - 1s 32ms/step - loss: 0.0024 - acc: 1.0000 - val_loss: 0.3418 - val_acc: 0.9133\n",
      "\n",
      "Epoch 00016: val_acc improved from 0.91333 to 0.91333, saving model to CNN-DS2-bestweights.hdf5\n",
      "Epoch 17/25\n",
      "19/19 [==============================] - 1s 31ms/step - loss: 0.0022 - acc: 1.0000 - val_loss: 0.3842 - val_acc: 0.9067\n",
      "\n",
      "Epoch 00017: val_acc did not improve from 0.91333\n",
      "Epoch 18/25\n",
      "19/19 [==============================] - 1s 33ms/step - loss: 0.0015 - acc: 1.0000 - val_loss: 0.3900 - val_acc: 0.8933\n",
      "\n",
      "Epoch 00018: val_acc did not improve from 0.91333\n",
      "Epoch 19/25\n",
      "19/19 [==============================] - 1s 36ms/step - loss: 0.0013 - acc: 1.0000 - val_loss: 0.3316 - val_acc: 0.9133\n",
      "\n",
      "Epoch 00019: val_acc did not improve from 0.91333\n",
      "Epoch 20/25\n",
      "19/19 [==============================] - 1s 31ms/step - loss: 0.0011 - acc: 1.0000 - val_loss: 0.3450 - val_acc: 0.9067\n",
      "\n",
      "Epoch 00020: val_acc did not improve from 0.91333\n",
      "Epoch 21/25\n",
      "19/19 [==============================] - 1s 33ms/step - loss: 0.0013 - acc: 1.0000 - val_loss: 0.3814 - val_acc: 0.8867\n",
      "\n",
      "Epoch 00021: val_acc did not improve from 0.91333\n",
      "Epoch 22/25\n",
      "19/19 [==============================] - 1s 35ms/step - loss: 9.4766e-04 - acc: 1.0000 - val_loss: 0.3824 - val_acc: 0.8800\n",
      "\n",
      "Epoch 00022: val_acc did not improve from 0.91333\n",
      "Epoch 23/25\n",
      "19/19 [==============================] - 1s 32ms/step - loss: 8.9498e-04 - acc: 1.0000 - val_loss: 0.3786 - val_acc: 0.8933\n",
      "\n",
      "Epoch 00023: val_acc did not improve from 0.91333\n",
      "Epoch 24/25\n",
      "19/19 [==============================] - 1s 32ms/step - loss: 6.8002e-04 - acc: 1.0000 - val_loss: 0.3780 - val_acc: 0.8800\n",
      "\n",
      "Epoch 00024: val_acc did not improve from 0.91333\n",
      "Epoch 25/25\n",
      "19/19 [==============================] - 1s 34ms/step - loss: 7.7066e-04 - acc: 1.0000 - val_loss: 0.3891 - val_acc: 0.8733\n",
      "\n",
      "Epoch 00025: val_acc did not improve from 0.91333\n"
     ]
    }
   ],
   "source": [
    "# training our model with 25 epocks\n",
    "model = classifier.fit_generator(\n",
    "                                train_set,\n",
    "                                steps_per_epoch=600//bat_size + 1,\n",
    "                                epochs=25,\n",
    "                                callbacks=[checkpoint],\n",
    "                                validation_data=test_set,\n",
    "                                validation_steps=150//bat_size + 1\n",
    "                                )"
   ]
  },
  {
   "cell_type": "markdown",
   "metadata": {},
   "source": [
    "### Accuracy and loss Graphs"
   ]
  },
  {
   "cell_type": "code",
   "execution_count": 24,
   "metadata": {},
   "outputs": [],
   "source": [
    "# saving best model history\n",
    "with open('CNN-DS2-history', 'wb') as handle: \n",
    "    dump(classifier.history, handle)"
   ]
  },
  {
   "cell_type": "code",
   "execution_count": 25,
   "metadata": {},
   "outputs": [
    {
     "data": {
      "image/png": "[encoded data removed]",
      "text/plain": [
       "<matplotlib.figure.Figure at 0x2583218c320>"
      ]
     },
     "metadata": {
      "needs_background": "light"
     },
     "output_type": "display_data"
    },
    {
     "data": {
      "image/png": "[encoded data removed]",
      "text/plain": [
       "<matplotlib.figure.Figure at 0x258322d0ac8>"
      ]
     },
     "metadata": {
      "needs_background": "light"
     },
     "output_type": "display_data"
    }
   ],
   "source": [
    "    \n",
    "# loading the model history\n",
    "with open('CNN-DS2-history', 'rb') as handle:\n",
    "    oldhstry = load(handle)\n",
    "    \n",
    "# plotting the train and test accuracy and loss\n",
    "acc = oldhstry.history['acc']\n",
    "val_acc = oldhstry.history['val_acc']\n",
    "plt.plot(acc,  label='Training acc')\n",
    "plt.plot(val_acc,  label='Validation acc')\n",
    "plt.title('Training and validation accuracy')\n",
    "plt.xlabel('Epochs')\n",
    "plt.ylabel('accuracy')\n",
    "plt.legend()\n",
    "# plt.savefig('train and test accuracy.png', bbox_inches='tight', dpi=300)\n",
    "plt.show()\n",
    "\n",
    "acc = oldhstry.history['loss']\n",
    "val_acc = oldhstry.history['val_loss']\n",
    "plt.plot(acc,  label='Training loss')\n",
    "plt.plot(val_acc,  label='Validation loss')\n",
    "plt.title('Training and validation loss')\n",
    "plt.xlabel('Epochs')\n",
    "plt.ylabel('loss')\n",
    "plt.legend()\n",
    "# plt.savefig('train and test loss.png', bbox_inches='tight', dpi=300)\n",
    "plt.show()"
   ]
  },
  {
   "cell_type": "markdown",
   "metadata": {},
   "source": [
    "### Confusion matrix"
   ]
  },
  {
   "cell_type": "code",
   "execution_count": 26,
   "metadata": {},
   "outputs": [
    {
     "name": "stdout",
     "output_type": "stream",
     "text": [
      "[[3 0 0 ... 0 0 0]\n",
      " [0 3 0 ... 0 0 0]\n",
      " [0 0 3 ... 0 0 0]\n",
      " ...\n",
      " [0 0 0 ... 3 0 0]\n",
      " [0 0 0 ... 0 3 0]\n",
      " [0 0 0 ... 0 0 3]]\n"
     ]
    }
   ],
   "source": [
    "classifier = load_model('CNN-DS2-bestweights.hdf5')       # loading the model with the best weights\n",
    "Y_pred = classifier.predict_generator(test_set, 150//bat_size + 1)\n",
    "y_pred = np.argmax(Y_pred, axis=1)\n",
    "conf_mat = confusion_matrix(test_set.classes, y_pred)\n",
    "print(conf_mat)"
   ]
  },
  {
   "cell_type": "code",
   "execution_count": 27,
   "metadata": {},
   "outputs": [
    {
     "data": {
      "text/plain": [
       "<matplotlib.text.Text at 0x25840fd39e8>"
      ]
     },
     "execution_count": 27,
     "metadata": {},
     "output_type": "execute_result"
    },
    {
     "data": {
      "image/png": "[encoded data removed]",
      "text/plain": [
       "<matplotlib.figure.Figure at 0x25811488630>"
      ]
     },
     "metadata": {
      "needs_background": "light"
     },
     "output_type": "display_data"
    }
   ],
   "source": [
    "# plotting the confusion matrix\n",
    "plt.imshow(conf_mat, cmap=plt.cm.Blues)\n",
    "plt.colorbar()\n",
    "plt.title('Matrice de confusion')\n",
    "# plt.savefig('DS1-conf.jpg', dpi=300)"
   ]
  },
  {
   "cell_type": "markdown",
   "metadata": {},
   "source": [
    "#### Model Report"
   ]
  },
  {
   "cell_type": "code",
   "execution_count": 28,
   "metadata": {},
   "outputs": [],
   "source": [
    "true_classes = test_set.classes            \n",
    "class_labels = list(test_set.class_indices.keys())  "
   ]
  },
  {
   "cell_type": "code",
   "execution_count": 29,
   "metadata": {},
   "outputs": [
    {
     "name": "stdout",
     "output_type": "stream",
     "text": [
      "              precision    recall  f1-score   support\n",
      "\n",
      "         s01       1.00      1.00      1.00         3\n",
      "         s02       1.00      1.00      1.00         3\n",
      "         s03       1.00      1.00      1.00         3\n",
      "         s04       1.00      0.67      0.80         3\n",
      "         s05       1.00      1.00      1.00         3\n",
      "         s06       1.00      1.00      1.00         3\n",
      "         s07       1.00      1.00      1.00         3\n",
      "         s08       0.75      1.00      0.86         3\n",
      "         s09       0.60      1.00      0.75         3\n",
      "         s10       1.00      1.00      1.00         3\n",
      "         s11       1.00      1.00      1.00         3\n",
      "         s12       1.00      1.00      1.00         3\n",
      "         s13       1.00      1.00      1.00         3\n",
      "         s14       1.00      1.00      1.00         3\n",
      "         s15       1.00      1.00      1.00         3\n",
      "         s16       1.00      0.33      0.50         3\n",
      "         s17       1.00      1.00      1.00         3\n",
      "         s18       0.75      1.00      0.86         3\n",
      "         s19       1.00      1.00      1.00         3\n",
      "         s20       1.00      1.00      1.00         3\n",
      "         s21       1.00      1.00      1.00         3\n",
      "         s22       1.00      1.00      1.00         3\n",
      "         s23       0.50      1.00      0.67         3\n",
      "         s24       1.00      1.00      1.00         3\n",
      "         s25       1.00      0.67      0.80         3\n",
      "         s26       1.00      0.33      0.50         3\n",
      "         s27       1.00      1.00      1.00         3\n",
      "         s28       1.00      1.00      1.00         3\n",
      "         s29       1.00      0.67      0.80         3\n",
      "         s30       1.00      1.00      1.00         3\n",
      "         s31       1.00      0.67      0.80         3\n",
      "         s32       1.00      1.00      1.00         3\n",
      "         s33       1.00      0.67      0.80         3\n",
      "         s34       1.00      1.00      1.00         3\n",
      "         s35       0.60      1.00      0.75         3\n",
      "         s36       1.00      1.00      1.00         3\n",
      "         s37       1.00      1.00      1.00         3\n",
      "         s38       1.00      1.00      1.00         3\n",
      "         s39       0.75      1.00      0.86         3\n",
      "         s40       1.00      0.67      0.80         3\n",
      "         s41       1.00      0.67      0.80         3\n",
      "         s42       0.50      1.00      0.67         3\n",
      "         s43       1.00      1.00      1.00         3\n",
      "         s44       1.00      1.00      1.00         3\n",
      "         s45       1.00      0.67      0.80         3\n",
      "         s46       1.00      0.67      0.80         3\n",
      "         s47       1.00      1.00      1.00         3\n",
      "         s48       1.00      1.00      1.00         3\n",
      "         s49       1.00      1.00      1.00         3\n",
      "         s50       1.00      1.00      1.00         3\n",
      "\n",
      "    accuracy                           0.91       150\n",
      "   macro avg       0.95      0.91      0.91       150\n",
      "weighted avg       0.95      0.91      0.91       150\n",
      "\n"
     ]
    }
   ],
   "source": [
    "# Calculating the model report\n",
    "report = metrics.classification_report(true_classes, y_pred, target_names=class_labels)\n",
    "print(report) "
   ]
  },
  {
   "cell_type": "markdown",
   "metadata": {},
   "source": [
    "### Displaying feature maps"
   ]
  },
  {
   "cell_type": "code",
   "execution_count": 34,
   "metadata": {},
   "outputs": [
    {
     "data": {
      "image/png": "[encoded data removed]",
      "text/plain": [
       "<matplotlib.figure.Figure at 0x2584101cba8>"
      ]
     },
     "metadata": {},
     "output_type": "display_data"
    }
   ],
   "source": [
    "# new model used for displaying the feature maps\n",
    "model = Model(inputs=classifier.inputs, outputs=classifier.layers[0].output)\n",
    "\n",
    "# load the image with the required shape\n",
    "img = load_img('../../datasets/dataset2/fold 1/orig_images/testing/s01/s01_01.jpg', target_size=(32, 32))\n",
    "\n",
    "# convert the image to an array\n",
    "img = img_to_array(img)\n",
    "\n",
    "# expand dimensions so that it represents a single 'sample'\n",
    "img = expand_dims(img, axis=0)\n",
    "\n",
    "# model feature maps \n",
    "feature_maps = model.predict(img)\n",
    "\n",
    "square = 8   # used for subplots \n",
    "ix = 1\n",
    "\n",
    "for _ in range(8):\n",
    "    for _ in range(4):\n",
    "        # specify subplot and turn of axis\n",
    "        ax = plt.subplot(square, square, ix)\n",
    "        ax.set_xticks([])\n",
    "        ax.set_yticks([])\n",
    "        plt.imshow(feature_maps[0, :, :, ix-1], cmap='gray')\n",
    "        ix += 1\n",
    "        \n",
    "# plt.savefig('DS1-featuresMaps_L4.jpg', dpi=300)\n",
    "plt.show()\n"
   ]
  }
 ],
 "metadata": {
  "kernelspec": {
   "display_name": "Python 3",
   "language": "python",
   "name": "python3"
  },
  "language_info": {
   "codemirror_mode": {
    "name": "ipython",
    "version": 3
   },
   "file_extension": ".py",
   "mimetype": "text/x-python",
   "name": "python",
   "nbconvert_exporter": "python",
   "pygments_lexer": "ipython3",
   "version": "3.6.8"
  }
 },
 "nbformat": 4,
 "nbformat_minor": 2
}
