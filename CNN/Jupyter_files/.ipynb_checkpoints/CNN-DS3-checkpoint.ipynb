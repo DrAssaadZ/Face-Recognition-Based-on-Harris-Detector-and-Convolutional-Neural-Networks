{
 "cells": [
  {
   "cell_type": "markdown",
   "metadata": {},
   "source": [
    "# ATT dataset"
   ]
  },
  {
   "cell_type": "code",
   "execution_count": 1,
   "metadata": {},
   "outputs": [
    {
     "name": "stderr",
     "output_type": "stream",
     "text": [
      "Using TensorFlow backend.\n"
     ]
    }
   ],
   "source": [
    "from keras.models import Sequential\n",
    "from keras.layers import Conv2D\n",
    "from keras.layers import MaxPooling2D\n",
    "from keras.layers import Flatten\n",
    "from keras.layers import Dense\n",
    "import tensorflow as tf\n",
    "from keras.layers import Dropout\n",
    "from keras.layers.normalization import BatchNormalization\n",
    "from keras.preprocessing.image import ImageDataGenerator\n",
    "import os\n",
    "from sklearn.metrics import classification_report, confusion_matrix\n",
    "import numpy as np\n",
    "from keras.models import load_model\n",
    "\n",
    "import matplotlib.pyplot as plt\n",
    "%matplotlib inline\n",
    "\n",
    "import sklearn.metrics as metrics\n",
    "from keras.callbacks import ModelCheckpoint\n",
    "from numpy import expand_dims\n",
    "from keras.models import Model\n",
    "from keras.preprocessing.image import load_img\n",
    "from keras.preprocessing.image import img_to_array\n",
    "from pickle import load\n",
    "from pickle import dump"
   ]
  },
  {
   "cell_type": "markdown",
   "metadata": {},
   "source": [
    "## Model building "
   ]
  },
  {
   "cell_type": "code",
   "execution_count": 2,
   "metadata": {},
   "outputs": [
    {
     "name": "stdout",
     "output_type": "stream",
     "text": [
      "WARNING:tensorflow:From c:\\users\\ouss\\appdata\\local\\programs\\python\\python36\\lib\\site-packages\\keras\\backend\\tensorflow_backend.py:66: The name tf.get_default_graph is deprecated. Please use tf.compat.v1.get_default_graph instead.\n",
      "\n"
     ]
    }
   ],
   "source": [
    "classifier = Sequential()"
   ]
  },
  {
   "cell_type": "code",
   "execution_count": 3,
   "metadata": {},
   "outputs": [
    {
     "name": "stdout",
     "output_type": "stream",
     "text": [
      "WARNING:tensorflow:From c:\\users\\ouss\\appdata\\local\\programs\\python\\python36\\lib\\site-packages\\keras\\backend\\tensorflow_backend.py:541: The name tf.placeholder is deprecated. Please use tf.compat.v1.placeholder instead.\n",
      "\n",
      "WARNING:tensorflow:From c:\\users\\ouss\\appdata\\local\\programs\\python\\python36\\lib\\site-packages\\keras\\backend\\tensorflow_backend.py:4432: The name tf.random_uniform is deprecated. Please use tf.random.uniform instead.\n",
      "\n"
     ]
    }
   ],
   "source": [
    "classifier.add(Conv2D(32, (3, 3), input_shape=(32, 32, 3), padding='same', activation=\"relu\"))"
   ]
  },
  {
   "cell_type": "code",
   "execution_count": 4,
   "metadata": {},
   "outputs": [
    {
     "name": "stdout",
     "output_type": "stream",
     "text": [
      "WARNING:tensorflow:From c:\\users\\ouss\\appdata\\local\\programs\\python\\python36\\lib\\site-packages\\keras\\backend\\tensorflow_backend.py:4267: The name tf.nn.max_pool is deprecated. Please use tf.nn.max_pool2d instead.\n",
      "\n"
     ]
    }
   ],
   "source": [
    "classifier.add(MaxPooling2D(pool_size = (2, 2)))"
   ]
  },
  {
   "cell_type": "code",
   "execution_count": 5,
   "metadata": {},
   "outputs": [],
   "source": [
    "classifier.add(Conv2D(64, (3, 3), padding='same', activation = 'relu'))"
   ]
  },
  {
   "cell_type": "code",
   "execution_count": 6,
   "metadata": {},
   "outputs": [
    {
     "name": "stdout",
     "output_type": "stream",
     "text": [
      "WARNING:tensorflow:From c:\\users\\ouss\\appdata\\local\\programs\\python\\python36\\lib\\site-packages\\keras\\backend\\tensorflow_backend.py:190: The name tf.get_default_session is deprecated. Please use tf.compat.v1.get_default_session instead.\n",
      "\n",
      "WARNING:tensorflow:From c:\\users\\ouss\\appdata\\local\\programs\\python\\python36\\lib\\site-packages\\keras\\backend\\tensorflow_backend.py:197: The name tf.ConfigProto is deprecated. Please use tf.compat.v1.ConfigProto instead.\n",
      "\n",
      "WARNING:tensorflow:From c:\\users\\ouss\\appdata\\local\\programs\\python\\python36\\lib\\site-packages\\keras\\backend\\tensorflow_backend.py:2041: The name tf.nn.fused_batch_norm is deprecated. Please use tf.compat.v1.nn.fused_batch_norm instead.\n",
      "\n"
     ]
    }
   ],
   "source": [
    "classifier.add(BatchNormalization())"
   ]
  },
  {
   "cell_type": "code",
   "execution_count": 7,
   "metadata": {},
   "outputs": [],
   "source": [
    "classifier.add(MaxPooling2D(pool_size = (2, 2)))"
   ]
  },
  {
   "cell_type": "code",
   "execution_count": 8,
   "metadata": {},
   "outputs": [],
   "source": [
    "classifier.add(Conv2D(64, (3, 3), padding='same', activation = 'relu'))"
   ]
  },
  {
   "cell_type": "code",
   "execution_count": 9,
   "metadata": {},
   "outputs": [],
   "source": [
    "classifier.add(BatchNormalization())"
   ]
  },
  {
   "cell_type": "code",
   "execution_count": 10,
   "metadata": {},
   "outputs": [],
   "source": [
    "classifier.add(MaxPooling2D(pool_size = (2, 2)))"
   ]
  },
  {
   "cell_type": "code",
   "execution_count": 11,
   "metadata": {},
   "outputs": [],
   "source": [
    "classifier.add(Conv2D(128, (3, 3), padding='same', activation = 'relu'))"
   ]
  },
  {
   "cell_type": "code",
   "execution_count": 12,
   "metadata": {},
   "outputs": [],
   "source": [
    "classifier.add(BatchNormalization())"
   ]
  },
  {
   "cell_type": "code",
   "execution_count": 13,
   "metadata": {},
   "outputs": [],
   "source": [
    "classifier.add(MaxPooling2D(pool_size = (2, 2)))"
   ]
  },
  {
   "cell_type": "code",
   "execution_count": 14,
   "metadata": {},
   "outputs": [],
   "source": [
    "classifier.add(Flatten())"
   ]
  },
  {
   "cell_type": "code",
   "execution_count": 15,
   "metadata": {},
   "outputs": [],
   "source": [
    "classifier.add(Dense(activation=\"relu\", units=512))"
   ]
  },
  {
   "cell_type": "code",
   "execution_count": 16,
   "metadata": {},
   "outputs": [
    {
     "name": "stdout",
     "output_type": "stream",
     "text": [
      "WARNING:tensorflow:From c:\\users\\ouss\\appdata\\local\\programs\\python\\python36\\lib\\site-packages\\keras\\backend\\tensorflow_backend.py:3733: calling dropout (from tensorflow.python.ops.nn_ops) with keep_prob is deprecated and will be removed in a future version.\n",
      "Instructions for updating:\n",
      "Please use `rate` instead of `keep_prob`. Rate should be set to `rate = 1 - keep_prob`.\n"
     ]
    }
   ],
   "source": [
    "classifier.add(Dropout(0.2))"
   ]
  },
  {
   "cell_type": "code",
   "execution_count": 17,
   "metadata": {},
   "outputs": [],
   "source": [
    "classifier.add(Dense(activation=\"softmax\", units=100))"
   ]
  },
  {
   "cell_type": "code",
   "execution_count": 18,
   "metadata": {},
   "outputs": [
    {
     "name": "stdout",
     "output_type": "stream",
     "text": [
      "WARNING:tensorflow:From c:\\users\\ouss\\appdata\\local\\programs\\python\\python36\\lib\\site-packages\\keras\\optimizers.py:793: The name tf.train.Optimizer is deprecated. Please use tf.compat.v1.train.Optimizer instead.\n",
      "\n"
     ]
    }
   ],
   "source": [
    "classifier.compile(optimizer = 'adam', loss = 'categorical_crossentropy', metrics = ['accuracy'])"
   ]
  },
  {
   "cell_type": "code",
   "execution_count": 19,
   "metadata": {},
   "outputs": [
    {
     "name": "stdout",
     "output_type": "stream",
     "text": [
      "Model: \"sequential_1\"\n",
      "_________________________________________________________________\n",
      "Layer (type)                 Output Shape              Param #   \n",
      "=================================================================\n",
      "conv2d_1 (Conv2D)            (None, 32, 32, 32)        896       \n",
      "_________________________________________________________________\n",
      "max_pooling2d_1 (MaxPooling2 (None, 16, 16, 32)        0         \n",
      "_________________________________________________________________\n",
      "conv2d_2 (Conv2D)            (None, 16, 16, 64)        18496     \n",
      "_________________________________________________________________\n",
      "batch_normalization_1 (Batch (None, 16, 16, 64)        256       \n",
      "_________________________________________________________________\n",
      "max_pooling2d_2 (MaxPooling2 (None, 8, 8, 64)          0         \n",
      "_________________________________________________________________\n",
      "conv2d_3 (Conv2D)            (None, 8, 8, 64)          36928     \n",
      "_________________________________________________________________\n",
      "batch_normalization_2 (Batch (None, 8, 8, 64)          256       \n",
      "_________________________________________________________________\n",
      "max_pooling2d_3 (MaxPooling2 (None, 4, 4, 64)          0         \n",
      "_________________________________________________________________\n",
      "conv2d_4 (Conv2D)            (None, 4, 4, 128)         73856     \n",
      "_________________________________________________________________\n",
      "batch_normalization_3 (Batch (None, 4, 4, 128)         512       \n",
      "_________________________________________________________________\n",
      "max_pooling2d_4 (MaxPooling2 (None, 2, 2, 128)         0         \n",
      "_________________________________________________________________\n",
      "flatten_1 (Flatten)          (None, 512)               0         \n",
      "_________________________________________________________________\n",
      "dense_1 (Dense)              (None, 512)               262656    \n",
      "_________________________________________________________________\n",
      "dropout_1 (Dropout)          (None, 512)               0         \n",
      "_________________________________________________________________\n",
      "dense_2 (Dense)              (None, 100)               51300     \n",
      "=================================================================\n",
      "Total params: 445,156\n",
      "Trainable params: 444,644\n",
      "Non-trainable params: 512\n",
      "_________________________________________________________________\n"
     ]
    }
   ],
   "source": [
    "classifier.summary()"
   ]
  },
  {
   "cell_type": "markdown",
   "metadata": {},
   "source": [
    "### Model Training"
   ]
  },
  {
   "cell_type": "code",
   "execution_count": 20,
   "metadata": {},
   "outputs": [
    {
     "name": "stdout",
     "output_type": "stream",
     "text": [
      "Found 1400 images belonging to 100 classes.\n",
      "Found 1200 images belonging to 100 classes.\n"
     ]
    }
   ],
   "source": [
    "bat_size = 32\n",
    "input_size = 32\n",
    "\n",
    "# initializing a train datagenerator\n",
    "train_datagen = ImageDataGenerator(rescale=1./255)\n",
    "\n",
    "# applying data generation (augmentation) to test set:\n",
    "test_datagen = ImageDataGenerator(rescale=1./255)\n",
    "\n",
    "# preprocessing for trainig set\n",
    "train_set = train_datagen.flow_from_directory(\n",
    "                            '../../datasets/dataset3/orig_images/training', # train data directory\n",
    "                            target_size=(input_size, input_size), \n",
    "                            batch_size=bat_size,\n",
    "                            class_mode='categorical'\n",
    "                                            )\n",
    "\n",
    "# preprocessing for test set\n",
    "test_set = test_datagen.flow_from_directory(\n",
    "                            '../../datasets/dataset3/orig_images/testing', # train data directory\n",
    "                            target_size=(input_size, input_size),\n",
    "                            batch_size=bat_size,\n",
    "                            shuffle=False,\n",
    "                            class_mode='categorical'\n",
    "                                            )"
   ]
  },
  {
   "cell_type": "code",
   "execution_count": 21,
   "metadata": {},
   "outputs": [],
   "source": [
    "# saving the best weights of the model (where the validation accuracy is best)\n",
    "filepath = \"CNN-DS3-bestweights.hdf5\"\n",
    "checkpoint = ModelCheckpoint(\n",
    "                            filepath,\n",
    "                            monitor='val_acc',\n",
    "                            verbose=1,\n",
    "                            save_best_only=True,\n",
    "                            mode='max'\n",
    "                            )"
   ]
  },
  {
   "cell_type": "code",
   "execution_count": 22,
   "metadata": {
    "scrolled": false
   },
   "outputs": [
    {
     "name": "stdout",
     "output_type": "stream",
     "text": [
      "WARNING:tensorflow:From c:\\users\\ouss\\appdata\\local\\programs\\python\\python36\\lib\\site-packages\\tensorflow\\python\\ops\\math_grad.py:1250: add_dispatch_support.<locals>.wrapper (from tensorflow.python.ops.array_ops) is deprecated and will be removed in a future version.\n",
      "Instructions for updating:\n",
      "Use tf.where in 2.0, which has the same broadcast rule as np.where\n",
      "Epoch 1/25\n",
      "44/44 [==============================] - 4s 91ms/step - loss: 4.0216 - acc: 0.1269 - val_loss: 8.3721 - val_acc: 0.0467\n",
      "\n",
      "Epoch 00001: val_acc improved from -inf to 0.04667, saving model to CNN-DS3-bestweights.hdf5\n",
      "Epoch 2/25\n",
      "44/44 [==============================] - 1s 33ms/step - loss: 1.7051 - acc: 0.5523 - val_loss: 7.8716 - val_acc: 0.0658\n",
      "\n",
      "Epoch 00002: val_acc improved from 0.04667 to 0.06583, saving model to CNN-DS3-bestweights.hdf5\n",
      "Epoch 3/25\n",
      "44/44 [==============================] - 2s 37ms/step - loss: 0.6101 - acc: 0.8284 - val_loss: 7.3859 - val_acc: 0.0867\n",
      "\n",
      "Epoch 00003: val_acc improved from 0.06583 to 0.08667, saving model to CNN-DS3-bestweights.hdf5\n",
      "Epoch 4/25\n",
      "44/44 [==============================] - 2s 39ms/step - loss: 0.2114 - acc: 0.9500 - val_loss: 7.9093 - val_acc: 0.0767\n",
      "\n",
      "Epoch 00004: val_acc did not improve from 0.08667\n",
      "Epoch 5/25\n",
      "44/44 [==============================] - 2s 43ms/step - loss: 0.0963 - acc: 0.9763 - val_loss: 7.5862 - val_acc: 0.1017\n",
      "\n",
      "Epoch 00005: val_acc improved from 0.08667 to 0.10167, saving model to CNN-DS3-bestweights.hdf5\n",
      "Epoch 6/25\n",
      "44/44 [==============================] - 2s 37ms/step - loss: 0.0473 - acc: 0.9915 - val_loss: 8.7201 - val_acc: 0.0833\n",
      "\n",
      "Epoch 00006: val_acc did not improve from 0.10167\n",
      "Epoch 7/25\n",
      "44/44 [==============================] - 2s 36ms/step - loss: 0.0441 - acc: 0.9929 - val_loss: 7.3795 - val_acc: 0.1025\n",
      "\n",
      "Epoch 00007: val_acc improved from 0.10167 to 0.10250, saving model to CNN-DS3-bestweights.hdf5\n",
      "Epoch 8/25\n",
      "44/44 [==============================] - 2s 38ms/step - loss: 0.0330 - acc: 0.9905 - val_loss: 7.3930 - val_acc: 0.1267\n",
      "\n",
      "Epoch 00008: val_acc improved from 0.10250 to 0.12667, saving model to CNN-DS3-bestweights.hdf5\n",
      "Epoch 9/25\n",
      "44/44 [==============================] - 2s 41ms/step - loss: 0.0239 - acc: 0.9948 - val_loss: 7.0761 - val_acc: 0.1167\n",
      "\n",
      "Epoch 00009: val_acc did not improve from 0.12667\n",
      "Epoch 10/25\n",
      "44/44 [==============================] - 2s 42ms/step - loss: 0.0241 - acc: 0.9948 - val_loss: 7.3453 - val_acc: 0.1375\n",
      "\n",
      "Epoch 00010: val_acc improved from 0.12667 to 0.13750, saving model to CNN-DS3-bestweights.hdf5\n",
      "Epoch 11/25\n",
      "44/44 [==============================] - 2s 39ms/step - loss: 0.0140 - acc: 0.9986 - val_loss: 7.7058 - val_acc: 0.1242\n",
      "\n",
      "Epoch 00011: val_acc did not improve from 0.13750\n",
      "Epoch 12/25\n",
      "44/44 [==============================] - 2s 39ms/step - loss: 0.0267 - acc: 0.9922 - val_loss: 7.7501 - val_acc: 0.1408\n",
      "\n",
      "Epoch 00012: val_acc improved from 0.13750 to 0.14083, saving model to CNN-DS3-bestweights.hdf5\n",
      "Epoch 13/25\n",
      "44/44 [==============================] - 2s 40ms/step - loss: 0.0132 - acc: 0.9972 - val_loss: 7.2147 - val_acc: 0.1442\n",
      "\n",
      "Epoch 00013: val_acc improved from 0.14083 to 0.14417, saving model to CNN-DS3-bestweights.hdf5\n",
      "Epoch 14/25\n",
      "44/44 [==============================] - 2s 38ms/step - loss: 0.0091 - acc: 0.9986 - val_loss: 10.5854 - val_acc: 0.0775\n",
      "\n",
      "Epoch 00014: val_acc did not improve from 0.14417\n",
      "Epoch 15/25\n",
      "44/44 [==============================] - 2s 40ms/step - loss: 0.0087 - acc: 0.9972 - val_loss: 7.8486 - val_acc: 0.1258\n",
      "\n",
      "Epoch 00015: val_acc did not improve from 0.14417\n",
      "Epoch 16/25\n",
      "44/44 [==============================] - 2s 39ms/step - loss: 0.0159 - acc: 0.9964 - val_loss: 9.3190 - val_acc: 0.0883\n",
      "\n",
      "Epoch 00016: val_acc did not improve from 0.14417\n",
      "Epoch 17/25\n",
      "44/44 [==============================] - 2s 38ms/step - loss: 0.0457 - acc: 0.9901 - val_loss: 10.6317 - val_acc: 0.0575\n",
      "\n",
      "Epoch 00017: val_acc did not improve from 0.14417\n",
      "Epoch 18/25\n",
      "44/44 [==============================] - 2s 39ms/step - loss: 0.1462 - acc: 0.9602 - val_loss: 10.6216 - val_acc: 0.0792\n",
      "\n",
      "Epoch 00018: val_acc did not improve from 0.14417\n",
      "Epoch 19/25\n",
      "44/44 [==============================] - 2s 38ms/step - loss: 0.1636 - acc: 0.9508 - val_loss: 9.7914 - val_acc: 0.1208\n",
      "\n",
      "Epoch 00019: val_acc did not improve from 0.14417\n",
      "Epoch 20/25\n",
      "44/44 [==============================] - 2s 42ms/step - loss: 0.1088 - acc: 0.9631 - val_loss: 11.0550 - val_acc: 0.0783\n",
      "\n",
      "Epoch 00020: val_acc did not improve from 0.14417\n",
      "Epoch 21/25\n",
      "44/44 [==============================] - 2s 43ms/step - loss: 0.1054 - acc: 0.9759 - val_loss: 11.1751 - val_acc: 0.0725\n",
      "\n",
      "Epoch 00021: val_acc did not improve from 0.14417\n",
      "Epoch 22/25\n",
      "44/44 [==============================] - 2s 41ms/step - loss: 0.1179 - acc: 0.9607 - val_loss: 10.2786 - val_acc: 0.1108\n",
      "\n",
      "Epoch 00022: val_acc did not improve from 0.14417\n",
      "Epoch 23/25\n",
      "44/44 [==============================] - 2s 37ms/step - loss: 0.0801 - acc: 0.9773 - val_loss: 10.0696 - val_acc: 0.0850\n",
      "\n",
      "Epoch 00023: val_acc did not improve from 0.14417\n",
      "Epoch 24/25\n",
      "44/44 [==============================] - 2s 36ms/step - loss: 0.0380 - acc: 0.9901 - val_loss: 10.5525 - val_acc: 0.0942\n",
      "\n",
      "Epoch 00024: val_acc did not improve from 0.14417\n",
      "Epoch 25/25\n",
      "44/44 [==============================] - 2s 37ms/step - loss: 0.0142 - acc: 0.9957 - val_loss: 10.5756 - val_acc: 0.0992\n",
      "\n",
      "Epoch 00025: val_acc did not improve from 0.14417\n"
     ]
    }
   ],
   "source": [
    "# training our model with 25 epocks\n",
    "model = classifier.fit_generator(\n",
    "                                train_set,\n",
    "                                steps_per_epoch=1400//bat_size + 1,\n",
    "                                epochs=25,\n",
    "                                callbacks=[checkpoint],\n",
    "                                validation_data=test_set,\n",
    "                                validation_steps=1200//bat_size + 1)"
   ]
  },
  {
   "cell_type": "markdown",
   "metadata": {},
   "source": [
    "### Accuracy and loss Graphs"
   ]
  },
  {
   "cell_type": "code",
   "execution_count": 23,
   "metadata": {},
   "outputs": [],
   "source": [
    "# saving best model history\n",
    "with open('CNN-DS3-history', 'wb') as handle: \n",
    "    dump(classifier.history, handle)"
   ]
  },
  {
   "cell_type": "code",
   "execution_count": 24,
   "metadata": {},
   "outputs": [
    {
     "data": {
      "image/png": "[encoded data removed]",
      "text/plain": [
       "<matplotlib.figure.Figure at 0x220ea014c18>"
      ]
     },
     "metadata": {
      "needs_background": "light"
     },
     "output_type": "display_data"
    },
    {
     "data": {
      "image/png": "[encoded data removed]",
      "text/plain": [
       "<matplotlib.figure.Figure at 0x22134428048>"
      ]
     },
     "metadata": {
      "needs_background": "light"
     },
     "output_type": "display_data"
    }
   ],
   "source": [
    "    \n",
    "# loading the model history\n",
    "with open('CNN-DS3-history', 'rb') as handle:\n",
    "    oldhstry = load(handle)\n",
    "    \n",
    "# plotting the train and test accuracy and loss\n",
    "acc = oldhstry.history['acc']\n",
    "val_acc = oldhstry.history['val_acc']\n",
    "plt.plot(acc,  label='Training acc')\n",
    "plt.plot(val_acc,  label='Validation acc')\n",
    "plt.title('Training and validation accuracy')\n",
    "plt.xlabel('Epochs')\n",
    "plt.ylabel('accuracy')\n",
    "plt.legend()\n",
    "# plt.savefig('DS3-train and test accuracy.png', bbox_inches='tight', dpi=300)\n",
    "plt.show()\n",
    "\n",
    "acc = oldhstry.history['loss']\n",
    "val_acc = oldhstry.history['val_loss']\n",
    "plt.plot(acc,  label='Training loss')\n",
    "plt.plot(val_acc,  label='Validation loss')\n",
    "plt.title('Training and validation loss')\n",
    "plt.xlabel('Epochs')\n",
    "plt.ylabel('loss')\n",
    "plt.legend()\n",
    "# plt.savefig('DS3-train and test loss.png', bbox_inches='tight', dpi=300)\n",
    "plt.show()"
   ]
  },
  {
   "cell_type": "markdown",
   "metadata": {},
   "source": [
    "### Confusion matrix"
   ]
  },
  {
   "cell_type": "code",
   "execution_count": 26,
   "metadata": {},
   "outputs": [
    {
     "name": "stdout",
     "output_type": "stream",
     "text": [
      "[[0 0 0 ... 0 0 0]\n",
      " [0 0 0 ... 0 0 0]\n",
      " [0 0 5 ... 0 0 0]\n",
      " ...\n",
      " [0 0 1 ... 1 0 0]\n",
      " [0 0 0 ... 0 2 0]\n",
      " [0 0 0 ... 0 0 2]]\n"
     ]
    }
   ],
   "source": [
    "classifier = load_model('CNN-DS3-bestweights.hdf5')            # loading the model with the best weights\n",
    "Y_pred = classifier.predict_generator(test_set, 1200//bat_size + 1)\n",
    "y_pred = np.argmax(Y_pred, axis=1)\n",
    "conf_mat = confusion_matrix(test_set.classes, y_pred)\n",
    "print(conf_mat)"
   ]
  },
  {
   "cell_type": "code",
   "execution_count": 27,
   "metadata": {},
   "outputs": [
    {
     "data": {
      "text/plain": [
       "<matplotlib.text.Text at 0x221450dd5c0>"
      ]
     },
     "execution_count": 27,
     "metadata": {},
     "output_type": "execute_result"
    },
    {
     "data": {
      "image/png": "[encoded data removed]",
      "text/plain": [
       "<matplotlib.figure.Figure at 0x220eaa7fe48>"
      ]
     },
     "metadata": {
      "needs_background": "light"
     },
     "output_type": "display_data"
    }
   ],
   "source": [
    "plt.imshow(conf_mat, cmap=plt.cm.Blues)\n",
    "plt.colorbar()\n",
    "plt.title('Matrice de confusion')\n",
    "# plt.savefig('DS3-conf.jpg', dpi=300)"
   ]
  },
  {
   "cell_type": "markdown",
   "metadata": {},
   "source": [
    "#### Model Report"
   ]
  },
  {
   "cell_type": "code",
   "execution_count": 29,
   "metadata": {},
   "outputs": [],
   "source": [
    "true_classes = test_set.classes\n",
    "class_labels = list(test_set.class_indices.keys())  "
   ]
  },
  {
   "cell_type": "code",
   "execution_count": 30,
   "metadata": {},
   "outputs": [
    {
     "name": "stdout",
     "output_type": "stream",
     "text": [
      "              precision    recall  f1-score   support\n",
      "\n",
      "          S1       0.00      0.00      0.00        12\n",
      "         S10       0.00      0.00      0.00        12\n",
      "        S100       0.13      0.42      0.20        12\n",
      "         S11       0.00      0.00      0.00        12\n",
      "         S12       0.00      0.00      0.00        12\n",
      "         S13       0.00      0.00      0.00        12\n",
      "         S14       1.00      0.17      0.29        12\n",
      "         S15       0.00      0.00      0.00        12\n",
      "         S16       0.00      0.00      0.00        12\n",
      "         S17       0.08      0.33      0.13        12\n",
      "         S18       0.07      0.17      0.10        12\n",
      "         S19       0.12      0.08      0.10        12\n",
      "          S2       0.00      0.00      0.00        12\n",
      "         S20       0.00      0.00      0.00        12\n",
      "         S21       0.00      0.00      0.00        12\n",
      "         S22       0.00      0.00      0.00        12\n",
      "         S23       0.00      0.00      0.00        12\n",
      "         S24       0.00      0.00      0.00        12\n",
      "         S25       0.00      0.00      0.00        12\n",
      "         S26       0.08      1.00      0.15        12\n",
      "         S27       0.00      0.00      0.00        12\n",
      "         S28       0.05      0.58      0.08        12\n",
      "         S29       0.00      0.00      0.00        12\n",
      "          S3       0.00      0.00      0.00        12\n",
      "         S30       0.00      0.00      0.00        12\n",
      "         S31       0.00      0.00      0.00        12\n",
      "         S32       1.00      0.17      0.29        12\n",
      "         S33       0.00      0.00      0.00        12\n",
      "         S34       0.00      0.00      0.00        12\n",
      "         S35       0.20      0.25      0.22        12\n",
      "         S36       0.08      0.42      0.14        12\n",
      "         S37       0.00      0.00      0.00        12\n",
      "         S38       0.19      0.67      0.30        12\n",
      "         S39       0.00      0.00      0.00        12\n",
      "          S4       0.00      0.00      0.00        12\n",
      "         S40       1.00      0.08      0.15        12\n",
      "         S41       0.07      0.25      0.11        12\n",
      "         S42       0.00      0.00      0.00        12\n",
      "         S43       0.08      0.83      0.15        12\n",
      "         S44       0.23      0.25      0.24        12\n",
      "         S45       0.18      0.17      0.17        12\n",
      "         S46       0.00      0.00      0.00        12\n",
      "         S47       0.00      0.00      0.00        12\n",
      "         S48       0.22      0.42      0.29        12\n",
      "         S49       0.08      0.67      0.14        12\n",
      "          S5       0.50      0.08      0.14        12\n",
      "         S50       0.00      0.00      0.00        12\n",
      "         S51       0.00      0.00      0.00        12\n",
      "         S52       0.00      0.00      0.00        12\n",
      "         S53       1.00      0.25      0.40        12\n",
      "         S54       0.00      0.00      0.00        12\n",
      "         S55       1.00      0.08      0.15        12\n",
      "         S56       0.00      0.00      0.00        12\n",
      "         S57       0.14      0.17      0.15        12\n",
      "         S58       0.00      0.00      0.00        12\n",
      "         S59       0.00      0.00      0.00        12\n",
      "          S6       0.00      0.00      0.00        12\n",
      "         S60       1.00      0.08      0.15        12\n",
      "         S61       1.00      0.08      0.15        12\n",
      "         S62       1.00      0.08      0.15        12\n",
      "         S63       0.00      0.00      0.00        12\n",
      "         S64       0.26      0.42      0.32        12\n",
      "         S65       0.00      0.00      0.00        12\n",
      "         S66       1.00      0.08      0.15        12\n",
      "         S67       0.00      0.00      0.00        12\n",
      "         S68       0.00      0.00      0.00        12\n",
      "         S69       0.00      0.00      0.00        12\n",
      "          S7       0.00      0.00      0.00        12\n",
      "         S70       1.00      0.25      0.40        12\n",
      "         S71       0.00      0.00      0.00        12\n",
      "         S72       0.09      0.50      0.15        12\n",
      "         S73       0.06      0.08      0.07        12\n",
      "         S74       0.67      0.17      0.27        12\n",
      "         S75       1.00      0.08      0.15        12\n",
      "         S76       0.00      0.00      0.00        12\n",
      "         S77       0.20      0.08      0.12        12\n",
      "         S78       0.26      0.75      0.39        12\n",
      "         S79       0.00      0.00      0.00        12\n",
      "          S8       0.12      0.08      0.10        12\n",
      "         S80       0.42      0.42      0.42        12\n",
      "         S81       0.00      0.00      0.00        12\n",
      "         S82       0.75      0.25      0.38        12\n",
      "         S83       0.22      1.00      0.36        12\n",
      "         S84       1.00      0.08      0.15        12\n",
      "         S85       0.50      0.17      0.25        12\n",
      "         S86       0.06      0.08      0.07        12\n",
      "         S87       1.00      0.17      0.29        12\n",
      "         S88       0.18      0.17      0.17        12\n",
      "         S89       0.00      0.00      0.00        12\n",
      "          S9       0.00      0.00      0.00        12\n",
      "         S90       0.50      0.08      0.14        12\n",
      "         S91       0.40      0.17      0.24        12\n",
      "         S92       0.00      0.00      0.00        12\n",
      "         S93       0.00      0.00      0.00        12\n",
      "         S94       0.70      0.58      0.64        12\n",
      "         S95       0.75      0.25      0.38        12\n",
      "         S96       0.44      0.33      0.38        12\n",
      "         S97       1.00      0.08      0.15        12\n",
      "         S98       1.00      0.17      0.29        12\n",
      "         S99       1.00      0.17      0.29        12\n",
      "\n",
      "    accuracy                           0.14      1200\n",
      "   macro avg       0.25      0.14      0.11      1200\n",
      "weighted avg       0.25      0.14      0.11      1200\n",
      "\n"
     ]
    },
    {
     "name": "stderr",
     "output_type": "stream",
     "text": [
      "c:\\users\\ouss\\appdata\\local\\programs\\python\\python36\\lib\\site-packages\\sklearn\\metrics\\classification.py:1437: UndefinedMetricWarning: Precision and F-score are ill-defined and being set to 0.0 in labels with no predicted samples.\n",
      "  'precision', 'predicted', average, warn_for)\n"
     ]
    }
   ],
   "source": [
    "# Calculating the model report\n",
    "report = metrics.classification_report(true_classes, y_pred, target_names=class_labels)\n",
    "print(report) "
   ]
  },
  {
   "cell_type": "markdown",
   "metadata": {},
   "source": [
    "### Displaying feature maps"
   ]
  },
  {
   "cell_type": "code",
   "execution_count": 32,
   "metadata": {},
   "outputs": [
    {
     "data": {
      "image/png": "[encoded data removed]",
      "text/plain": [
       "<matplotlib.figure.Figure at 0x22144f58860>"
      ]
     },
     "metadata": {},
     "output_type": "display_data"
    }
   ],
   "source": [
    "# new model used for displaying the feature maps\n",
    "model = Model(inputs=classifier.inputs, outputs=classifier.layers[0].output)\n",
    "\n",
    "# load the image with the required shape\n",
    "img = load_img('../../datasets/dataset3/orig_images/testing/S1/S1-08.jpg', target_size=(32, 32))\n",
    "\n",
    "# convert the image to an array\n",
    "img = img_to_array(img)\n",
    "\n",
    "# expand dimensions so that it represents a single 'sample'\n",
    "img = expand_dims(img, axis=0)\n",
    "\n",
    "# model feature maps \n",
    "feature_maps = model.predict(img)\n",
    "\n",
    "square = 8\n",
    "ix = 1\n",
    "for _ in range(8):\n",
    "    for _ in range(4):\n",
    "        # specify subplot and turn of axis\n",
    "        ax = plt.subplot(square, square, ix)\n",
    "        ax.set_xticks([])\n",
    "        ax.set_yticks([])\n",
    "        plt.imshow(feature_maps[0, :, :, ix-1], cmap='gray')\n",
    "        ix += 1\n",
    "# plt.savefig('DS1-featuresMaps_L4.jpg', dpi=300)\n",
    "plt.show()\n"
   ]
  }
 ],
 "metadata": {
  "kernelspec": {
   "display_name": "Python 3",
   "language": "python",
   "name": "python3"
  },
  "language_info": {
   "codemirror_mode": {
    "name": "ipython",
    "version": 3
   },
   "file_extension": ".py",
   "mimetype": "text/x-python",
   "name": "python",
   "nbconvert_exporter": "python",
   "pygments_lexer": "ipython3",
   "version": "3.6.8"
  }
 },
 "nbformat": 4,
 "nbformat_minor": 2
}
