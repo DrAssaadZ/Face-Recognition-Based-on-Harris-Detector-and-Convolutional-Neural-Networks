{
 "cells": [
  {
   "cell_type": "markdown",
   "metadata": {},
   "source": [
    "# ATT dataset"
   ]
  },
  {
   "cell_type": "code",
   "execution_count": 1,
   "metadata": {},
   "outputs": [
    {
     "name": "stderr",
     "output_type": "stream",
     "text": [
      "Using TensorFlow backend.\n"
     ]
    }
   ],
   "source": [
    "from keras.models import Sequential\n",
    "from keras.layers import Conv2D\n",
    "from keras.layers import MaxPooling2D\n",
    "from keras.layers import Flatten\n",
    "from keras.layers import Dense\n",
    "import tensorflow as tf\n",
    "from keras.layers import Dropout\n",
    "from keras.layers.normalization import BatchNormalization\n",
    "from keras.preprocessing.image import ImageDataGenerator\n",
    "import os\n",
    "from sklearn.metrics import classification_report, confusion_matrix\n",
    "import numpy as np\n",
    "from keras.models import load_model\n",
    "\n",
    "import matplotlib.pyplot as plt\n",
    "%matplotlib inline\n",
    "\n",
    "import sklearn.metrics as metrics\n",
    "from keras.callbacks import ModelCheckpoint\n",
    "from numpy import expand_dims\n",
    "from keras.models import Model\n",
    "from keras.preprocessing.image import load_img\n",
    "from keras.preprocessing.image import img_to_array\n",
    "from pickle import load\n",
    "from pickle import dump"
   ]
  },
  {
   "cell_type": "markdown",
   "metadata": {},
   "source": [
    "## Model building "
   ]
  },
  {
   "cell_type": "code",
   "execution_count": 2,
   "metadata": {},
   "outputs": [
    {
     "name": "stdout",
     "output_type": "stream",
     "text": [
      "WARNING:tensorflow:From c:\\users\\ouss\\appdata\\local\\programs\\python\\python36\\lib\\site-packages\\keras\\backend\\tensorflow_backend.py:66: The name tf.get_default_graph is deprecated. Please use tf.compat.v1.get_default_graph instead.\n",
      "\n"
     ]
    }
   ],
   "source": [
    "classifier = Sequential()"
   ]
  },
  {
   "cell_type": "code",
   "execution_count": 3,
   "metadata": {},
   "outputs": [
    {
     "name": "stdout",
     "output_type": "stream",
     "text": [
      "WARNING:tensorflow:From c:\\users\\ouss\\appdata\\local\\programs\\python\\python36\\lib\\site-packages\\keras\\backend\\tensorflow_backend.py:541: The name tf.placeholder is deprecated. Please use tf.compat.v1.placeholder instead.\n",
      "\n",
      "WARNING:tensorflow:From c:\\users\\ouss\\appdata\\local\\programs\\python\\python36\\lib\\site-packages\\keras\\backend\\tensorflow_backend.py:4432: The name tf.random_uniform is deprecated. Please use tf.random.uniform instead.\n",
      "\n"
     ]
    }
   ],
   "source": [
    "classifier.add(Conv2D(32, (3, 3), input_shape=(32, 32, 3), padding='same', activation=\"relu\"))"
   ]
  },
  {
   "cell_type": "code",
   "execution_count": 4,
   "metadata": {},
   "outputs": [
    {
     "name": "stdout",
     "output_type": "stream",
     "text": [
      "WARNING:tensorflow:From c:\\users\\ouss\\appdata\\local\\programs\\python\\python36\\lib\\site-packages\\keras\\backend\\tensorflow_backend.py:4267: The name tf.nn.max_pool is deprecated. Please use tf.nn.max_pool2d instead.\n",
      "\n"
     ]
    }
   ],
   "source": [
    "classifier.add(MaxPooling2D(pool_size = (2, 2)))"
   ]
  },
  {
   "cell_type": "code",
   "execution_count": 5,
   "metadata": {},
   "outputs": [],
   "source": [
    "classifier.add(Conv2D(64, (3, 3), padding='same', activation = 'relu'))"
   ]
  },
  {
   "cell_type": "code",
   "execution_count": 6,
   "metadata": {},
   "outputs": [
    {
     "name": "stdout",
     "output_type": "stream",
     "text": [
      "WARNING:tensorflow:From c:\\users\\ouss\\appdata\\local\\programs\\python\\python36\\lib\\site-packages\\keras\\backend\\tensorflow_backend.py:190: The name tf.get_default_session is deprecated. Please use tf.compat.v1.get_default_session instead.\n",
      "\n",
      "WARNING:tensorflow:From c:\\users\\ouss\\appdata\\local\\programs\\python\\python36\\lib\\site-packages\\keras\\backend\\tensorflow_backend.py:197: The name tf.ConfigProto is deprecated. Please use tf.compat.v1.ConfigProto instead.\n",
      "\n",
      "WARNING:tensorflow:From c:\\users\\ouss\\appdata\\local\\programs\\python\\python36\\lib\\site-packages\\keras\\backend\\tensorflow_backend.py:2041: The name tf.nn.fused_batch_norm is deprecated. Please use tf.compat.v1.nn.fused_batch_norm instead.\n",
      "\n"
     ]
    }
   ],
   "source": [
    "classifier.add(BatchNormalization())"
   ]
  },
  {
   "cell_type": "code",
   "execution_count": 7,
   "metadata": {},
   "outputs": [],
   "source": [
    "classifier.add(MaxPooling2D(pool_size = (2, 2)))"
   ]
  },
  {
   "cell_type": "code",
   "execution_count": 8,
   "metadata": {},
   "outputs": [],
   "source": [
    "classifier.add(Conv2D(64, (3, 3), padding='same', activation = 'relu'))"
   ]
  },
  {
   "cell_type": "code",
   "execution_count": 9,
   "metadata": {},
   "outputs": [],
   "source": [
    "classifier.add(BatchNormalization())"
   ]
  },
  {
   "cell_type": "code",
   "execution_count": 10,
   "metadata": {},
   "outputs": [],
   "source": [
    "classifier.add(MaxPooling2D(pool_size = (2, 2)))"
   ]
  },
  {
   "cell_type": "code",
   "execution_count": 11,
   "metadata": {},
   "outputs": [],
   "source": [
    "classifier.add(Conv2D(128, (3, 3), padding='same', activation = 'relu'))"
   ]
  },
  {
   "cell_type": "code",
   "execution_count": 12,
   "metadata": {},
   "outputs": [],
   "source": [
    "classifier.add(BatchNormalization())"
   ]
  },
  {
   "cell_type": "code",
   "execution_count": 13,
   "metadata": {},
   "outputs": [],
   "source": [
    "classifier.add(MaxPooling2D(pool_size = (2, 2)))"
   ]
  },
  {
   "cell_type": "code",
   "execution_count": 14,
   "metadata": {},
   "outputs": [],
   "source": [
    "classifier.add(Flatten())"
   ]
  },
  {
   "cell_type": "code",
   "execution_count": 15,
   "metadata": {},
   "outputs": [],
   "source": [
    "classifier.add(Dense(activation=\"relu\", units=512))"
   ]
  },
  {
   "cell_type": "code",
   "execution_count": 16,
   "metadata": {},
   "outputs": [
    {
     "name": "stdout",
     "output_type": "stream",
     "text": [
      "WARNING:tensorflow:From c:\\users\\ouss\\appdata\\local\\programs\\python\\python36\\lib\\site-packages\\keras\\backend\\tensorflow_backend.py:3733: calling dropout (from tensorflow.python.ops.nn_ops) with keep_prob is deprecated and will be removed in a future version.\n",
      "Instructions for updating:\n",
      "Please use `rate` instead of `keep_prob`. Rate should be set to `rate = 1 - keep_prob`.\n"
     ]
    }
   ],
   "source": [
    "classifier.add(Dropout(0.2))"
   ]
  },
  {
   "cell_type": "code",
   "execution_count": 17,
   "metadata": {},
   "outputs": [],
   "source": [
    "classifier.add(Dense(activation=\"softmax\", units=40))"
   ]
  },
  {
   "cell_type": "code",
   "execution_count": 18,
   "metadata": {},
   "outputs": [
    {
     "name": "stdout",
     "output_type": "stream",
     "text": [
      "WARNING:tensorflow:From c:\\users\\ouss\\appdata\\local\\programs\\python\\python36\\lib\\site-packages\\keras\\optimizers.py:793: The name tf.train.Optimizer is deprecated. Please use tf.compat.v1.train.Optimizer instead.\n",
      "\n"
     ]
    }
   ],
   "source": [
    "classifier.compile(optimizer = 'adam', loss = 'categorical_crossentropy', metrics = ['accuracy'])"
   ]
  },
  {
   "cell_type": "code",
   "execution_count": 19,
   "metadata": {},
   "outputs": [
    {
     "name": "stdout",
     "output_type": "stream",
     "text": [
      "Model: \"sequential_1\"\n",
      "_________________________________________________________________\n",
      "Layer (type)                 Output Shape              Param #   \n",
      "=================================================================\n",
      "conv2d_1 (Conv2D)            (None, 32, 32, 32)        896       \n",
      "_________________________________________________________________\n",
      "max_pooling2d_1 (MaxPooling2 (None, 16, 16, 32)        0         \n",
      "_________________________________________________________________\n",
      "conv2d_2 (Conv2D)            (None, 16, 16, 64)        18496     \n",
      "_________________________________________________________________\n",
      "batch_normalization_1 (Batch (None, 16, 16, 64)        256       \n",
      "_________________________________________________________________\n",
      "max_pooling2d_2 (MaxPooling2 (None, 8, 8, 64)          0         \n",
      "_________________________________________________________________\n",
      "conv2d_3 (Conv2D)            (None, 8, 8, 64)          36928     \n",
      "_________________________________________________________________\n",
      "batch_normalization_2 (Batch (None, 8, 8, 64)          256       \n",
      "_________________________________________________________________\n",
      "max_pooling2d_3 (MaxPooling2 (None, 4, 4, 64)          0         \n",
      "_________________________________________________________________\n",
      "conv2d_4 (Conv2D)            (None, 4, 4, 128)         73856     \n",
      "_________________________________________________________________\n",
      "batch_normalization_3 (Batch (None, 4, 4, 128)         512       \n",
      "_________________________________________________________________\n",
      "max_pooling2d_4 (MaxPooling2 (None, 2, 2, 128)         0         \n",
      "_________________________________________________________________\n",
      "flatten_1 (Flatten)          (None, 512)               0         \n",
      "_________________________________________________________________\n",
      "dense_1 (Dense)              (None, 512)               262656    \n",
      "_________________________________________________________________\n",
      "dropout_1 (Dropout)          (None, 512)               0         \n",
      "_________________________________________________________________\n",
      "dense_2 (Dense)              (None, 40)                20520     \n",
      "=================================================================\n",
      "Total params: 414,376\n",
      "Trainable params: 413,864\n",
      "Non-trainable params: 512\n",
      "_________________________________________________________________\n"
     ]
    }
   ],
   "source": [
    "classifier.summary()"
   ]
  },
  {
   "cell_type": "markdown",
   "metadata": {},
   "source": [
    "### Model Training"
   ]
  },
  {
   "cell_type": "code",
   "execution_count": 21,
   "metadata": {},
   "outputs": [
    {
     "name": "stdout",
     "output_type": "stream",
     "text": [
      "Found 280 images belonging to 40 classes.\n",
      "Found 120 images belonging to 40 classes.\n"
     ]
    }
   ],
   "source": [
    "bat_size = 32\n",
    "input_size = 32\n",
    "\n",
    "# initializing a train datagenerator\n",
    "train_datagen = ImageDataGenerator(rescale=1./255)\n",
    "\n",
    "# initializing a test datagenerator\n",
    "test_datagen = ImageDataGenerator(rescale=1./255)\n",
    "\n",
    "# preprocessing for trainig set\n",
    "train_set = train_datagen.flow_from_directory(\n",
    "                            '../../datasets/dataset1/orig_images/training', # train data directory\n",
    "                            target_size=(input_size, input_size), \n",
    "                            batch_size=bat_size,\n",
    "                            class_mode='categorical'\n",
    "                                            )\n",
    "\n",
    "# preprocessing for test set\n",
    "test_set = test_datagen.flow_from_directory(\n",
    "                            '../../datasets/dataset1/orig_images/testing', # train data directory\n",
    "                            target_size=(input_size, input_size),\n",
    "                            batch_size=bat_size,\n",
    "                            shuffle=False,\n",
    "                            class_mode='categorical'\n",
    "                                            )"
   ]
  },
  {
   "cell_type": "code",
   "execution_count": 22,
   "metadata": {},
   "outputs": [],
   "source": [
    "# saving the best weights of the model (where the validation accuracy is best)\n",
    "filepath = \"CNN-DS1-bestweights.hdf5\"\n",
    "checkpoint = ModelCheckpoint(\n",
    "                            filepath,\n",
    "                            monitor='val_acc',\n",
    "                            verbose=1,\n",
    "                            save_best_only=True,\n",
    "                            mode='max'\n",
    "                            )"
   ]
  },
  {
   "cell_type": "code",
   "execution_count": 23,
   "metadata": {
    "scrolled": false
   },
   "outputs": [
    {
     "name": "stdout",
     "output_type": "stream",
     "text": [
      "WARNING:tensorflow:From c:\\users\\ouss\\appdata\\local\\programs\\python\\python36\\lib\\site-packages\\tensorflow\\python\\ops\\math_grad.py:1250: add_dispatch_support.<locals>.wrapper (from tensorflow.python.ops.array_ops) is deprecated and will be removed in a future version.\n",
      "Instructions for updating:\n",
      "Use tf.where in 2.0, which has the same broadcast rule as np.where\n",
      "Epoch 1/25\n",
      "9/9 [==============================] - 12s 1s/step - loss: 3.6921 - acc: 0.1504 - val_loss: 2.6233 - val_acc: 0.3333\n",
      "\n",
      "Epoch 00001: val_acc improved from -inf to 0.33333, saving model to CNN-DS1-bestweights.hdf5\n",
      "Epoch 2/25\n",
      "9/9 [==============================] - 0s 21ms/step - loss: 1.3656 - acc: 0.6807 - val_loss: 1.3379 - val_acc: 0.6250\n",
      "\n",
      "Epoch 00002: val_acc improved from 0.33333 to 0.62500, saving model to CNN-DS1-bestweights.hdf5\n",
      "Epoch 3/25\n",
      "9/9 [==============================] - 0s 27ms/step - loss: 0.5560 - acc: 0.8879 - val_loss: 0.7719 - val_acc: 0.7833\n",
      "\n",
      "Epoch 00003: val_acc improved from 0.62500 to 0.78333, saving model to CNN-DS1-bestweights.hdf5\n",
      "Epoch 4/25\n",
      "9/9 [==============================] - 0s 27ms/step - loss: 0.2038 - acc: 0.9641 - val_loss: 0.6101 - val_acc: 0.7917\n",
      "\n",
      "Epoch 00004: val_acc improved from 0.78333 to 0.79167, saving model to CNN-DS1-bestweights.hdf5\n",
      "Epoch 5/25\n",
      "9/9 [==============================] - 0s 30ms/step - loss: 0.1093 - acc: 0.9791 - val_loss: 0.4506 - val_acc: 0.8833\n",
      "\n",
      "Epoch 00005: val_acc improved from 0.79167 to 0.88333, saving model to CNN-DS1-bestweights.hdf5\n",
      "Epoch 6/25\n",
      "9/9 [==============================] - 0s 31ms/step - loss: 0.0428 - acc: 0.9896 - val_loss: 0.4584 - val_acc: 0.8583\n",
      "\n",
      "Epoch 00006: val_acc did not improve from 0.88333\n",
      "Epoch 7/25\n",
      "9/9 [==============================] - 0s 26ms/step - loss: 0.0233 - acc: 0.9965 - val_loss: 0.3583 - val_acc: 0.9333\n",
      "\n",
      "Epoch 00007: val_acc improved from 0.88333 to 0.93333, saving model to CNN-DS1-bestweights.hdf5\n",
      "Epoch 8/25\n",
      "9/9 [==============================] - 0s 29ms/step - loss: 0.0183 - acc: 1.0000 - val_loss: 0.3095 - val_acc: 0.9250\n",
      "\n",
      "Epoch 00008: val_acc did not improve from 0.93333\n",
      "Epoch 9/25\n",
      "9/9 [==============================] - 0s 32ms/step - loss: 0.0091 - acc: 1.0000 - val_loss: 0.1644 - val_acc: 0.9583\n",
      "\n",
      "Epoch 00009: val_acc improved from 0.93333 to 0.95833, saving model to CNN-DS1-bestweights.hdf5\n",
      "Epoch 10/25\n",
      "9/9 [==============================] - 0s 29ms/step - loss: 0.0051 - acc: 1.0000 - val_loss: 0.1450 - val_acc: 0.9583\n",
      "\n",
      "Epoch 00010: val_acc did not improve from 0.95833\n",
      "Epoch 11/25\n",
      "9/9 [==============================] - 0s 34ms/step - loss: 0.0040 - acc: 1.0000 - val_loss: 0.1410 - val_acc: 0.9750\n",
      "\n",
      "Epoch 00011: val_acc improved from 0.95833 to 0.97500, saving model to CNN-DS1-bestweights.hdf5\n",
      "Epoch 12/25\n",
      "9/9 [==============================] - 0s 31ms/step - loss: 0.0028 - acc: 1.0000 - val_loss: 0.1337 - val_acc: 0.9750\n",
      "\n",
      "Epoch 00012: val_acc did not improve from 0.97500\n",
      "Epoch 13/25\n",
      "9/9 [==============================] - 0s 32ms/step - loss: 0.0035 - acc: 1.0000 - val_loss: 0.1232 - val_acc: 0.9750\n",
      "\n",
      "Epoch 00013: val_acc did not improve from 0.97500\n",
      "Epoch 14/25\n",
      "9/9 [==============================] - 0s 33ms/step - loss: 0.0037 - acc: 1.0000 - val_loss: 0.1171 - val_acc: 0.9750\n",
      "\n",
      "Epoch 00014: val_acc did not improve from 0.97500\n",
      "Epoch 15/25\n",
      "9/9 [==============================] - 0s 34ms/step - loss: 0.0013 - acc: 1.0000 - val_loss: 0.1207 - val_acc: 0.9667\n",
      "\n",
      "Epoch 00015: val_acc did not improve from 0.97500\n",
      "Epoch 16/25\n",
      "9/9 [==============================] - 0s 33ms/step - loss: 0.0025 - acc: 1.0000 - val_loss: 0.1200 - val_acc: 0.9583\n",
      "\n",
      "Epoch 00016: val_acc did not improve from 0.97500\n",
      "Epoch 17/25\n",
      "9/9 [==============================] - 0s 36ms/step - loss: 0.0016 - acc: 1.0000 - val_loss: 0.1148 - val_acc: 0.9583\n",
      "\n",
      "Epoch 00017: val_acc did not improve from 0.97500\n",
      "Epoch 18/25\n",
      "9/9 [==============================] - 0s 33ms/step - loss: 0.0012 - acc: 1.0000 - val_loss: 0.1105 - val_acc: 0.9667\n",
      "\n",
      "Epoch 00018: val_acc did not improve from 0.97500\n",
      "Epoch 19/25\n",
      "9/9 [==============================] - 0s 32ms/step - loss: 0.0013 - acc: 1.0000 - val_loss: 0.1055 - val_acc: 0.9667\n",
      "\n",
      "Epoch 00019: val_acc did not improve from 0.97500\n",
      "Epoch 20/25\n",
      "9/9 [==============================] - 0s 25ms/step - loss: 0.0021 - acc: 1.0000 - val_loss: 0.1094 - val_acc: 0.9667\n",
      "\n",
      "Epoch 00020: val_acc did not improve from 0.97500\n",
      "Epoch 21/25\n",
      "9/9 [==============================] - 0s 31ms/step - loss: 0.0018 - acc: 1.0000 - val_loss: 0.1460 - val_acc: 0.9500\n",
      "\n",
      "Epoch 00021: val_acc did not improve from 0.97500\n",
      "Epoch 22/25\n",
      "9/9 [==============================] - 0s 26ms/step - loss: 8.9835e-04 - acc: 1.0000 - val_loss: 0.1330 - val_acc: 0.9583\n",
      "\n",
      "Epoch 00022: val_acc did not improve from 0.97500\n",
      "Epoch 23/25\n",
      "9/9 [==============================] - 0s 31ms/step - loss: 9.0527e-04 - acc: 1.0000 - val_loss: 0.1249 - val_acc: 0.9583\n",
      "\n",
      "Epoch 00023: val_acc did not improve from 0.97500\n",
      "Epoch 24/25\n",
      "9/9 [==============================] - 0s 27ms/step - loss: 7.7787e-04 - acc: 1.0000 - val_loss: 0.1152 - val_acc: 0.9667\n",
      "\n",
      "Epoch 00024: val_acc did not improve from 0.97500\n",
      "Epoch 25/25\n",
      "9/9 [==============================] - 0s 31ms/step - loss: 8.5262e-04 - acc: 1.0000 - val_loss: 0.1055 - val_acc: 0.9667\n",
      "\n",
      "Epoch 00025: val_acc did not improve from 0.97500\n"
     ]
    }
   ],
   "source": [
    "# training our model with 25 epocks\n",
    "model = classifier.fit_generator(\n",
    "                                train_set,\n",
    "                                steps_per_epoch=280//bat_size + 1,\n",
    "                                epochs=25,\n",
    "                                callbacks=[checkpoint],\n",
    "                                validation_data=test_set,\n",
    "                                validation_steps=120//bat_size + 1\n",
    "                                )"
   ]
  },
  {
   "cell_type": "markdown",
   "metadata": {},
   "source": [
    "### Accuracy and loss Graphs"
   ]
  },
  {
   "cell_type": "code",
   "execution_count": 24,
   "metadata": {},
   "outputs": [],
   "source": [
    "# saving best model history\n",
    "with open('CNN-DS1-history', 'wb') as handle: \n",
    "    dump(classifier.history, handle)"
   ]
  },
  {
   "cell_type": "code",
   "execution_count": 25,
   "metadata": {},
   "outputs": [
    {
     "data": {
      "image/png": "[encoded data removed]",
      "text/plain": [
       "<matplotlib.figure.Figure at 0x227a3d39b70>"
      ]
     },
     "metadata": {
      "needs_background": "light"
     },
     "output_type": "display_data"
    },
    {
     "data": {
      "image/png": "[encoded data removed]",
      "text/plain": [
       "<matplotlib.figure.Figure at 0x227c2a077f0>"
      ]
     },
     "metadata": {
      "needs_background": "light"
     },
     "output_type": "display_data"
    }
   ],
   "source": [
    "    \n",
    "# loading the model history\n",
    "with open('CNN-DS1-history', 'rb') as handle:\n",
    "    oldhstry = load(handle)\n",
    "    \n",
    "# plotting the train and test accuracy and loss\n",
    "acc = oldhstry.history['acc']\n",
    "val_acc = oldhstry.history['val_acc']\n",
    "plt.plot(acc,  label='Training acc')\n",
    "plt.plot(val_acc,  label='Validation acc')\n",
    "plt.title('Training and validation accuracy')\n",
    "plt.xlabel('Epochs')\n",
    "plt.ylabel('accuracy')\n",
    "plt.legend()\n",
    "# plt.savefig('train and test accuracy.png', bbox_inches='tight', dpi=300)\n",
    "plt.show()\n",
    "\n",
    "acc = oldhstry.history['loss']\n",
    "val_acc = oldhstry.history['val_loss']\n",
    "plt.plot(acc,  label='Training loss')\n",
    "plt.plot(val_acc,  label='Validation loss')\n",
    "plt.title('Training and validation loss')\n",
    "plt.xlabel('Epochs')\n",
    "plt.ylabel('loss')\n",
    "plt.legend()\n",
    "# plt.savefig('train and test loss.png', bbox_inches='tight', dpi=300)\n",
    "plt.show()"
   ]
  },
  {
   "cell_type": "markdown",
   "metadata": {},
   "source": [
    "### Confusion matrix"
   ]
  },
  {
   "cell_type": "code",
   "execution_count": 26,
   "metadata": {},
   "outputs": [
    {
     "name": "stdout",
     "output_type": "stream",
     "text": [
      "[[3 0 0 ... 0 0 0]\n",
      " [0 3 0 ... 0 0 0]\n",
      " [0 0 3 ... 0 0 0]\n",
      " ...\n",
      " [0 0 0 ... 3 0 0]\n",
      " [0 0 0 ... 0 3 0]\n",
      " [0 0 0 ... 0 0 3]]\n"
     ]
    }
   ],
   "source": [
    "classifier = load_model('CNN-DS1-bestweights.hdf5')    # loading the model with the best weights\n",
    "Y_pred = classifier.predict_generator(test_set, 120//bat_size + 1)\n",
    "y_pred = np.argmax(Y_pred, axis=1)\n",
    "conf_mat = confusion_matrix(test_set.classes, y_pred)\n",
    "print(conf_mat)"
   ]
  },
  {
   "cell_type": "code",
   "execution_count": 27,
   "metadata": {},
   "outputs": [
    {
     "data": {
      "text/plain": [
       "<matplotlib.text.Text at 0x227c4a34208>"
      ]
     },
     "execution_count": 27,
     "metadata": {},
     "output_type": "execute_result"
    },
    {
     "data": {
      "image/png": "[encoded data removed]",
      "text/plain": [
       "<matplotlib.figure.Figure at 0x22792f8de48>"
      ]
     },
     "metadata": {
      "needs_background": "light"
     },
     "output_type": "display_data"
    }
   ],
   "source": [
    "# plotting the confusion matrix\n",
    "plt.imshow(conf_mat, cmap=plt.cm.Blues)\n",
    "plt.colorbar()\n",
    "plt.title('Matrice de confusion')\n",
    "# plt.savefig('DS1-conf.jpg', dpi=300)"
   ]
  },
  {
   "cell_type": "markdown",
   "metadata": {},
   "source": [
    "#### Model Report"
   ]
  },
  {
   "cell_type": "code",
   "execution_count": 28,
   "metadata": {},
   "outputs": [],
   "source": [
    "true_classes = test_set.classes\n",
    "class_labels = list(test_set.class_indices.keys())  "
   ]
  },
  {
   "cell_type": "code",
   "execution_count": 29,
   "metadata": {},
   "outputs": [
    {
     "name": "stdout",
     "output_type": "stream",
     "text": [
      "              precision    recall  f1-score   support\n",
      "\n",
      "          s1       1.00      1.00      1.00         3\n",
      "         s10       1.00      1.00      1.00         3\n",
      "         s11       1.00      1.00      1.00         3\n",
      "         s12       1.00      1.00      1.00         3\n",
      "         s13       1.00      1.00      1.00         3\n",
      "         s14       1.00      1.00      1.00         3\n",
      "         s15       1.00      1.00      1.00         3\n",
      "         s16       1.00      1.00      1.00         3\n",
      "         s17       1.00      1.00      1.00         3\n",
      "         s18       0.75      1.00      0.86         3\n",
      "         s19       1.00      1.00      1.00         3\n",
      "          s2       1.00      1.00      1.00         3\n",
      "         s20       1.00      1.00      1.00         3\n",
      "         s21       1.00      1.00      1.00         3\n",
      "         s22       1.00      1.00      1.00         3\n",
      "         s23       1.00      1.00      1.00         3\n",
      "         s24       1.00      1.00      1.00         3\n",
      "         s25       1.00      1.00      1.00         3\n",
      "         s26       1.00      1.00      1.00         3\n",
      "         s27       1.00      1.00      1.00         3\n",
      "         s28       1.00      0.67      0.80         3\n",
      "         s29       1.00      0.67      0.80         3\n",
      "          s3       1.00      1.00      1.00         3\n",
      "         s30       1.00      1.00      1.00         3\n",
      "         s31       1.00      1.00      1.00         3\n",
      "         s32       1.00      1.00      1.00         3\n",
      "         s33       1.00      1.00      1.00         3\n",
      "         s34       1.00      1.00      1.00         3\n",
      "         s35       1.00      1.00      1.00         3\n",
      "         s36       1.00      1.00      1.00         3\n",
      "         s37       0.75      1.00      0.86         3\n",
      "         s38       1.00      1.00      1.00         3\n",
      "         s39       0.75      1.00      0.86         3\n",
      "          s4       1.00      1.00      1.00         3\n",
      "         s40       1.00      1.00      1.00         3\n",
      "          s5       1.00      0.67      0.80         3\n",
      "          s6       1.00      1.00      1.00         3\n",
      "          s7       1.00      1.00      1.00         3\n",
      "          s8       1.00      1.00      1.00         3\n",
      "          s9       1.00      1.00      1.00         3\n",
      "\n",
      "    accuracy                           0.97       120\n",
      "   macro avg       0.98      0.97      0.97       120\n",
      "weighted avg       0.98      0.97      0.97       120\n",
      "\n"
     ]
    }
   ],
   "source": [
    "# Calculating the model report\n",
    "report = metrics.classification_report(true_classes, y_pred, target_names=class_labels)\n",
    "print(report) "
   ]
  },
  {
   "cell_type": "markdown",
   "metadata": {},
   "source": [
    "### Displaying feature maps"
   ]
  },
  {
   "cell_type": "code",
   "execution_count": 30,
   "metadata": {},
   "outputs": [
    {
     "data": {
      "image/png": "[encoded data removed]",
      "text/plain": [
       "<matplotlib.figure.Figure at 0x2279130aa90>"
      ]
     },
     "metadata": {},
     "output_type": "display_data"
    }
   ],
   "source": [
    "# new model used for displaying the feature maps\n",
    "model = Model(inputs=classifier.inputs, outputs=classifier.layers[0].output)\n",
    "\n",
    "# load the image with the required shape\n",
    "img = load_img('../../datasets/dataset1/orig_images/testing/s1/s1_8.jpg', target_size=(32, 32))\n",
    "\n",
    "# convert the image to an array\n",
    "img = img_to_array(img)\n",
    "\n",
    "# expand dimensions so that it represents a single 'sample'\n",
    "img = expand_dims(img, axis=0)\n",
    "\n",
    "# model feature maps \n",
    "feature_maps = model.predict(img)\n",
    "\n",
    "square = 8  # used for subplots \n",
    "ix = 1\n",
    "\n",
    "for _ in range(8):\n",
    "    for _ in range(4):\n",
    "        # specify subplot and turn of axis\n",
    "        ax = plt.subplot(square, square, ix)\n",
    "        ax.set_xticks([])\n",
    "        ax.set_yticks([])\n",
    "        plt.imshow(feature_maps[0, :, :, ix-1], cmap='gray')\n",
    "        ix += 1\n",
    "        \n",
    "# plt.savefig('DS1-featuresMaps_L4.jpg', dpi=300)\n",
    "plt.show()\n"
   ]
  },
  {
   "cell_type": "code",
   "execution_count": null,
   "metadata": {},
   "outputs": [],
   "source": []
  }
 ],
 "metadata": {
  "kernelspec": {
   "display_name": "Python 3",
   "language": "python",
   "name": "python3"
  },
  "language_info": {
   "codemirror_mode": {
    "name": "ipython",
    "version": 3
   },
   "file_extension": ".py",
   "mimetype": "text/x-python",
   "name": "python",
   "nbconvert_exporter": "python",
   "pygments_lexer": "ipython3",
   "version": "3.6.8"
  }
 },
 "nbformat": 4,
 "nbformat_minor": 2
}
