{
 "cells": [
  {
   "cell_type": "markdown",
   "metadata": {},
   "source": [
    "# Georgia teck dataset RoI CNN"
   ]
  },
  {
   "cell_type": "code",
   "execution_count": 22,
   "metadata": {},
   "outputs": [],
   "source": [
    "from keras.models import Sequential\n",
    "from keras.models import load_model\n",
    "from keras.models import Model\n",
    "from keras.layers import Conv2D\n",
    "from keras.layers import MaxPooling2D\n",
    "from keras.layers import Flatten\n",
    "from keras.layers import Dense\n",
    "from keras.layers.normalization import BatchNormalization\n",
    "from keras.preprocessing.image import ImageDataGenerator\n",
    "from keras.preprocessing.image import load_img\n",
    "from keras.preprocessing.image import img_to_array\n",
    "from keras.preprocessing import image\n",
    "from keras.callbacks import ModelCheckpoint\n",
    "\n",
    "from sklearn.metrics import classification_report, confusion_matrix\n",
    "import sklearn.metrics as metrics\n",
    "from sklearn.preprocessing import StandardScaler\n",
    "\n",
    "import tensorflow as tf"
   ]
  },
  {
   "cell_type": "code",
   "execution_count": 23,
   "metadata": {},
   "outputs": [],
   "source": [
    "import numpy as np\n",
    "from numpy import expand_dims\n",
    "import sys\n",
    "import os\n",
    "import matplotlib.pyplot as plt\n",
    "%matplotlib inline\n",
    "from PIL import Image\n",
    "from collections import Counter\n",
    "from pickle import load\n",
    "from pickle import dump"
   ]
  },
  {
   "cell_type": "markdown",
   "metadata": {},
   "source": [
    "## Model Building"
   ]
  },
  {
   "cell_type": "code",
   "execution_count": 24,
   "metadata": {},
   "outputs": [],
   "source": [
    "classifier = Sequential()"
   ]
  },
  {
   "cell_type": "code",
   "execution_count": 25,
   "metadata": {},
   "outputs": [],
   "source": [
    "classifier.add(Conv2D(32, (3, 3),  input_shape=(32, 32, 3), padding='same', activation=\"relu\" ))"
   ]
  },
  {
   "cell_type": "code",
   "execution_count": 26,
   "metadata": {},
   "outputs": [],
   "source": [
    "classifier.add(MaxPooling2D(pool_size = (2, 2)))"
   ]
  },
  {
   "cell_type": "code",
   "execution_count": 27,
   "metadata": {},
   "outputs": [],
   "source": [
    "classifier.add(Conv2D(64, (3, 3), padding='same', activation = 'relu'))"
   ]
  },
  {
   "cell_type": "code",
   "execution_count": 28,
   "metadata": {},
   "outputs": [],
   "source": [
    "classifier.add(BatchNormalization())"
   ]
  },
  {
   "cell_type": "code",
   "execution_count": 29,
   "metadata": {},
   "outputs": [],
   "source": [
    "classifier.add(MaxPooling2D(pool_size = (2, 2)))"
   ]
  },
  {
   "cell_type": "code",
   "execution_count": 30,
   "metadata": {},
   "outputs": [],
   "source": [
    "classifier.add(Conv2D(64, (3, 3), padding='same', activation = 'relu'))"
   ]
  },
  {
   "cell_type": "code",
   "execution_count": 31,
   "metadata": {},
   "outputs": [],
   "source": [
    "classifier.add(BatchNormalization())"
   ]
  },
  {
   "cell_type": "code",
   "execution_count": 32,
   "metadata": {},
   "outputs": [],
   "source": [
    "classifier.add(MaxPooling2D(pool_size = (2, 2)))"
   ]
  },
  {
   "cell_type": "code",
   "execution_count": 33,
   "metadata": {},
   "outputs": [],
   "source": [
    "classifier.add(Conv2D(128, (3, 3), padding='same', activation = 'relu'))"
   ]
  },
  {
   "cell_type": "code",
   "execution_count": 34,
   "metadata": {},
   "outputs": [],
   "source": [
    "classifier.add(BatchNormalization())"
   ]
  },
  {
   "cell_type": "code",
   "execution_count": 35,
   "metadata": {},
   "outputs": [],
   "source": [
    "classifier.add(MaxPooling2D(pool_size = (2, 2)))"
   ]
  },
  {
   "cell_type": "code",
   "execution_count": 36,
   "metadata": {},
   "outputs": [],
   "source": [
    "classifier.add(Flatten())"
   ]
  },
  {
   "cell_type": "code",
   "execution_count": 37,
   "metadata": {},
   "outputs": [],
   "source": [
    "classifier.add(Dense(activation=\"relu\", units=512))"
   ]
  },
  {
   "cell_type": "code",
   "execution_count": 38,
   "metadata": {},
   "outputs": [],
   "source": [
    "classifier.add(Dense(activation=\"softmax\", units=50))"
   ]
  },
  {
   "cell_type": "code",
   "execution_count": 39,
   "metadata": {},
   "outputs": [],
   "source": [
    "classifier.compile(optimizer = 'adam', loss = 'categorical_crossentropy', metrics = ['accuracy'])"
   ]
  },
  {
   "cell_type": "code",
   "execution_count": 40,
   "metadata": {},
   "outputs": [
    {
     "name": "stdout",
     "output_type": "stream",
     "text": [
      "Model: \"sequential_2\"\n",
      "_________________________________________________________________\n",
      "Layer (type)                 Output Shape              Param #   \n",
      "=================================================================\n",
      "conv2d_5 (Conv2D)            (None, 32, 32, 32)        896       \n",
      "_________________________________________________________________\n",
      "max_pooling2d_5 (MaxPooling2 (None, 16, 16, 32)        0         \n",
      "_________________________________________________________________\n",
      "conv2d_6 (Conv2D)            (None, 16, 16, 64)        18496     \n",
      "_________________________________________________________________\n",
      "batch_normalization_4 (Batch (None, 16, 16, 64)        256       \n",
      "_________________________________________________________________\n",
      "max_pooling2d_6 (MaxPooling2 (None, 8, 8, 64)          0         \n",
      "_________________________________________________________________\n",
      "conv2d_7 (Conv2D)            (None, 8, 8, 64)          36928     \n",
      "_________________________________________________________________\n",
      "batch_normalization_5 (Batch (None, 8, 8, 64)          256       \n",
      "_________________________________________________________________\n",
      "max_pooling2d_7 (MaxPooling2 (None, 4, 4, 64)          0         \n",
      "_________________________________________________________________\n",
      "conv2d_8 (Conv2D)            (None, 4, 4, 128)         73856     \n",
      "_________________________________________________________________\n",
      "batch_normalization_6 (Batch (None, 4, 4, 128)         512       \n",
      "_________________________________________________________________\n",
      "max_pooling2d_8 (MaxPooling2 (None, 2, 2, 128)         0         \n",
      "_________________________________________________________________\n",
      "flatten_2 (Flatten)          (None, 512)               0         \n",
      "_________________________________________________________________\n",
      "dense_3 (Dense)              (None, 512)               262656    \n",
      "_________________________________________________________________\n",
      "dense_4 (Dense)              (None, 50)                25650     \n",
      "=================================================================\n",
      "Total params: 419,506\n",
      "Trainable params: 418,994\n",
      "Non-trainable params: 512\n",
      "_________________________________________________________________\n"
     ]
    }
   ],
   "source": [
    "classifier.summary()"
   ]
  },
  {
   "cell_type": "markdown",
   "metadata": {},
   "source": [
    "### Model Training"
   ]
  },
  {
   "cell_type": "code",
   "execution_count": 41,
   "metadata": {},
   "outputs": [
    {
     "name": "stdout",
     "output_type": "stream",
     "text": [
      "Found 15405 images belonging to 50 classes.\n",
      "Found 3953 images belonging to 50 classes.\n"
     ]
    }
   ],
   "source": [
    "bat_size = 32\n",
    "input_size = 32\n",
    "fold = 1\n",
    "\n",
    "# initializing a train datagenerator\n",
    "train_datagen = ImageDataGenerator(rescale=1./255)\n",
    "\n",
    "# initializing a test datagenerator\n",
    "test_datagen = ImageDataGenerator(rescale=1./255)\n",
    "\n",
    "# preprocessing for trainig set\n",
    "train_set = train_datagen.flow_from_directory(\n",
    "                            f'../../datasets/dataset2/fold {fold}/ROI_images/ROI_dataset/training/', \n",
    "                            target_size=(input_size, input_size), \n",
    "                            batch_size=bat_size,\n",
    "                            class_mode='categorical'\n",
    "                                            )\n",
    "\n",
    "# preprocessing for test set\n",
    "test_set = test_datagen.flow_from_directory(\n",
    "                            f'../../datasets/dataset2/fold {fold}/ROI_images/ROI_dataset/testing/',\n",
    "                            target_size=(input_size, input_size),\n",
    "                            batch_size=bat_size,\n",
    "                            shuffle=False,\n",
    "                            class_mode='categorical'\n",
    "                                            )"
   ]
  },
  {
   "cell_type": "code",
   "execution_count": 42,
   "metadata": {},
   "outputs": [],
   "source": [
    "# saving the best weights of the model (where the validation accuracy is best)\n",
    "filepath = \"CNN-ROI-DS2-bestWeights.hdf5\"\n",
    "checkpoint = ModelCheckpoint(\n",
    "                            filepath,\n",
    "                            monitor='val_acc',\n",
    "                            verbose=1,\n",
    "                            save_best_only=True,\n",
    "                            mode='max'\n",
    "                            )"
   ]
  },
  {
   "cell_type": "code",
   "execution_count": 43,
   "metadata": {
    "scrolled": false
   },
   "outputs": [
    {
     "name": "stdout",
     "output_type": "stream",
     "text": [
      "WARNING:tensorflow:From c:\\users\\ouss\\appdata\\local\\programs\\python\\python36\\lib\\site-packages\\tensorflow\\python\\ops\\math_grad.py:1250: add_dispatch_support.<locals>.wrapper (from tensorflow.python.ops.array_ops) is deprecated and will be removed in a future version.\n",
      "Instructions for updating:\n",
      "Use tf.where in 2.0, which has the same broadcast rule as np.where\n",
      "Epoch 1/25\n",
      "482/482 [==============================] - 19s 38ms/step - loss: 2.9589 - acc: 0.2002 - val_loss: 3.3069 - val_acc: 0.1925\n",
      "\n",
      "Epoch 00001: val_acc improved from -inf to 0.19251, saving model to bestWeights.hdf5\n",
      "Epoch 2/25\n",
      "482/482 [==============================] - 15s 31ms/step - loss: 2.0576 - acc: 0.4003 - val_loss: 2.3688 - val_acc: 0.3559\n",
      "\n",
      "Epoch 00002: val_acc improved from 0.19251 to 0.35593, saving model to bestWeights.hdf5\n",
      "Epoch 3/25\n",
      "482/482 [==============================] - 14s 30ms/step - loss: 1.5828 - acc: 0.5251 - val_loss: 2.9634 - val_acc: 0.3129\n",
      "\n",
      "Epoch 00003: val_acc did not improve from 0.35593\n",
      "Epoch 4/25\n",
      "482/482 [==============================] - 14s 29ms/step - loss: 1.1931 - acc: 0.6315 - val_loss: 2.4200 - val_acc: 0.4032\n",
      "\n",
      "Epoch 00004: val_acc improved from 0.35593 to 0.40324, saving model to bestWeights.hdf5\n",
      "Epoch 5/25\n",
      "482/482 [==============================] - 13s 27ms/step - loss: 0.9436 - acc: 0.7020 - val_loss: 1.7573 - val_acc: 0.5186\n",
      "\n",
      "Epoch 00005: val_acc improved from 0.40324 to 0.51859, saving model to bestWeights.hdf5\n",
      "Epoch 6/25\n",
      "482/482 [==============================] - 12s 26ms/step - loss: 0.7690 - acc: 0.7550 - val_loss: 2.3703 - val_acc: 0.4478\n",
      "\n",
      "Epoch 00006: val_acc did not improve from 0.51859\n",
      "Epoch 7/25\n",
      "482/482 [==============================] - 13s 26ms/step - loss: 0.6426 - acc: 0.7944 - val_loss: 2.1100 - val_acc: 0.5188oss: 0\n",
      "\n",
      "Epoch 00007: val_acc improved from 0.51859 to 0.51885, saving model to bestWeights.hdf5\n",
      "Epoch 8/25\n",
      "482/482 [==============================] - 14s 29ms/step - loss: 0.5058 - acc: 0.8354 - val_loss: 2.8219 - val_acc: 0.3956\n",
      "\n",
      "Epoch 00008: val_acc did not improve from 0.51885\n",
      "Epoch 9/25\n",
      "482/482 [==============================] - 25s 51ms/step - loss: 0.4395 - acc: 0.8571 - val_loss: 1.7494 - val_acc: 0.5793\n",
      "\n",
      "Epoch 00009: val_acc improved from 0.51885 to 0.57931, saving model to bestWeights.hdf5\n",
      "Epoch 10/25\n",
      "482/482 [==============================] - 19s 39ms/step - loss: 0.3690 - acc: 0.8794 - val_loss: 1.8559 - val_acc: 0.5581\n",
      "\n",
      "Epoch 00010: val_acc did not improve from 0.57931\n",
      "Epoch 11/25\n",
      "482/482 [==============================] - 19s 40ms/step - loss: 0.2935 - acc: 0.9022 - val_loss: 3.0064 - val_acc: 0.4700\n",
      "\n",
      "Epoch 00011: val_acc did not improve from 0.57931\n",
      "Epoch 12/25\n",
      "482/482 [==============================] - 19s 40ms/step - loss: 0.2965 - acc: 0.9025 - val_loss: 5.9319 - val_acc: 0.2955\n",
      "\n",
      "Epoch 00012: val_acc did not improve from 0.57931\n",
      "Epoch 13/25\n",
      "482/482 [==============================] - 19s 39ms/step - loss: 0.2698 - acc: 0.9129 - val_loss: 3.2916 - val_acc: 0.4670\n",
      "\n",
      "Epoch 00013: val_acc did not improve from 0.57931\n",
      "Epoch 14/25\n",
      "482/482 [==============================] - 22s 45ms/step - loss: 0.2454 - acc: 0.9181 - val_loss: 1.8674 - val_acc: 0.6281\n",
      "\n",
      "Epoch 00014: val_acc improved from 0.57931 to 0.62813, saving model to bestWeights.hdf5\n",
      "Epoch 15/25\n",
      "482/482 [==============================] - 18s 37ms/step - loss: 0.2138 - acc: 0.9313 - val_loss: 2.7615 - val_acc: 0.5145\n",
      "\n",
      "Epoch 00015: val_acc did not improve from 0.62813\n",
      "Epoch 16/25\n",
      "482/482 [==============================] - 18s 38ms/step - loss: 0.2344 - acc: 0.9236 - val_loss: 1.6865 - val_acc: 0.6625\n",
      "\n",
      "Epoch 00016: val_acc improved from 0.62813 to 0.66253, saving model to bestWeights.hdf5\n",
      "Epoch 17/25\n",
      "482/482 [==============================] - 18s 37ms/step - loss: 0.1868 - acc: 0.9405 - val_loss: 2.6076 - val_acc: 0.5697\n",
      "\n",
      "Epoch 00017: val_acc did not improve from 0.66253\n",
      "Epoch 18/25\n",
      "482/482 [==============================] - 18s 38ms/step - loss: 0.1855 - acc: 0.9397 - val_loss: 1.9751 - val_acc: 0.6438ss: 0.1790 - acc: 0.943 - ETA - ETA: 3s - - ETA: 1s -\n",
      "\n",
      "Epoch 00018: val_acc did not improve from 0.66253\n",
      "Epoch 19/25\n",
      "482/482 [==============================] - 22s 46ms/step - loss: 0.1493 - acc: 0.9497 - val_loss: 3.2761 - val_acc: 0.4943\n",
      "\n",
      "Epoch 00019: val_acc did not improve from 0.66253\n",
      "Epoch 20/25\n",
      "482/482 [==============================] - 23s 47ms/step - loss: 0.1545 - acc: 0.9494 - val_loss: 2.0383 - val_acc: 0.6461\n",
      "\n",
      "Epoch 00020: val_acc did not improve from 0.66253\n",
      "Epoch 21/25\n",
      "482/482 [==============================] - 23s 48ms/step - loss: 0.1801 - acc: 0.9437 - val_loss: 2.7509 - val_acc: 0.5591\n",
      "\n",
      "Epoch 00021: val_acc did not improve from 0.66253\n",
      "Epoch 22/25\n",
      "482/482 [==============================] - 20s 42ms/step - loss: 0.1591 - acc: 0.9476 - val_loss: 2.0638 - val_acc: 0.6420\n",
      "\n",
      "Epoch 00022: val_acc did not improve from 0.66253\n",
      "Epoch 23/25\n",
      "482/482 [==============================] - 20s 41ms/step - loss: 0.1432 - acc: 0.9546 - val_loss: 2.4096 - val_acc: 0.5965\n",
      "\n",
      "Epoch 00023: val_acc did not improve from 0.66253\n",
      "Epoch 24/25\n",
      "482/482 [==============================] - 16s 33ms/step - loss: 0.1654 - acc: 0.9450 - val_loss: 3.3340 - val_acc: 0.5118\n",
      "\n",
      "Epoch 00024: val_acc did not improve from 0.66253\n",
      "Epoch 25/25\n",
      "482/482 [==============================] - 19s 39ms/step - loss: 0.1383 - acc: 0.9553 - val_loss: 5.3267 - val_acc: 0.3974\n",
      "\n",
      "Epoch 00025: val_acc did not improve from 0.66253\n"
     ]
    },
    {
     "data": {
      "text/plain": [
       "<keras.callbacks.History at 0x1b00fc63358>"
      ]
     },
     "execution_count": 43,
     "metadata": {},
     "output_type": "execute_result"
    }
   ],
   "source": [
    "# training our model with 25 epocks\n",
    "classifier.fit_generator(\n",
    "                        train_set,\n",
    "                        steps_per_epoch=15405//bat_size + 1,\n",
    "                        epochs=25,\n",
    "                        callbacks=[checkpoint],\n",
    "                        validation_data=test_set,\n",
    "                        validation_steps=3953//bat_size + 1\n",
    "                        )"
   ]
  },
  {
   "cell_type": "markdown",
   "metadata": {},
   "source": [
    "### Accuracy and loss Graphs"
   ]
  },
  {
   "cell_type": "code",
   "execution_count": 44,
   "metadata": {},
   "outputs": [],
   "source": [
    "# saving the model history (accuracy and loss)\n",
    "with open('CNN-ROI-DS2-history', 'wb') as handle: \n",
    "    dump(classifier.history, handle)"
   ]
  },
  {
   "cell_type": "code",
   "execution_count": 45,
   "metadata": {},
   "outputs": [],
   "source": [
    "# loading the model history\n",
    "with open('CNN-ROI-DS2-history', 'rb') as handle: \n",
    "    oldhstry = load(handle)"
   ]
  },
  {
   "cell_type": "code",
   "execution_count": 46,
   "metadata": {},
   "outputs": [
    {
     "data": {
      "image/png": "[encoded data removed]",
      "text/plain": [
       "<matplotlib.figure.Figure at 0x1b0427c6ba8>"
      ]
     },
     "metadata": {
      "needs_background": "light"
     },
     "output_type": "display_data"
    },
    {
     "data": {
      "image/png": "[encoded data removed]",
      "text/plain": [
       "<matplotlib.figure.Figure at 0x1b033fe7a58>"
      ]
     },
     "metadata": {
      "needs_background": "light"
     },
     "output_type": "display_data"
    }
   ],
   "source": [
    "acc = oldhstry.history['acc']\n",
    "val_acc = oldhstry.history['val_acc']\n",
    "plt.plot(acc,  label='Training acc')\n",
    "plt.plot(val_acc,  label='Validation acc')\n",
    "plt.title('Training and validation accuracy')\n",
    "plt.xlabel('Epochs')\n",
    "plt.ylabel('accuracy')\n",
    "plt.legend()\n",
    "# plt.savefig('training and validation looss.jpg', dpi=300)\n",
    "plt.show()\n",
    "\n",
    "acc = oldhstry.history['loss']\n",
    "val_acc = oldhstry.history['val_loss']\n",
    "plt.plot(acc,  label='Training loss')\n",
    "plt.plot(val_acc,  label='Validation loss')\n",
    "plt.title('Training and validation loss')\n",
    "plt.xlabel('Epochs')\n",
    "plt.ylabel('loss')\n",
    "plt.legend()\n",
    "# plt.savefig('training and validation accuray.jpg', dpi=300)\n",
    "plt.show()"
   ]
  },
  {
   "cell_type": "markdown",
   "metadata": {},
   "source": [
    "### Confusion matrix"
   ]
  },
  {
   "cell_type": "code",
   "execution_count": 49,
   "metadata": {},
   "outputs": [
    {
     "name": "stdout",
     "output_type": "stream",
     "text": [
      "[[40  0  1  0  1  2  0  1  4  2  0  0  0  7  0  0  0  2  3  0  0  0  1  9\n",
      "   0  0  0  0  0  0  0  0  0  1  2  0  0  0  0  0  0  3  0  0  2  0  0  0\n",
      "   0  1]\n",
      " [ 0 48  1  1  0  0  0  0  0  0  8  1  0  0  0  2  0  1  0  0  0  2  0  0\n",
      "   0  0  0  0  0  0  0  0  0  0  0  0  0  0  1  0  0  0  3  3  0  0  2  0\n",
      "   0  0]\n",
      " [ 0  0 56  0  0  2  1  0  3  0  1  0  1  2  0  0  0  0  0  0  0  0  0  0\n",
      "   0  0  0  0  0  0  1  0  0  0  0  0  1  0  0  0  0  1  0  0  0  0  0  0\n",
      "   0  2]\n",
      " [ 0  0  0 37  4  0  0  1  0  0  0  0  5  0  0  0  0  0  5  0  2  0 12  0\n",
      "   0  5  0  0  1  0  0  0  0  1  0  2  2  0  0  0  3  0  0  0  0  1  0  0\n",
      "   3  0]\n",
      " [ 0  1  0  0 64  0  0  0  2  0  0  0  0  0  0  0  1  0  3  0  2  0  1  3\n",
      "   0  0  0  0  0  0  1  0  0  0  0  0  5  0  0  0  0  1  0  0  0  0  0  0\n",
      "   0  0]\n",
      " [ 1  0  0  0  0 60  0  1  3  2  4  0  0  2  0  0  0  0  1  0  0  0  0  3\n",
      "   0  0  0  0  0  0  1  0  0  1  0  0  0  2  0  0  0  1  0  0  2  0  0  0\n",
      "   0  0]\n",
      " [ 0  1  1  0  1  5 41  0  0  0  1  0  0  4  0  2  0  1  0  0  0  0  0  0\n",
      "   0  0  0  2  0  0  0  0  0  0  0  0  0  0  0  1  1  0  0  0  1  1  0  0\n",
      "   0  0]\n",
      " [ 1  0  0  0  4  0  0 14  0  7  0  0  0  7  0  0  2  0 10  0  1  3  0  8\n",
      "   0  0  0  0  0  0  0  0  0  0  0  0  0  1  0  0  1 19  0  0  0  1  0  4\n",
      "   1  0]\n",
      " [ 3  0  0  0  0  6  0  0 48  0  9  0  0  0  0  0  0  1  0  1  2  0  0  3\n",
      "   0  0  0  0  0  0  0  1  1  6  0  0  0  3  0  0  0  0  0  0  0  0  0  0\n",
      "   0  0]\n",
      " [ 0  0  0  0  1  2  0  0  0 67  0  0  0  1  0  0  0  0  4  0  0  0  0  1\n",
      "   0  0  0  0  0  0  0  0  0  0  0  0  0  4  0  0  0  2  0  0  0  0  0  2\n",
      "   0  0]\n",
      " [ 0  1  0  0  0  3  1  1  1  0 59  0  0  0  0  1  0  1  0  3  0  4  0  1\n",
      "   0  0  0  0  0  0  0  0  0  4  0  0  0  1  0  2  0  0  0  1  0  0  0  0\n",
      "   0  0]\n",
      " [ 0  0  0  3  0  0  0  0  1  0  8 62  0  0  0  0  0  1  0  0  0  1  0  0\n",
      "   0  0  0  0  0  0  0  0  0  0  0  1  0  0  1  4  0  0  1  1  0  0  0  0\n",
      "   0  0]\n",
      " [ 0  0  0  5  1  0  0  0  0  0  0  0 50  2  0  0  0  0  0  0  2  0 12  0\n",
      "   0  0  0  1  0  1  1  0  0  0  1  4  0  0  1  0  0  0  0  1  0  0  0  0\n",
      "   1  0]\n",
      " [ 1  0  1  2  4  0  0  2  1  0  0  0  2 28  0  0  2  0  5  0  3  1  0  9\n",
      "   0  0  0  0  0  0  0  0  0  0  0  0  2  0  0  0  2 15  0  0  0  1  0  0\n",
      "   3  0]\n",
      " [ 0  0  0  0  0  0  0  0  0  0  0  0  0  0 83  0  0  0  0  0  0  0  0  0\n",
      "   0  0  0  1  0  0  0  0  0  0  0  0  0  0  0  0  0  0  0  0  0  0  0  0\n",
      "   0  0]\n",
      " [ 4  0  1  0  0  0  0  0  0  0  8  0  0  0  0 45  5  0  0  0  0  1  0  0\n",
      "   0  0  0  0  0  0  4  0  0  0  0  0  0  0  2 11  0  0  0  1  0  2  0  0\n",
      "   0  0]\n",
      " [ 0  0  0  0  1  0  0  0  0  0  0  0  0  1  0  2 64  2  0  0  0  0  0 10\n",
      "   0  0  0  0  0  0  0  0  0  0  0  0  1  0  0  1  2  0  0  0  0  0  0  0\n",
      "   0  0]\n",
      " [ 2  0  0  0  1  2  0  0  3  2  5  1  0  0  0  0  0 48  0  2  0  0  0  9\n",
      "   0  0  0  0  0  0  0  0  0  4  0  0  0  1  0  2  0  1  0  0  0  0  0  1\n",
      "   0  0]\n",
      " [ 0  0  0  2  2  1  0  0  0  1  0  0  0  3  0  0  0  0 43  0  1  0  2  0\n",
      "   0  0  0  0  1  0  0  0  0  0  0  9  1  0  0  0  3  0  0  0  1  1  0  0\n",
      "  13  0]\n",
      " [ 0  0  0  0  0  1  0  0  0  0  4  1  0  0  0  0  0  0  0 72  0  0  0  0\n",
      "   0  0  0  0  1  0  0  0  0  0  0  0  0  0  0  0  0  0  0  0  0  0  0  0\n",
      "   0  0]\n",
      " [ 0  0  0  0  7  0  0  1  0  0  0  0  1  0  0  0  0  0  2  0 51  0  3  0\n",
      "   0  2  0  0  0  0  0  0  0  0  0  1  0  0  0  0  0  0  0  0  0  2  0  0\n",
      "   5  0]\n",
      " [ 0  0  0  0  0  0  0  0  0  0  1  0  0  0  0  0  0  0  0  2  0 49  0  0\n",
      "   0  0  0  0  0  0  0  0  0  0  0  0  0  0  0  1  0  0  0  1  0  0  0  0\n",
      "   0  0]\n",
      " [ 0  0  0  0  2  0  0  0  0  0  0  0  4  0  0  0  0  0  0  0  0  0 73  0\n",
      "   0  0  0  0  0  0  0  0  0  0  0  2  0  0  0  0  0  0  0  0  0  0  0  0\n",
      "   3  0]\n",
      " [ 1  0  0  0  0  2  0  0  0  0  3  0  0  0  0  1  0  0  1  0  0  0  0 75\n",
      "   0  0  0  0  0  0  0  0  0  0  0  0  0  0  0  0  0  0  0  0  0  0  0  0\n",
      "   1  0]\n",
      " [ 0  1  0  0  4  0  0  1  0  1  0  0  0  5  0  1  0  3  4  1  0  5  0  4\n",
      "  22  1  0  0  0  0  3  0  0  1  0  0  0  0  0  0  0  4  1  0  0  0  0  0\n",
      "   0  0]\n",
      " [ 0  0  0  3  4  0  0  0  0  1  0  0  0  0  0  0  0  0 11  0  0  0  7  0\n",
      "   0 30  0  0  0  0  0  0  0  0  1  7  0  0  0  0  0  3  0  0  2  1  1  0\n",
      "   1  0]\n",
      " [ 0  0  0  1  0  1  0  2  0  0  0  0  0  0  0  1  0  6  0  0  0  0  0  0\n",
      "   0  0 44  0  0  1  0  0  0  0  1  0  0  0  0  0  0  0  0  0  0  0  0  0\n",
      "   1  0]\n",
      " [ 0  0  0  0  0  0  0  0  0  0  0  1  0  1  0  0  0  1  1  0  0  0  0  0\n",
      "   0  0  2 70  0  1  0  0  0  0  0  1  0  0  0  1  0  0  0  0  0  0  0  0\n",
      "   2  0]\n",
      " [ 2  0  0  0  1  2  0  0  3  1  3  0  0  0  1  1  0  8  0  0  0  0  0  0\n",
      "   0  0  0  0 48  0  0  0  0  2  2  0  0  4  2  0  0  4  0  0  0  0  0  0\n",
      "   0  0]\n",
      " [ 0  0  0  1  0  0  0  0  0  0  0  0  2  0  0  0  0  0  0  0  0  0  0  0\n",
      "   0  0  1  0  2 57  0  0  0  0  0  0  0  0  0  0  0  0  0  0  0  0  2  0\n",
      "   0  0]\n",
      " [ 2  0  0  0  7  0  1  0  0  0  1  0  1  4  0  3  0  0  2  0  1  0  9  0\n",
      "   0  0  0  1  0  0 37  0  0  2  0  0  0  0  1  1  1  2  0  0  1  2  0  1\n",
      "   2  2]\n",
      " [ 0  0  0  1  0  0  0  0  2  0  0  0  0  0  0  0  0  0  0  0  0  0  0  0\n",
      "   0  0  0  0  0  0  0 58  1  0  0  0  0  0  0  0  0  0  0  0  0  0  0  0\n",
      "   0  0]\n",
      " [ 0  0  1  1  1  0  0  0  3  0  0  0  2  0  0  0  0  0  0  0  0  9  0  0\n",
      "   0  2  1  1  0  0  0  4 48  2  1  0  0  0  0  1  0  0  0  0  0  2  0  0\n",
      "   2  3]\n",
      " [ 1  0  0  0  1  2  0  0  2  1 20  0  0  0  0  0  0  0  0  0  0  0  0  3\n",
      "   0  0  0  0  0  0  0  0  0 51  0  0  0  1  0  2  0  0  0  0  0  0  0  0\n",
      "   0  0]\n",
      " [ 0  0  0  2  0  0  0  0  0  0  0  2  2  0  0  0  0  1  0  1  0  0  1  0\n",
      "   0  0  0  2 19  4  0  0  0  0 38  2  0  0  4  0  0  3  0  0  0  0  0  0\n",
      "   3  0]\n",
      " [ 0  0  0  0  0  0  0  0  0  0  0  0  0  0  0  0  0  0  0  0  0  0  0  0\n",
      "   0  0  0  1  0  0  0  0  0  0  0 70  0  0  0  0  8  0  0  0  0  0  0  0\n",
      "   5  0]\n",
      " [ 0  0  0  0  8  0  0  1  0  0  0  0  0  0  0  0  5  1  1  0  0  0  0  5\n",
      "   0  0  0  0  0  0  2  0  0  0  0  1 58  0  0  0  2  0  0  0  0  0  0  0\n",
      "   0  0]\n",
      " [ 0  0  0  0  0  2  0  0  1  3  0  0  0  0  0  0  0  0  0  1  0  2  0  1\n",
      "   0  0  0  0  0  0  1  0  0  1  0  0  0 71  0  0  0  0  0  0  0  0  0  1\n",
      "   0  0]\n",
      " [ 1  0  0  1  0  0  0  0  0  0  5  3  1  0  0  3  1  1  0  0  0  0  0  0\n",
      "   0  0  0  0  2  0  1  0  0  0  0  1  1  0 35  8  7  0  2  4  0  0  0  0\n",
      "   0  0]\n",
      " [ 1  0  0  0  3  0  0  2  0  0  4  1  0  0  0  5  8  0  0  0  0  0  0  9\n",
      "   0  0  0  0  0  0  1  0  1  0  0  0  0  0  0 48  0  0  0  1  0  0  0  0\n",
      "   0  0]\n",
      " [ 0  0  0  0 10  0  0  0  3  0  0  0  1  6  0  0  0  0  8  0  0  0  3  4\n",
      "   0  0  0  0  0  0  0  0  0  0  0  0  4  0  0  3 35  1  0  0  1  2  0  0\n",
      "   3  0]\n",
      " [ 1  0  0  0  5  1  0  1  0  3  1  0  0  1  0  0  1  7  5  0  0  0  0  2\n",
      "   1  0  0  0  0  0  0  0  0  0  0  0  0  0  0  0  0 54  0  0  0  0  0  1\n",
      "   0  0]\n",
      " [ 0  1  0  4  0  0  0  0  0  0  0  0  0  1  0  0  0  0  0  0  0  1  0  0\n",
      "   0  0  0  0  0  1  0  0  0  0  0  0  1  1  0  1  0  0 59  0  0  0  0  0\n",
      "   0  1]\n",
      " [ 0  0  0  0  0  0  0  0  0  0  1  2  0  2  0  0  0  0  0  1  0  0  0  0\n",
      "   1  0  0  0  3  0  0  0  1  0  0  0  0  0  2 13  0  0  4 53  0  0  0  0\n",
      "   1  0]\n",
      " [ 0  0  2  0  0  1  6  1  0  0  0  0  0  1  0  0  0  0  0  0  0  0  0  0\n",
      "   0  1  0  0  0  0  0  0  0  0  0  0  0  0  0  0  0  0  0  0 56  3  0  2\n",
      "   0  0]\n",
      " [ 1  0  0  0  3  1  0  1  2  0  0  0  0  4  0  1  0  0  4  0  1  0  1  2\n",
      "   0  0  0  0  0  0  0  0  1  0  0  0  1  0  0  0  1  4  0  0  0 54  0  0\n",
      "   1  1]\n",
      " [ 0  0  0  0  0  0  0  0  0  0  0  0  0  0  0  0  0  0  0  0  0  0  0  0\n",
      "   0  0  0  0  0  0  0  0  0  0  0  0  0  0  0  0  0  0  1  0  0  0 69  0\n",
      "   0  0]\n",
      " [ 1  0  0  0  0  1  0  0  0  3  1  0  0  0  0  0  0  0  1  0  0  0  0  0\n",
      "   0  0  0  0  0  0  0  0  0  0  0  0  0  5  0  0  0  3  0  0  0  0  0 65\n",
      "   0  0]\n",
      " [ 0  0  0  1  1  0  0  0  0  0  0  0  2  2  0  0  0  0  2  0  0  0  3  2\n",
      "   0  0  0  1  0  0  0  0  0  0  0  3  0  0  0  0  0  0  0  0  0  2  0  0\n",
      "  65  0]\n",
      " [ 5  0  6  0  1  2  0  0  4  0  1  0  0  0  0  1  0  0  0  0  0  1  0  0\n",
      "   0  0  0  1  0  0  1  2  1  0  2  0  2  0  0  1  0  0  0  0  3  1  0  0\n",
      "   0 47]]\n"
     ]
    }
   ],
   "source": [
    "classifier = load_model('CNN-ROI-DS2-bestWeights.hdf5')           # loading the model with the best weights\n",
    "np.set_printoptions(threshold=sys.maxsize)\n",
    "Y_pred = classifier.predict_generator(test_set, 3953//bat_size + 1)\n",
    "y_pred = np.argmax(Y_pred, axis=1)\n",
    "conf_mat = confusion_matrix(test_set.classes, y_pred)\n",
    "print(conf_mat)"
   ]
  },
  {
   "cell_type": "code",
   "execution_count": 50,
   "metadata": {},
   "outputs": [
    {
     "data": {
      "text/plain": [
       "<matplotlib.text.Text at 0x1b047455e48>"
      ]
     },
     "execution_count": 50,
     "metadata": {},
     "output_type": "execute_result"
    },
    {
     "data": {
      "image/png": "[encoded data removed]",
      "text/plain": [
       "<matplotlib.figure.Figure at 0x1b018b64cf8>"
      ]
     },
     "metadata": {
      "needs_background": "light"
     },
     "output_type": "display_data"
    }
   ],
   "source": [
    "plt.imshow(conf_mat, cmap=plt.cm.Blues)\n",
    "plt.colorbar()\n",
    "plt.title('Matrice de confusion')\n",
    "# plt.savefig('confMat.jpg', format='jpg', dpi=300)"
   ]
  },
  {
   "cell_type": "markdown",
   "metadata": {},
   "source": [
    "#### Model Report"
   ]
  },
  {
   "cell_type": "code",
   "execution_count": 51,
   "metadata": {},
   "outputs": [],
   "source": [
    "true_classes = test_set.classes\n",
    "class_labels = list(test_set.class_indices.keys())  "
   ]
  },
  {
   "cell_type": "code",
   "execution_count": 52,
   "metadata": {},
   "outputs": [
    {
     "name": "stdout",
     "output_type": "stream",
     "text": [
      "              precision    recall  f1-score   support\n",
      "\n",
      "         s01       0.59      0.49      0.53        82\n",
      "         s02       0.91      0.66      0.76        73\n",
      "         s03       0.80      0.79      0.79        71\n",
      "         s04       0.57      0.44      0.50        84\n",
      "         s05       0.45      0.76      0.57        84\n",
      "         s06       0.61      0.71      0.66        84\n",
      "         s07       0.82      0.65      0.73        63\n",
      "         s08       0.47      0.17      0.25        84\n",
      "         s09       0.56      0.57      0.56        84\n",
      "         s10       0.71      0.80      0.75        84\n",
      "         s11       0.40      0.70      0.51        84\n",
      "         s12       0.84      0.74      0.78        84\n",
      "         s13       0.68      0.60      0.64        83\n",
      "         s14       0.33      0.33      0.33        84\n",
      "         s15       0.99      0.99      0.99        84\n",
      "         s16       0.65      0.54      0.59        84\n",
      "         s17       0.72      0.76      0.74        84\n",
      "         s18       0.56      0.57      0.57        84\n",
      "         s19       0.37      0.51      0.43        84\n",
      "         s20       0.86      0.91      0.88        79\n",
      "         s21       0.77      0.68      0.72        75\n",
      "         s22       0.62      0.91      0.74        54\n",
      "         s23       0.57      0.87      0.69        84\n",
      "         s24       0.46      0.89      0.61        84\n",
      "         s25       0.92      0.35      0.51        62\n",
      "         s26       0.73      0.42      0.53        72\n",
      "         s27       0.92      0.76      0.83        58\n",
      "         s28       0.86      0.86      0.86        81\n",
      "         s29       0.62      0.57      0.60        84\n",
      "         s30       0.88      0.88      0.88        65\n",
      "         s31       0.69      0.44      0.54        84\n",
      "         s32       0.89      0.94      0.91        62\n",
      "         s33       0.89      0.57      0.70        84\n",
      "         s34       0.67      0.61      0.64        84\n",
      "         s35       0.79      0.45      0.58        84\n",
      "         s36       0.67      0.83      0.74        84\n",
      "         s37       0.73      0.69      0.71        84\n",
      "         s38       0.76      0.85      0.80        84\n",
      "         s39       0.71      0.45      0.56        77\n",
      "         s40       0.48      0.57      0.52        84\n",
      "         s41       0.53      0.42      0.47        84\n",
      "         s42       0.45      0.64      0.53        84\n",
      "         s43       0.83      0.83      0.83        71\n",
      "         s44       0.80      0.63      0.71        84\n",
      "         s45       0.81      0.77      0.79        73\n",
      "         s46       0.71      0.64      0.67        84\n",
      "         s47       0.93      0.99      0.96        70\n",
      "         s48       0.84      0.81      0.83        80\n",
      "         s49       0.56      0.77      0.65        84\n",
      "         s50       0.82      0.57      0.68        82\n",
      "\n",
      "    accuracy                           0.66      3953\n",
      "   macro avg       0.70      0.67      0.67      3953\n",
      "weighted avg       0.69      0.66      0.66      3953\n",
      "\n"
     ]
    }
   ],
   "source": [
    "# Calculating the model report\n",
    "report = metrics.classification_report(true_classes, y_pred, target_names=class_labels)\n",
    "print(report) "
   ]
  },
  {
   "cell_type": "markdown",
   "metadata": {},
   "source": [
    "### Displaying feature maps"
   ]
  },
  {
   "cell_type": "code",
   "execution_count": 56,
   "metadata": {},
   "outputs": [
    {
     "data": {
      "image/png": "[encoded data removed]",
      "text/plain": [
       "<matplotlib.figure.Figure at 0x1b0448b3978>"
      ]
     },
     "metadata": {},
     "output_type": "display_data"
    }
   ],
   "source": [
    "# new model used for displaying the feature maps\n",
    "model = Model(inputs=classifier.inputs, outputs=classifier.layers[0].output)\n",
    "\n",
    "# load the image with the required shape\n",
    "img = load_img('../../datasets/dataset2/fold 1/ROI_images/ROI_dataset/testing/s01/s01_01_0.jpg', target_size=(32, 32))\n",
    "# convert the image to an array\n",
    "img = img_to_array(img)\n",
    "\n",
    "# expand dimensions so that it represents a single 'sample'\n",
    "img = expand_dims(img, axis=0)\n",
    "\n",
    "# model feature maps \n",
    "feature_maps = model.predict(img)\n",
    "\n",
    "square = 8\n",
    "ix = 1\n",
    "for _ in range(8):\n",
    "    for _ in range(4):\n",
    "        # specify subplot and turn of axis\n",
    "        ax = plt.subplot(square, square, ix)\n",
    "        ax.set_xticks([])\n",
    "        ax.set_yticks([])\n",
    "        plt.imshow(feature_maps[0, :, :, ix-1], cmap='gray')\n",
    "        ix += 1\n",
    "        \n",
    "# plt.savefig('DS1-featuresMaps_L4.jpg', dpi=300)\n",
    "plt.show()"
   ]
  },
  {
   "cell_type": "markdown",
   "metadata": {},
   "source": [
    "## Decision Module (noted as KNN)"
   ]
  },
  {
   "cell_type": "code",
   "execution_count": 57,
   "metadata": {},
   "outputs": [
    {
     "name": "stdout",
     "output_type": "stream",
     "text": [
      "image class : 23\n",
      "image class : 0\n",
      "image class : 0\n",
      "image class : 1\n",
      "image class : 1\n",
      "image class : 1\n",
      "image class : 2\n",
      "image class : 2\n",
      "image class : 2\n",
      "image class : 3\n",
      "image class : 3\n",
      "image class : 3\n",
      "image class : 4\n",
      "image class : 4\n",
      "image class : 4\n",
      "image class : 5\n",
      "image class : 5\n",
      "image class : 5\n",
      "image class : 6\n",
      "image class : 6\n",
      "image class : 6\n",
      "image class : 7\n",
      "image class : 41\n",
      "image class : 41\n",
      "image class : 8\n",
      "image class : 8\n",
      "image class : 8\n",
      "image class : 9\n",
      "image class : 9\n",
      "image class : 9\n",
      "image class : 10\n",
      "image class : 10\n",
      "image class : 10\n",
      "image class : 11\n",
      "image class : 11\n",
      "image class : 11\n",
      "image class : 12\n",
      "image class : 12\n",
      "image class : 12\n",
      "image class : 13\n",
      "image class : 13\n",
      "image class : 13\n",
      "image class : 14\n",
      "image class : 14\n",
      "image class : 14\n",
      "image class : 15\n",
      "image class : 15\n",
      "image class : 15\n",
      "image class : 16\n",
      "image class : 16\n",
      "image class : 16\n",
      "image class : 17\n",
      "image class : 17\n",
      "image class : 17\n",
      "image class : 18\n",
      "image class : 18\n",
      "image class : 18\n",
      "image class : 19\n",
      "image class : 19\n",
      "image class : 19\n",
      "image class : 20\n",
      "image class : 20\n",
      "image class : 20\n",
      "image class : 21\n",
      "image class : 21\n",
      "image class : 21\n",
      "image class : 22\n",
      "image class : 22\n",
      "image class : 22\n",
      "image class : 23\n",
      "image class : 23\n",
      "image class : 23\n",
      "image class : 24\n",
      "image class : 13\n",
      "image class : 24\n",
      "image class : 18\n",
      "image class : 25\n",
      "image class : 25\n",
      "image class : 26\n",
      "image class : 26\n",
      "image class : 26\n",
      "image class : 27\n",
      "image class : 27\n",
      "image class : 27\n",
      "image class : 28\n",
      "image class : 17\n",
      "image class : 28\n",
      "image class : 29\n",
      "image class : 29\n",
      "image class : 29\n",
      "image class : 30\n",
      "image class : 30\n",
      "image class : 22\n",
      "image class : 31\n",
      "image class : 31\n",
      "image class : 31\n",
      "image class : 32\n",
      "image class : 32\n",
      "image class : 32\n",
      "image class : 33\n",
      "image class : 33\n",
      "image class : 33\n",
      "image class : 34\n",
      "image class : 34\n",
      "image class : 34\n",
      "image class : 35\n",
      "image class : 35\n",
      "image class : 35\n",
      "image class : 36\n",
      "image class : 36\n",
      "image class : 36\n",
      "image class : 37\n",
      "image class : 37\n",
      "image class : 37\n",
      "image class : 38\n",
      "image class : 38\n",
      "image class : 38\n",
      "image class : 39\n",
      "image class : 39\n",
      "image class : 39\n",
      "image class : 40\n",
      "image class : 40\n",
      "image class : 40\n",
      "image class : 41\n",
      "image class : 41\n",
      "image class : 41\n",
      "image class : 42\n",
      "image class : 42\n",
      "image class : 42\n",
      "image class : 43\n",
      "image class : 43\n",
      "image class : 43\n",
      "image class : 44\n",
      "image class : 44\n",
      "image class : 44\n",
      "image class : 45\n",
      "image class : 45\n",
      "image class : 45\n",
      "image class : 46\n",
      "image class : 46\n",
      "image class : 46\n",
      "image class : 47\n",
      "image class : 47\n",
      "image class : 47\n",
      "image class : 48\n",
      "image class : 48\n",
      "image class : 48\n",
      "image class : 49\n",
      "image class : 49\n",
      "image class : 49\n"
     ]
    }
   ],
   "source": [
    "tst_img_per_class = 3\n",
    "total_tst_imgs = 150\n",
    "\n",
    "dataset_path = '../../datasets/dataset2/fold 1/ROI_images/KNN_dataset/'\n",
    "\n",
    "# listing file directories\n",
    "dataset_files = os.listdir(dataset_path)\n",
    "\n",
    "# vector to store the class of each test image\n",
    "classes_vect = np.zeros(total_tst_imgs, dtype=int) \n",
    "\n",
    "# confusion matrix \n",
    "conf_mat = np.zeros((50, 50))\n",
    "\n",
    "current_class = 0\n",
    "\n",
    "# looping through the folder files\n",
    "for folder in dataset_files:\n",
    "    folder_path = dataset_path + folder\n",
    "    \n",
    "    # looping through the classes folders\n",
    "    sub_folder = os.listdir(folder_path)\n",
    "    \n",
    "    # index of the current image \n",
    "    current_image_index = 0\n",
    "    \n",
    "    # looping through the images folders\n",
    "    for file in sub_folder:\n",
    "        \n",
    "        # listing files in \n",
    "        ROI_list = os.listdir(folder_path + '/' + file)\n",
    "        \n",
    "        ROI_vect = np.zeros(len(ROI_list))\n",
    "        current_ROI_index = 0\n",
    "        \n",
    "        # looping through the region of interest images\n",
    "        for ROI_img in ROI_list:\n",
    "            # path for the current region of interest\n",
    "            ROI_img_path = folder_path + '/' + file + '/' + ROI_img\n",
    "            # loading the ROI\n",
    "            img = image.load_img(ROI_img_path)\n",
    "            img  = image.img_to_array(img)  / 255.0 \n",
    "            img  = img.reshape((1,) + img.shape)\n",
    "            # predicting the ROI class\n",
    "            img_class=classifier.predict_classes(img)\n",
    "            classname = int(img_class[0])\n",
    "            # apprending the ROI img class to the ROI vector\n",
    "            ROI_vect[current_ROI_index] = classname\n",
    "            current_ROI_index += 1\n",
    "        # the ROI class is the class that is repeated the most \n",
    "        ROI_image_class = Counter(ROI_vect).most_common(1)\n",
    "        \n",
    "        # appending to the confusion matrix\n",
    "        conf_mat[current_class][int(ROI_image_class[0][0])] += 1\n",
    "        \n",
    "        print('image class :', int(ROI_image_class[0][0]))\n",
    "\n",
    "        # checking if the predicted class is the same as the real class for the ROI\n",
    "        if int(ROI_image_class[0][0]) == current_class:\n",
    "            \n",
    "            classes_vect[current_class * tst_img_per_class + current_image_index] = 1          \n",
    "\n",
    "        current_image_index += 1\n",
    "    \n",
    "    current_class += 1     "
   ]
  },
  {
   "cell_type": "code",
   "execution_count": 58,
   "metadata": {},
   "outputs": [
    {
     "data": {
      "text/plain": [
       "array([0, 1, 1, 1, 1, 1, 1, 1, 1, 1, 1, 1, 1, 1, 1, 1, 1, 1, 1, 1, 1, 1,\n",
       "       0, 0, 1, 1, 1, 1, 1, 1, 1, 1, 1, 1, 1, 1, 1, 1, 1, 1, 1, 1, 1, 1,\n",
       "       1, 1, 1, 1, 1, 1, 1, 1, 1, 1, 1, 1, 1, 1, 1, 1, 1, 1, 1, 1, 1, 1,\n",
       "       1, 1, 1, 1, 1, 1, 1, 0, 1, 0, 1, 1, 1, 1, 1, 1, 1, 1, 1, 0, 1, 1,\n",
       "       1, 1, 1, 1, 0, 1, 1, 1, 1, 1, 1, 1, 1, 1, 1, 1, 1, 1, 1, 1, 1, 1,\n",
       "       1, 1, 1, 1, 1, 1, 1, 1, 1, 1, 1, 1, 1, 1, 1, 1, 1, 1, 1, 1, 1, 1,\n",
       "       1, 1, 1, 1, 1, 1, 1, 1, 1, 1, 1, 1, 1, 1, 1, 1, 1, 1])"
      ]
     },
     "execution_count": 58,
     "metadata": {},
     "output_type": "execute_result"
    }
   ],
   "source": [
    "# calculating accuracy\n",
    "classes_vect"
   ]
  },
  {
   "cell_type": "code",
   "execution_count": 59,
   "metadata": {},
   "outputs": [
    {
     "data": {
      "text/plain": [
       "0.9533333333333334"
      ]
     },
     "execution_count": 59,
     "metadata": {},
     "output_type": "execute_result"
    }
   ],
   "source": [
    "accuracy_new = Counter(classes_vect).most_common(1)\n",
    "accuracy_new[0][1] / total_tst_imgs     "
   ]
  },
  {
   "cell_type": "markdown",
   "metadata": {},
   "source": [
    "### KNN confusion matrix"
   ]
  },
  {
   "cell_type": "code",
   "execution_count": 60,
   "metadata": {},
   "outputs": [
    {
     "data": {
      "text/plain": [
       "array([[2., 0., 0., 0., 0., 0., 0., 0., 0., 0., 0., 0., 0., 0., 0., 0.,\n",
       "        0., 0., 0., 0., 0., 0., 0., 1., 0., 0., 0., 0., 0., 0., 0., 0.,\n",
       "        0., 0., 0., 0., 0., 0., 0., 0., 0., 0., 0., 0., 0., 0., 0., 0.,\n",
       "        0., 0.],\n",
       "       [0., 3., 0., 0., 0., 0., 0., 0., 0., 0., 0., 0., 0., 0., 0., 0.,\n",
       "        0., 0., 0., 0., 0., 0., 0., 0., 0., 0., 0., 0., 0., 0., 0., 0.,\n",
       "        0., 0., 0., 0., 0., 0., 0., 0., 0., 0., 0., 0., 0., 0., 0., 0.,\n",
       "        0., 0.],\n",
       "       [0., 0., 3., 0., 0., 0., 0., 0., 0., 0., 0., 0., 0., 0., 0., 0.,\n",
       "        0., 0., 0., 0., 0., 0., 0., 0., 0., 0., 0., 0., 0., 0., 0., 0.,\n",
       "        0., 0., 0., 0., 0., 0., 0., 0., 0., 0., 0., 0., 0., 0., 0., 0.,\n",
       "        0., 0.],\n",
       "       [0., 0., 0., 3., 0., 0., 0., 0., 0., 0., 0., 0., 0., 0., 0., 0.,\n",
       "        0., 0., 0., 0., 0., 0., 0., 0., 0., 0., 0., 0., 0., 0., 0., 0.,\n",
       "        0., 0., 0., 0., 0., 0., 0., 0., 0., 0., 0., 0., 0., 0., 0., 0.,\n",
       "        0., 0.],\n",
       "       [0., 0., 0., 0., 3., 0., 0., 0., 0., 0., 0., 0., 0., 0., 0., 0.,\n",
       "        0., 0., 0., 0., 0., 0., 0., 0., 0., 0., 0., 0., 0., 0., 0., 0.,\n",
       "        0., 0., 0., 0., 0., 0., 0., 0., 0., 0., 0., 0., 0., 0., 0., 0.,\n",
       "        0., 0.],\n",
       "       [0., 0., 0., 0., 0., 3., 0., 0., 0., 0., 0., 0., 0., 0., 0., 0.,\n",
       "        0., 0., 0., 0., 0., 0., 0., 0., 0., 0., 0., 0., 0., 0., 0., 0.,\n",
       "        0., 0., 0., 0., 0., 0., 0., 0., 0., 0., 0., 0., 0., 0., 0., 0.,\n",
       "        0., 0.],\n",
       "       [0., 0., 0., 0., 0., 0., 3., 0., 0., 0., 0., 0., 0., 0., 0., 0.,\n",
       "        0., 0., 0., 0., 0., 0., 0., 0., 0., 0., 0., 0., 0., 0., 0., 0.,\n",
       "        0., 0., 0., 0., 0., 0., 0., 0., 0., 0., 0., 0., 0., 0., 0., 0.,\n",
       "        0., 0.],\n",
       "       [0., 0., 0., 0., 0., 0., 0., 1., 0., 0., 0., 0., 0., 0., 0., 0.,\n",
       "        0., 0., 0., 0., 0., 0., 0., 0., 0., 0., 0., 0., 0., 0., 0., 0.,\n",
       "        0., 0., 0., 0., 0., 0., 0., 0., 0., 2., 0., 0., 0., 0., 0., 0.,\n",
       "        0., 0.],\n",
       "       [0., 0., 0., 0., 0., 0., 0., 0., 3., 0., 0., 0., 0., 0., 0., 0.,\n",
       "        0., 0., 0., 0., 0., 0., 0., 0., 0., 0., 0., 0., 0., 0., 0., 0.,\n",
       "        0., 0., 0., 0., 0., 0., 0., 0., 0., 0., 0., 0., 0., 0., 0., 0.,\n",
       "        0., 0.],\n",
       "       [0., 0., 0., 0., 0., 0., 0., 0., 0., 3., 0., 0., 0., 0., 0., 0.,\n",
       "        0., 0., 0., 0., 0., 0., 0., 0., 0., 0., 0., 0., 0., 0., 0., 0.,\n",
       "        0., 0., 0., 0., 0., 0., 0., 0., 0., 0., 0., 0., 0., 0., 0., 0.,\n",
       "        0., 0.],\n",
       "       [0., 0., 0., 0., 0., 0., 0., 0., 0., 0., 3., 0., 0., 0., 0., 0.,\n",
       "        0., 0., 0., 0., 0., 0., 0., 0., 0., 0., 0., 0., 0., 0., 0., 0.,\n",
       "        0., 0., 0., 0., 0., 0., 0., 0., 0., 0., 0., 0., 0., 0., 0., 0.,\n",
       "        0., 0.],\n",
       "       [0., 0., 0., 0., 0., 0., 0., 0., 0., 0., 0., 3., 0., 0., 0., 0.,\n",
       "        0., 0., 0., 0., 0., 0., 0., 0., 0., 0., 0., 0., 0., 0., 0., 0.,\n",
       "        0., 0., 0., 0., 0., 0., 0., 0., 0., 0., 0., 0., 0., 0., 0., 0.,\n",
       "        0., 0.],\n",
       "       [0., 0., 0., 0., 0., 0., 0., 0., 0., 0., 0., 0., 3., 0., 0., 0.,\n",
       "        0., 0., 0., 0., 0., 0., 0., 0., 0., 0., 0., 0., 0., 0., 0., 0.,\n",
       "        0., 0., 0., 0., 0., 0., 0., 0., 0., 0., 0., 0., 0., 0., 0., 0.,\n",
       "        0., 0.],\n",
       "       [0., 0., 0., 0., 0., 0., 0., 0., 0., 0., 0., 0., 0., 3., 0., 0.,\n",
       "        0., 0., 0., 0., 0., 0., 0., 0., 0., 0., 0., 0., 0., 0., 0., 0.,\n",
       "        0., 0., 0., 0., 0., 0., 0., 0., 0., 0., 0., 0., 0., 0., 0., 0.,\n",
       "        0., 0.],\n",
       "       [0., 0., 0., 0., 0., 0., 0., 0., 0., 0., 0., 0., 0., 0., 3., 0.,\n",
       "        0., 0., 0., 0., 0., 0., 0., 0., 0., 0., 0., 0., 0., 0., 0., 0.,\n",
       "        0., 0., 0., 0., 0., 0., 0., 0., 0., 0., 0., 0., 0., 0., 0., 0.,\n",
       "        0., 0.],\n",
       "       [0., 0., 0., 0., 0., 0., 0., 0., 0., 0., 0., 0., 0., 0., 0., 3.,\n",
       "        0., 0., 0., 0., 0., 0., 0., 0., 0., 0., 0., 0., 0., 0., 0., 0.,\n",
       "        0., 0., 0., 0., 0., 0., 0., 0., 0., 0., 0., 0., 0., 0., 0., 0.,\n",
       "        0., 0.],\n",
       "       [0., 0., 0., 0., 0., 0., 0., 0., 0., 0., 0., 0., 0., 0., 0., 0.,\n",
       "        3., 0., 0., 0., 0., 0., 0., 0., 0., 0., 0., 0., 0., 0., 0., 0.,\n",
       "        0., 0., 0., 0., 0., 0., 0., 0., 0., 0., 0., 0., 0., 0., 0., 0.,\n",
       "        0., 0.],\n",
       "       [0., 0., 0., 0., 0., 0., 0., 0., 0., 0., 0., 0., 0., 0., 0., 0.,\n",
       "        0., 3., 0., 0., 0., 0., 0., 0., 0., 0., 0., 0., 0., 0., 0., 0.,\n",
       "        0., 0., 0., 0., 0., 0., 0., 0., 0., 0., 0., 0., 0., 0., 0., 0.,\n",
       "        0., 0.],\n",
       "       [0., 0., 0., 0., 0., 0., 0., 0., 0., 0., 0., 0., 0., 0., 0., 0.,\n",
       "        0., 0., 3., 0., 0., 0., 0., 0., 0., 0., 0., 0., 0., 0., 0., 0.,\n",
       "        0., 0., 0., 0., 0., 0., 0., 0., 0., 0., 0., 0., 0., 0., 0., 0.,\n",
       "        0., 0.],\n",
       "       [0., 0., 0., 0., 0., 0., 0., 0., 0., 0., 0., 0., 0., 0., 0., 0.,\n",
       "        0., 0., 0., 3., 0., 0., 0., 0., 0., 0., 0., 0., 0., 0., 0., 0.,\n",
       "        0., 0., 0., 0., 0., 0., 0., 0., 0., 0., 0., 0., 0., 0., 0., 0.,\n",
       "        0., 0.],\n",
       "       [0., 0., 0., 0., 0., 0., 0., 0., 0., 0., 0., 0., 0., 0., 0., 0.,\n",
       "        0., 0., 0., 0., 3., 0., 0., 0., 0., 0., 0., 0., 0., 0., 0., 0.,\n",
       "        0., 0., 0., 0., 0., 0., 0., 0., 0., 0., 0., 0., 0., 0., 0., 0.,\n",
       "        0., 0.],\n",
       "       [0., 0., 0., 0., 0., 0., 0., 0., 0., 0., 0., 0., 0., 0., 0., 0.,\n",
       "        0., 0., 0., 0., 0., 3., 0., 0., 0., 0., 0., 0., 0., 0., 0., 0.,\n",
       "        0., 0., 0., 0., 0., 0., 0., 0., 0., 0., 0., 0., 0., 0., 0., 0.,\n",
       "        0., 0.],\n",
       "       [0., 0., 0., 0., 0., 0., 0., 0., 0., 0., 0., 0., 0., 0., 0., 0.,\n",
       "        0., 0., 0., 0., 0., 0., 3., 0., 0., 0., 0., 0., 0., 0., 0., 0.,\n",
       "        0., 0., 0., 0., 0., 0., 0., 0., 0., 0., 0., 0., 0., 0., 0., 0.,\n",
       "        0., 0.],\n",
       "       [0., 0., 0., 0., 0., 0., 0., 0., 0., 0., 0., 0., 0., 0., 0., 0.,\n",
       "        0., 0., 0., 0., 0., 0., 0., 3., 0., 0., 0., 0., 0., 0., 0., 0.,\n",
       "        0., 0., 0., 0., 0., 0., 0., 0., 0., 0., 0., 0., 0., 0., 0., 0.,\n",
       "        0., 0.],\n",
       "       [0., 0., 0., 0., 0., 0., 0., 0., 0., 0., 0., 0., 0., 1., 0., 0.,\n",
       "        0., 0., 0., 0., 0., 0., 0., 0., 2., 0., 0., 0., 0., 0., 0., 0.,\n",
       "        0., 0., 0., 0., 0., 0., 0., 0., 0., 0., 0., 0., 0., 0., 0., 0.,\n",
       "        0., 0.],\n",
       "       [0., 0., 0., 0., 0., 0., 0., 0., 0., 0., 0., 0., 0., 0., 0., 0.,\n",
       "        0., 0., 1., 0., 0., 0., 0., 0., 0., 2., 0., 0., 0., 0., 0., 0.,\n",
       "        0., 0., 0., 0., 0., 0., 0., 0., 0., 0., 0., 0., 0., 0., 0., 0.,\n",
       "        0., 0.],\n",
       "       [0., 0., 0., 0., 0., 0., 0., 0., 0., 0., 0., 0., 0., 0., 0., 0.,\n",
       "        0., 0., 0., 0., 0., 0., 0., 0., 0., 0., 3., 0., 0., 0., 0., 0.,\n",
       "        0., 0., 0., 0., 0., 0., 0., 0., 0., 0., 0., 0., 0., 0., 0., 0.,\n",
       "        0., 0.],\n",
       "       [0., 0., 0., 0., 0., 0., 0., 0., 0., 0., 0., 0., 0., 0., 0., 0.,\n",
       "        0., 0., 0., 0., 0., 0., 0., 0., 0., 0., 0., 3., 0., 0., 0., 0.,\n",
       "        0., 0., 0., 0., 0., 0., 0., 0., 0., 0., 0., 0., 0., 0., 0., 0.,\n",
       "        0., 0.],\n",
       "       [0., 0., 0., 0., 0., 0., 0., 0., 0., 0., 0., 0., 0., 0., 0., 0.,\n",
       "        0., 1., 0., 0., 0., 0., 0., 0., 0., 0., 0., 0., 2., 0., 0., 0.,\n",
       "        0., 0., 0., 0., 0., 0., 0., 0., 0., 0., 0., 0., 0., 0., 0., 0.,\n",
       "        0., 0.],\n",
       "       [0., 0., 0., 0., 0., 0., 0., 0., 0., 0., 0., 0., 0., 0., 0., 0.,\n",
       "        0., 0., 0., 0., 0., 0., 0., 0., 0., 0., 0., 0., 0., 3., 0., 0.,\n",
       "        0., 0., 0., 0., 0., 0., 0., 0., 0., 0., 0., 0., 0., 0., 0., 0.,\n",
       "        0., 0.],\n",
       "       [0., 0., 0., 0., 0., 0., 0., 0., 0., 0., 0., 0., 0., 0., 0., 0.,\n",
       "        0., 0., 0., 0., 0., 0., 1., 0., 0., 0., 0., 0., 0., 0., 2., 0.,\n",
       "        0., 0., 0., 0., 0., 0., 0., 0., 0., 0., 0., 0., 0., 0., 0., 0.,\n",
       "        0., 0.],\n",
       "       [0., 0., 0., 0., 0., 0., 0., 0., 0., 0., 0., 0., 0., 0., 0., 0.,\n",
       "        0., 0., 0., 0., 0., 0., 0., 0., 0., 0., 0., 0., 0., 0., 0., 3.,\n",
       "        0., 0., 0., 0., 0., 0., 0., 0., 0., 0., 0., 0., 0., 0., 0., 0.,\n",
       "        0., 0.],\n",
       "       [0., 0., 0., 0., 0., 0., 0., 0., 0., 0., 0., 0., 0., 0., 0., 0.,\n",
       "        0., 0., 0., 0., 0., 0., 0., 0., 0., 0., 0., 0., 0., 0., 0., 0.,\n",
       "        3., 0., 0., 0., 0., 0., 0., 0., 0., 0., 0., 0., 0., 0., 0., 0.,\n",
       "        0., 0.],\n",
       "       [0., 0., 0., 0., 0., 0., 0., 0., 0., 0., 0., 0., 0., 0., 0., 0.,\n",
       "        0., 0., 0., 0., 0., 0., 0., 0., 0., 0., 0., 0., 0., 0., 0., 0.,\n",
       "        0., 3., 0., 0., 0., 0., 0., 0., 0., 0., 0., 0., 0., 0., 0., 0.,\n",
       "        0., 0.],\n",
       "       [0., 0., 0., 0., 0., 0., 0., 0., 0., 0., 0., 0., 0., 0., 0., 0.,\n",
       "        0., 0., 0., 0., 0., 0., 0., 0., 0., 0., 0., 0., 0., 0., 0., 0.,\n",
       "        0., 0., 3., 0., 0., 0., 0., 0., 0., 0., 0., 0., 0., 0., 0., 0.,\n",
       "        0., 0.],\n",
       "       [0., 0., 0., 0., 0., 0., 0., 0., 0., 0., 0., 0., 0., 0., 0., 0.,\n",
       "        0., 0., 0., 0., 0., 0., 0., 0., 0., 0., 0., 0., 0., 0., 0., 0.,\n",
       "        0., 0., 0., 3., 0., 0., 0., 0., 0., 0., 0., 0., 0., 0., 0., 0.,\n",
       "        0., 0.],\n",
       "       [0., 0., 0., 0., 0., 0., 0., 0., 0., 0., 0., 0., 0., 0., 0., 0.,\n",
       "        0., 0., 0., 0., 0., 0., 0., 0., 0., 0., 0., 0., 0., 0., 0., 0.,\n",
       "        0., 0., 0., 0., 3., 0., 0., 0., 0., 0., 0., 0., 0., 0., 0., 0.,\n",
       "        0., 0.],\n",
       "       [0., 0., 0., 0., 0., 0., 0., 0., 0., 0., 0., 0., 0., 0., 0., 0.,\n",
       "        0., 0., 0., 0., 0., 0., 0., 0., 0., 0., 0., 0., 0., 0., 0., 0.,\n",
       "        0., 0., 0., 0., 0., 3., 0., 0., 0., 0., 0., 0., 0., 0., 0., 0.,\n",
       "        0., 0.],\n",
       "       [0., 0., 0., 0., 0., 0., 0., 0., 0., 0., 0., 0., 0., 0., 0., 0.,\n",
       "        0., 0., 0., 0., 0., 0., 0., 0., 0., 0., 0., 0., 0., 0., 0., 0.,\n",
       "        0., 0., 0., 0., 0., 0., 3., 0., 0., 0., 0., 0., 0., 0., 0., 0.,\n",
       "        0., 0.],\n",
       "       [0., 0., 0., 0., 0., 0., 0., 0., 0., 0., 0., 0., 0., 0., 0., 0.,\n",
       "        0., 0., 0., 0., 0., 0., 0., 0., 0., 0., 0., 0., 0., 0., 0., 0.,\n",
       "        0., 0., 0., 0., 0., 0., 0., 3., 0., 0., 0., 0., 0., 0., 0., 0.,\n",
       "        0., 0.],\n",
       "       [0., 0., 0., 0., 0., 0., 0., 0., 0., 0., 0., 0., 0., 0., 0., 0.,\n",
       "        0., 0., 0., 0., 0., 0., 0., 0., 0., 0., 0., 0., 0., 0., 0., 0.,\n",
       "        0., 0., 0., 0., 0., 0., 0., 0., 3., 0., 0., 0., 0., 0., 0., 0.,\n",
       "        0., 0.],\n",
       "       [0., 0., 0., 0., 0., 0., 0., 0., 0., 0., 0., 0., 0., 0., 0., 0.,\n",
       "        0., 0., 0., 0., 0., 0., 0., 0., 0., 0., 0., 0., 0., 0., 0., 0.,\n",
       "        0., 0., 0., 0., 0., 0., 0., 0., 0., 3., 0., 0., 0., 0., 0., 0.,\n",
       "        0., 0.],\n",
       "       [0., 0., 0., 0., 0., 0., 0., 0., 0., 0., 0., 0., 0., 0., 0., 0.,\n",
       "        0., 0., 0., 0., 0., 0., 0., 0., 0., 0., 0., 0., 0., 0., 0., 0.,\n",
       "        0., 0., 0., 0., 0., 0., 0., 0., 0., 0., 3., 0., 0., 0., 0., 0.,\n",
       "        0., 0.],\n",
       "       [0., 0., 0., 0., 0., 0., 0., 0., 0., 0., 0., 0., 0., 0., 0., 0.,\n",
       "        0., 0., 0., 0., 0., 0., 0., 0., 0., 0., 0., 0., 0., 0., 0., 0.,\n",
       "        0., 0., 0., 0., 0., 0., 0., 0., 0., 0., 0., 3., 0., 0., 0., 0.,\n",
       "        0., 0.],\n",
       "       [0., 0., 0., 0., 0., 0., 0., 0., 0., 0., 0., 0., 0., 0., 0., 0.,\n",
       "        0., 0., 0., 0., 0., 0., 0., 0., 0., 0., 0., 0., 0., 0., 0., 0.,\n",
       "        0., 0., 0., 0., 0., 0., 0., 0., 0., 0., 0., 0., 3., 0., 0., 0.,\n",
       "        0., 0.],\n",
       "       [0., 0., 0., 0., 0., 0., 0., 0., 0., 0., 0., 0., 0., 0., 0., 0.,\n",
       "        0., 0., 0., 0., 0., 0., 0., 0., 0., 0., 0., 0., 0., 0., 0., 0.,\n",
       "        0., 0., 0., 0., 0., 0., 0., 0., 0., 0., 0., 0., 0., 3., 0., 0.,\n",
       "        0., 0.],\n",
       "       [0., 0., 0., 0., 0., 0., 0., 0., 0., 0., 0., 0., 0., 0., 0., 0.,\n",
       "        0., 0., 0., 0., 0., 0., 0., 0., 0., 0., 0., 0., 0., 0., 0., 0.,\n",
       "        0., 0., 0., 0., 0., 0., 0., 0., 0., 0., 0., 0., 0., 0., 3., 0.,\n",
       "        0., 0.],\n",
       "       [0., 0., 0., 0., 0., 0., 0., 0., 0., 0., 0., 0., 0., 0., 0., 0.,\n",
       "        0., 0., 0., 0., 0., 0., 0., 0., 0., 0., 0., 0., 0., 0., 0., 0.,\n",
       "        0., 0., 0., 0., 0., 0., 0., 0., 0., 0., 0., 0., 0., 0., 0., 3.,\n",
       "        0., 0.],\n",
       "       [0., 0., 0., 0., 0., 0., 0., 0., 0., 0., 0., 0., 0., 0., 0., 0.,\n",
       "        0., 0., 0., 0., 0., 0., 0., 0., 0., 0., 0., 0., 0., 0., 0., 0.,\n",
       "        0., 0., 0., 0., 0., 0., 0., 0., 0., 0., 0., 0., 0., 0., 0., 0.,\n",
       "        3., 0.],\n",
       "       [0., 0., 0., 0., 0., 0., 0., 0., 0., 0., 0., 0., 0., 0., 0., 0.,\n",
       "        0., 0., 0., 0., 0., 0., 0., 0., 0., 0., 0., 0., 0., 0., 0., 0.,\n",
       "        0., 0., 0., 0., 0., 0., 0., 0., 0., 0., 0., 0., 0., 0., 0., 0.,\n",
       "        0., 3.]])"
      ]
     },
     "execution_count": 60,
     "metadata": {},
     "output_type": "execute_result"
    }
   ],
   "source": [
    "conf_mat"
   ]
  },
  {
   "cell_type": "code",
   "execution_count": 61,
   "metadata": {},
   "outputs": [
    {
     "data": {
      "text/plain": [
       "<matplotlib.text.Text at 0x1b047e75da0>"
      ]
     },
     "execution_count": 61,
     "metadata": {},
     "output_type": "execute_result"
    },
    {
     "data": {
      "image/png": "[encoded data removed]",
      "text/plain": [
       "<matplotlib.figure.Figure at 0x1b047b5d908>"
      ]
     },
     "metadata": {
      "needs_background": "light"
     },
     "output_type": "display_data"
    }
   ],
   "source": [
    "plt.imshow(conf_mat, cmap=plt.cm.Blues)\n",
    "plt.colorbar()\n",
    "plt.title('Confusion matrix HeatMap')\n",
    "# plt.savefig('confMat.jpg', format='jpg', dpi=300)"
   ]
  },
  {
   "cell_type": "code",
   "execution_count": null,
   "metadata": {},
   "outputs": [],
   "source": []
  }
 ],
 "metadata": {
  "kernelspec": {
   "display_name": "Python 3",
   "language": "python",
   "name": "python3"
  },
  "language_info": {
   "codemirror_mode": {
    "name": "ipython",
    "version": 3
   },
   "file_extension": ".py",
   "mimetype": "text/x-python",
   "name": "python",
   "nbconvert_exporter": "python",
   "pygments_lexer": "ipython3",
   "version": "3.6.8"
  }
 },
 "nbformat": 4,
 "nbformat_minor": 2
}
