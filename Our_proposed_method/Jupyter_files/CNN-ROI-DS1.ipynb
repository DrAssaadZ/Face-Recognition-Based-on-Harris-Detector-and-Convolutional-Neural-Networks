{
 "cells": [
  {
   "cell_type": "markdown",
   "metadata": {},
   "source": [
    "# AT&T"
   ]
  },
  {
   "cell_type": "code",
   "execution_count": 1,
   "metadata": {},
   "outputs": [
    {
     "name": "stderr",
     "output_type": "stream",
     "text": [
      "Using TensorFlow backend.\n"
     ]
    }
   ],
   "source": [
    "from keras.models import Sequential\n",
    "from keras.models import load_model\n",
    "from keras.models import Model\n",
    "from keras.layers import Conv2D\n",
    "from keras.layers import MaxPooling2D\n",
    "from keras.layers import Flatten\n",
    "from keras.layers import Dense\n",
    "from keras.layers.normalization import BatchNormalization\n",
    "from keras.preprocessing.image import ImageDataGenerator\n",
    "from keras.preprocessing.image import load_img\n",
    "from keras.preprocessing.image import img_to_array\n",
    "from keras.preprocessing import image\n",
    "from keras.callbacks import ModelCheckpoint\n",
    "\n",
    "from sklearn.metrics import classification_report, confusion_matrix\n",
    "import sklearn.metrics as metrics\n",
    "from sklearn.preprocessing import StandardScaler\n",
    "\n",
    "import tensorflow as tf"
   ]
  },
  {
   "cell_type": "code",
   "execution_count": 2,
   "metadata": {},
   "outputs": [],
   "source": [
    "import numpy as np\n",
    "from numpy import expand_dims\n",
    "import sys\n",
    "import os\n",
    "import matplotlib.pyplot as plt\n",
    "%matplotlib inline\n",
    "from PIL import Image\n",
    "from collections import Counter\n",
    "from pickle import load\n",
    "from pickle import dump"
   ]
  },
  {
   "cell_type": "markdown",
   "metadata": {},
   "source": [
    "## Model Building"
   ]
  },
  {
   "cell_type": "code",
   "execution_count": 3,
   "metadata": {},
   "outputs": [
    {
     "name": "stdout",
     "output_type": "stream",
     "text": [
      "WARNING:tensorflow:From c:\\users\\ouss\\appdata\\local\\programs\\python\\python36\\lib\\site-packages\\keras\\backend\\tensorflow_backend.py:66: The name tf.get_default_graph is deprecated. Please use tf.compat.v1.get_default_graph instead.\n",
      "\n"
     ]
    }
   ],
   "source": [
    "classifier = Sequential()"
   ]
  },
  {
   "cell_type": "code",
   "execution_count": 4,
   "metadata": {},
   "outputs": [
    {
     "name": "stdout",
     "output_type": "stream",
     "text": [
      "WARNING:tensorflow:From c:\\users\\ouss\\appdata\\local\\programs\\python\\python36\\lib\\site-packages\\keras\\backend\\tensorflow_backend.py:541: The name tf.placeholder is deprecated. Please use tf.compat.v1.placeholder instead.\n",
      "\n",
      "WARNING:tensorflow:From c:\\users\\ouss\\appdata\\local\\programs\\python\\python36\\lib\\site-packages\\keras\\backend\\tensorflow_backend.py:4432: The name tf.random_uniform is deprecated. Please use tf.random.uniform instead.\n",
      "\n"
     ]
    }
   ],
   "source": [
    "classifier.add(Conv2D(32, (3, 3),  input_shape=(32, 32, 3), padding='same', activation=\"relu\" ))"
   ]
  },
  {
   "cell_type": "code",
   "execution_count": 5,
   "metadata": {},
   "outputs": [
    {
     "name": "stdout",
     "output_type": "stream",
     "text": [
      "WARNING:tensorflow:From c:\\users\\ouss\\appdata\\local\\programs\\python\\python36\\lib\\site-packages\\keras\\backend\\tensorflow_backend.py:4267: The name tf.nn.max_pool is deprecated. Please use tf.nn.max_pool2d instead.\n",
      "\n"
     ]
    }
   ],
   "source": [
    "classifier.add(MaxPooling2D(pool_size = (2, 2)))"
   ]
  },
  {
   "cell_type": "code",
   "execution_count": 6,
   "metadata": {},
   "outputs": [],
   "source": [
    "classifier.add(Conv2D(64, (3, 3), padding='same', activation = 'relu'))"
   ]
  },
  {
   "cell_type": "code",
   "execution_count": 7,
   "metadata": {},
   "outputs": [
    {
     "name": "stdout",
     "output_type": "stream",
     "text": [
      "WARNING:tensorflow:From c:\\users\\ouss\\appdata\\local\\programs\\python\\python36\\lib\\site-packages\\keras\\backend\\tensorflow_backend.py:190: The name tf.get_default_session is deprecated. Please use tf.compat.v1.get_default_session instead.\n",
      "\n",
      "WARNING:tensorflow:From c:\\users\\ouss\\appdata\\local\\programs\\python\\python36\\lib\\site-packages\\keras\\backend\\tensorflow_backend.py:197: The name tf.ConfigProto is deprecated. Please use tf.compat.v1.ConfigProto instead.\n",
      "\n",
      "WARNING:tensorflow:From c:\\users\\ouss\\appdata\\local\\programs\\python\\python36\\lib\\site-packages\\keras\\backend\\tensorflow_backend.py:2041: The name tf.nn.fused_batch_norm is deprecated. Please use tf.compat.v1.nn.fused_batch_norm instead.\n",
      "\n"
     ]
    }
   ],
   "source": [
    "classifier.add(BatchNormalization())"
   ]
  },
  {
   "cell_type": "code",
   "execution_count": 8,
   "metadata": {},
   "outputs": [],
   "source": [
    "classifier.add(MaxPooling2D(pool_size = (2, 2)))"
   ]
  },
  {
   "cell_type": "code",
   "execution_count": 9,
   "metadata": {},
   "outputs": [],
   "source": [
    "classifier.add(Conv2D(64, (3, 3), padding='same', activation = 'relu'))"
   ]
  },
  {
   "cell_type": "code",
   "execution_count": 10,
   "metadata": {},
   "outputs": [],
   "source": [
    "classifier.add(BatchNormalization())"
   ]
  },
  {
   "cell_type": "code",
   "execution_count": 11,
   "metadata": {},
   "outputs": [],
   "source": [
    "classifier.add(MaxPooling2D(pool_size = (2, 2)))"
   ]
  },
  {
   "cell_type": "code",
   "execution_count": 12,
   "metadata": {},
   "outputs": [],
   "source": [
    "classifier.add(Conv2D(128, (3, 3), padding='same', activation = 'relu'))"
   ]
  },
  {
   "cell_type": "code",
   "execution_count": 13,
   "metadata": {},
   "outputs": [],
   "source": [
    "classifier.add(BatchNormalization())"
   ]
  },
  {
   "cell_type": "code",
   "execution_count": 14,
   "metadata": {},
   "outputs": [],
   "source": [
    "classifier.add(MaxPooling2D(pool_size = (2, 2)))"
   ]
  },
  {
   "cell_type": "code",
   "execution_count": 15,
   "metadata": {},
   "outputs": [],
   "source": [
    "classifier.add(Flatten())"
   ]
  },
  {
   "cell_type": "code",
   "execution_count": 16,
   "metadata": {},
   "outputs": [],
   "source": [
    "classifier.add(Dense(activation=\"relu\", units=512))"
   ]
  },
  {
   "cell_type": "code",
   "execution_count": 17,
   "metadata": {},
   "outputs": [],
   "source": [
    "classifier.add(Dense(activation=\"softmax\", units=40))"
   ]
  },
  {
   "cell_type": "code",
   "execution_count": 18,
   "metadata": {},
   "outputs": [
    {
     "name": "stdout",
     "output_type": "stream",
     "text": [
      "WARNING:tensorflow:From c:\\users\\ouss\\appdata\\local\\programs\\python\\python36\\lib\\site-packages\\keras\\optimizers.py:793: The name tf.train.Optimizer is deprecated. Please use tf.compat.v1.train.Optimizer instead.\n",
      "\n"
     ]
    }
   ],
   "source": [
    "classifier.compile(optimizer = 'adam', loss = 'categorical_crossentropy', metrics = ['accuracy'])"
   ]
  },
  {
   "cell_type": "code",
   "execution_count": 19,
   "metadata": {},
   "outputs": [
    {
     "name": "stdout",
     "output_type": "stream",
     "text": [
      "Model: \"sequential_1\"\n",
      "_________________________________________________________________\n",
      "Layer (type)                 Output Shape              Param #   \n",
      "=================================================================\n",
      "conv2d_1 (Conv2D)            (None, 32, 32, 32)        896       \n",
      "_________________________________________________________________\n",
      "max_pooling2d_1 (MaxPooling2 (None, 16, 16, 32)        0         \n",
      "_________________________________________________________________\n",
      "conv2d_2 (Conv2D)            (None, 16, 16, 64)        18496     \n",
      "_________________________________________________________________\n",
      "batch_normalization_1 (Batch (None, 16, 16, 64)        256       \n",
      "_________________________________________________________________\n",
      "max_pooling2d_2 (MaxPooling2 (None, 8, 8, 64)          0         \n",
      "_________________________________________________________________\n",
      "conv2d_3 (Conv2D)            (None, 8, 8, 64)          36928     \n",
      "_________________________________________________________________\n",
      "batch_normalization_2 (Batch (None, 8, 8, 64)          256       \n",
      "_________________________________________________________________\n",
      "max_pooling2d_3 (MaxPooling2 (None, 4, 4, 64)          0         \n",
      "_________________________________________________________________\n",
      "conv2d_4 (Conv2D)            (None, 4, 4, 128)         73856     \n",
      "_________________________________________________________________\n",
      "batch_normalization_3 (Batch (None, 4, 4, 128)         512       \n",
      "_________________________________________________________________\n",
      "max_pooling2d_4 (MaxPooling2 (None, 2, 2, 128)         0         \n",
      "_________________________________________________________________\n",
      "flatten_1 (Flatten)          (None, 512)               0         \n",
      "_________________________________________________________________\n",
      "dense_1 (Dense)              (None, 512)               262656    \n",
      "_________________________________________________________________\n",
      "dense_2 (Dense)              (None, 40)                20520     \n",
      "=================================================================\n",
      "Total params: 414,376\n",
      "Trainable params: 413,864\n",
      "Non-trainable params: 512\n",
      "_________________________________________________________________\n"
     ]
    }
   ],
   "source": [
    "classifier.summary()"
   ]
  },
  {
   "cell_type": "markdown",
   "metadata": {},
   "source": [
    "### Model Training"
   ]
  },
  {
   "cell_type": "code",
   "execution_count": 20,
   "metadata": {},
   "outputs": [
    {
     "name": "stdout",
     "output_type": "stream",
     "text": [
      "Found 4705 images belonging to 40 classes.\n",
      "Found 1986 images belonging to 40 classes.\n"
     ]
    }
   ],
   "source": [
    "bat_size = 32\n",
    "input_size = 32\n",
    "\n",
    "# initializing a train datagenerator\n",
    "train_datagen = ImageDataGenerator(rescale=1./255)\n",
    "\n",
    "# initializing a test datagenerator\n",
    "test_datagen = ImageDataGenerator(rescale=1./255)\n",
    "\n",
    "# preprocessing for trainig set\n",
    "train_set = train_datagen.flow_from_directory(\n",
    "                            '../../datasets/dataset1/ROI_images/ROI_dataset/training/', \n",
    "                            target_size=(input_size, input_size), \n",
    "                            batch_size=bat_size,\n",
    "                            class_mode='categorical'\n",
    "                                            )\n",
    "\n",
    "# preprocessing for test set\n",
    "test_set = test_datagen.flow_from_directory(\n",
    "                            '../../datasets/dataset1/ROI_images/ROI_dataset/testing/',\n",
    "                            target_size=(input_size, input_size),\n",
    "                            batch_size=bat_size,\n",
    "                            shuffle=False,\n",
    "                            class_mode='categorical'\n",
    "                                            )"
   ]
  },
  {
   "cell_type": "code",
   "execution_count": 21,
   "metadata": {},
   "outputs": [],
   "source": [
    "# saving the best weights of the model (where the validation accuracy is best)\n",
    "filepath = \"CNN-ROI-DS1-bestWeights.hdf5\"\n",
    "checkpoint = ModelCheckpoint(\n",
    "                            filepath,\n",
    "                            monitor='val_acc',\n",
    "                            verbose=1,\n",
    "                            save_best_only=True,\n",
    "                            mode='max'\n",
    "                            )"
   ]
  },
  {
   "cell_type": "code",
   "execution_count": 22,
   "metadata": {
    "scrolled": false
   },
   "outputs": [
    {
     "name": "stdout",
     "output_type": "stream",
     "text": [
      "WARNING:tensorflow:From c:\\users\\ouss\\appdata\\local\\programs\\python\\python36\\lib\\site-packages\\tensorflow\\python\\ops\\math_grad.py:1250: add_dispatch_support.<locals>.wrapper (from tensorflow.python.ops.array_ops) is deprecated and will be removed in a future version.\n",
      "Instructions for updating:\n",
      "Use tf.where in 2.0, which has the same broadcast rule as np.where\n",
      "Epoch 1/25\n",
      "148/148 [==============================] - 8s 51ms/step - loss: 3.4453 - acc: 0.1005 - val_loss: 3.4542 - val_acc: 0.1148\n",
      "\n",
      "Epoch 00001: val_acc improved from -inf to 0.11480, saving model to CNN-ROI-DS1-bestWeights.hdf5\n",
      "Epoch 2/25\n",
      "148/148 [==============================] - 5s 33ms/step - loss: 2.6232 - acc: 0.2528 - val_loss: 3.3751 - val_acc: 0.1591\n",
      "\n",
      "Epoch 00002: val_acc improved from 0.11480 to 0.15911, saving model to CNN-ROI-DS1-bestWeights.hdf5\n",
      "Epoch 3/25\n",
      "148/148 [==============================] - 4s 30ms/step - loss: 1.9386 - acc: 0.4295 - val_loss: 4.7049 - val_acc: 0.1163\n",
      "\n",
      "Epoch 00003: val_acc did not improve from 0.15911\n",
      "Epoch 4/25\n",
      "148/148 [==============================] - 4s 30ms/step - loss: 1.4690 - acc: 0.5680 - val_loss: 6.4167 - val_acc: 0.0841\n",
      "\n",
      "Epoch 00004: val_acc did not improve from 0.15911\n",
      "Epoch 5/25\n",
      "148/148 [==============================] - 4s 30ms/step - loss: 1.1544 - acc: 0.6580 - val_loss: 2.0856 - val_acc: 0.4456\n",
      "\n",
      "Epoch 00005: val_acc improved from 0.15911 to 0.44562, saving model to CNN-ROI-DS1-bestWeights.hdf5\n",
      "Epoch 6/25\n",
      "148/148 [==============================] - 4s 30ms/step - loss: 0.8876 - acc: 0.7336 - val_loss: 1.6340 - val_acc: 0.5559\n",
      "\n",
      "Epoch 00006: val_acc improved from 0.44562 to 0.55589, saving model to CNN-ROI-DS1-bestWeights.hdf5\n",
      "Epoch 7/25\n",
      "148/148 [==============================] - 4s 30ms/step - loss: 0.5391 - acc: 0.8470 - val_loss: 5.2876 - val_acc: 0.1566\n",
      "\n",
      "Epoch 00007: val_acc did not improve from 0.55589\n",
      "Epoch 8/25\n",
      "148/148 [==============================] - 5s 36ms/step - loss: 0.6040 - acc: 0.8192 - val_loss: 2.2865 - val_acc: 0.4753\n",
      "\n",
      "Epoch 00008: val_acc did not improve from 0.55589\n",
      "Epoch 9/25\n",
      "148/148 [==============================] - 5s 32ms/step - loss: 0.3757 - acc: 0.8913 - val_loss: 1.2186 - val_acc: 0.6868\n",
      "\n",
      "Epoch 00009: val_acc improved from 0.55589 to 0.68681, saving model to CNN-ROI-DS1-bestWeights.hdf5\n",
      "Epoch 10/25\n",
      "148/148 [==============================] - 5s 36ms/step - loss: 0.5260 - acc: 0.8590 - val_loss: 7.9609 - val_acc: 0.1606\n",
      "\n",
      "Epoch 00010: val_acc did not improve from 0.68681\n",
      "Epoch 11/25\n",
      "148/148 [==============================] - 5s 32ms/step - loss: 0.4538 - acc: 0.8546 - val_loss: 3.2386 - val_acc: 0.3630\n",
      "\n",
      "Epoch 00011: val_acc did not improve from 0.68681\n",
      "Epoch 12/25\n",
      "148/148 [==============================] - 4s 30ms/step - loss: 0.2808 - acc: 0.9141 - val_loss: 2.5793 - val_acc: 0.4965\n",
      "\n",
      "Epoch 00012: val_acc did not improve from 0.68681\n",
      "Epoch 13/25\n",
      "148/148 [==============================] - 4s 29ms/step - loss: 0.1600 - acc: 0.9559 - val_loss: 1.2465 - val_acc: 0.6939\n",
      "\n",
      "Epoch 00013: val_acc improved from 0.68681 to 0.69386, saving model to CNN-ROI-DS1-bestWeights.hdf5\n",
      "Epoch 14/25\n",
      "148/148 [==============================] - 5s 34ms/step - loss: 0.2301 - acc: 0.9420 - val_loss: 1.8457 - val_acc: 0.5619\n",
      "\n",
      "Epoch 00014: val_acc did not improve from 0.69386\n",
      "Epoch 15/25\n",
      "148/148 [==============================] - 4s 29ms/step - loss: 0.2577 - acc: 0.9264 - val_loss: 5.3314 - val_acc: 0.2523\n",
      "\n",
      "Epoch 00015: val_acc did not improve from 0.69386\n",
      "Epoch 16/25\n",
      "148/148 [==============================] - 4s 29ms/step - loss: 0.3537 - acc: 0.8938 - val_loss: 13.0769 - val_acc: 0.0443\n",
      "\n",
      "Epoch 00016: val_acc did not improve from 0.69386\n",
      "Epoch 17/25\n",
      "148/148 [==============================] - 4s 29ms/step - loss: 0.2875 - acc: 0.9098 - val_loss: 1.4315 - val_acc: 0.6782\n",
      "\n",
      "Epoch 00017: val_acc did not improve from 0.69386\n",
      "Epoch 18/25\n",
      "148/148 [==============================] - 4s 30ms/step - loss: 0.2056 - acc: 0.9443 - val_loss: 6.0309 - val_acc: 0.2064\n",
      "\n",
      "Epoch 00018: val_acc did not improve from 0.69386\n",
      "Epoch 19/25\n",
      "148/148 [==============================] - 12s 79ms/step - loss: 0.1342 - acc: 0.9627 - val_loss: 1.4501 - val_acc: 0.6908\n",
      "\n",
      "Epoch 00019: val_acc did not improve from 0.69386\n",
      "Epoch 20/25\n",
      "148/148 [==============================] - 16s 106ms/step - loss: 0.1156 - acc: 0.9669 - val_loss: 1.5990 - val_acc: 0.6526\n",
      "\n",
      "Epoch 00020: val_acc did not improve from 0.69386\n",
      "Epoch 21/25\n",
      "148/148 [==============================] - 4s 30ms/step - loss: 0.4686 - acc: 0.8767 - val_loss: 1.8584 - val_acc: 0.6042\n",
      "\n",
      "Epoch 00021: val_acc did not improve from 0.69386\n",
      "Epoch 22/25\n",
      "148/148 [==============================] - 5s 32ms/step - loss: 0.2475 - acc: 0.9268 - val_loss: 1.4306 - val_acc: 0.6772\n",
      "\n",
      "Epoch 00022: val_acc did not improve from 0.69386\n",
      "Epoch 23/25\n",
      "148/148 [==============================] - 5s 32ms/step - loss: 0.0923 - acc: 0.9755 - val_loss: 3.5075 - val_acc: 0.4240\n",
      "\n",
      "Epoch 00023: val_acc did not improve from 0.69386\n",
      "Epoch 24/25\n",
      "148/148 [==============================] - 4s 30ms/step - loss: 0.1158 - acc: 0.9684 - val_loss: 12.6305 - val_acc: 0.0685\n",
      "\n",
      "Epoch 00024: val_acc did not improve from 0.69386\n",
      "Epoch 25/25\n",
      "148/148 [==============================] - 4s 30ms/step - loss: 0.3015 - acc: 0.9194 - val_loss: 1.7557 - val_acc: 0.6521\n",
      "\n",
      "Epoch 00025: val_acc did not improve from 0.69386\n"
     ]
    }
   ],
   "source": [
    "# training our model with 25 epocks\n",
    "model = classifier.fit_generator(\n",
    "                        train_set,\n",
    "                        steps_per_epoch=4705//bat_size + 1,\n",
    "                        epochs=25,\n",
    "                        callbacks=[checkpoint],\n",
    "                        validation_data=test_set,\n",
    "                        validation_steps=1986//bat_size + 1\n",
    "                            )"
   ]
  },
  {
   "cell_type": "markdown",
   "metadata": {},
   "source": [
    "### Accuracy and loss Graphs"
   ]
  },
  {
   "cell_type": "code",
   "execution_count": 23,
   "metadata": {},
   "outputs": [],
   "source": [
    "# saving best model history\n",
    "with open('CNN-ROI-DS1-history', 'wb') as handle: \n",
    "    dump(classifier.history, handle)"
   ]
  },
  {
   "cell_type": "code",
   "execution_count": 24,
   "metadata": {},
   "outputs": [
    {
     "data": {
      "image/png": "[encoded data removed]",
      "text/plain": [
       "<matplotlib.figure.Figure at 0x1e4ab4b33c8>"
      ]
     },
     "metadata": {
      "needs_background": "light"
     },
     "output_type": "display_data"
    },
    {
     "data": {
      "image/png": "[encoded data removed]",
      "text/plain": [
       "<matplotlib.figure.Figure at 0x1e4ab8d0f60>"
      ]
     },
     "metadata": {
      "needs_background": "light"
     },
     "output_type": "display_data"
    }
   ],
   "source": [
    "    \n",
    "# loading the model history\n",
    "with open('CNN-ROI-DS1-history', 'rb') as handle:\n",
    "    oldhstry = load(handle)\n",
    "    \n",
    "# plotting the train and test accuracy and loss\n",
    "acc = oldhstry.history['acc']\n",
    "val_acc = oldhstry.history['val_acc']\n",
    "plt.plot(acc,  label='Training acc')\n",
    "plt.plot(val_acc,  label='Validation acc')\n",
    "plt.title('Training and validation accuracy')\n",
    "plt.xlabel('Epochs')\n",
    "plt.ylabel('accuracy')\n",
    "plt.legend()\n",
    "# plt.savefig('train and test accuracy.png', bbox_inches='tight', dpi=300)\n",
    "plt.show()\n",
    "\n",
    "acc = oldhstry.history['loss']\n",
    "val_acc = oldhstry.history['val_loss']\n",
    "plt.plot(acc,  label='Training loss')\n",
    "plt.plot(val_acc,  label='Validation loss')\n",
    "plt.title('Training and validation loss')\n",
    "plt.xlabel('Epochs')\n",
    "plt.ylabel('loss')\n",
    "plt.legend()\n",
    "# plt.savefig('train and test loss.png', bbox_inches='tight', dpi=300)\n",
    "plt.show()"
   ]
  },
  {
   "cell_type": "markdown",
   "metadata": {},
   "source": [
    "### Confusion matrix"
   ]
  },
  {
   "cell_type": "code",
   "execution_count": 25,
   "metadata": {},
   "outputs": [
    {
     "name": "stdout",
     "output_type": "stream",
     "text": [
      "[[24  5  0  1  0  0  0  0  0  0  0  0  0  1  0  3  2  0  0  0  1  3  0  0\n",
      "   0  0  0  0  1  0  0  0  1  0  0  2  0  0  1  0]\n",
      " [ 0 31  0  0  0  0  0  0  0  0  0  0  0  0  0  1  0  0  0  0  0  0  1  0\n",
      "   1  0  1  0  0  0  0  1  1  2  0  0  0  0  8  1]\n",
      " [ 0  3 33  0  1  1  0  0  0  0  0  0  0  1  0  0  0  0  0  0  1  0  0  0\n",
      "   2  0  0  0  0  0  0  0  0  0  0  0  0  0  2  0]\n",
      " [ 0  4  0 36  0  0  0  1  0  1  0  0  1  0  0  0  0  0  1  0  0  0  1  0\n",
      "   0  0  0  0  3  0  0  0  0  0  1  0  0  0  0  0]\n",
      " [ 4  0  0  0 33  0  0  0  0  0  0  0  0  0  0  0  0  0  1  1  0  0  0  1\n",
      "   0  0  2  0  0  0  0  0  0  1  0  1  1  0  0  0]\n",
      " [ 0  0  2  0  0 38  0  1  0  0  0  0  0  0  1  0  0  0  0  1  0  0  0  0\n",
      "   2  0  0  0  0  0  0  0  1  0  0  0  0  1  0  0]\n",
      " [ 0  0  0  0  0  0 41  0  0  0  0  0  0  0  0  0  1  0  0  0  0  0  0  1\n",
      "   1  1  3  0  2  0  0  0  1  0  0  0  0  0  0  1]\n",
      " [ 3  0  0  0  0  0  0 26  0  0  2  0  2  0  0  0  1  0  0  0  0  1  1  0\n",
      "   2  3  0  0  0  0  1  1  0  0  0  0  0  0  0  0]\n",
      " [ 5  1  0  0  0  0  0  2 24  0  1  1  0  0  0  2  1  0  0  0  0  1  1  3\n",
      "   0  1  0  0  1  0  0  0  0  0  1  0  2  1  0  0]\n",
      " [ 1  0  0  0  0  0  0  0  0 31  1  0  0  0  0  1  0  0  2  0  0  0  0  0\n",
      "   0  0  0  0  1  0  0  4  0  0  4  3  0  0  0  0]\n",
      " [ 1  3  0  0  0  0  0  0  0  0 35  0  0  0  0  1  0  0  1  0  0  0  1  0\n",
      "   0  0  0  0  0  0  0  0  0  0  0  0  0  0  4  0]\n",
      " [ 0  1  0  0  1  0  2  2  0  0  0 32  0  0  1  0  2  0  0  0  0  1  0  1\n",
      "   0  0  1  0  0  0  0  0  0  0  0  0  0  0  0  0]\n",
      " [ 0  0  0  2  0  0  0  0  0  1  0  0 32  0  0  0  1  0  0  1  0  3  0  0\n",
      "   4  1  2  0  0  1  0  0  1  1  0  0  0  0  1  0]\n",
      " [ 1  0  0  0  0  0  2  0  0  0  0  0  0 34  0  0  0  0  0  0  0  2  1  2\n",
      "   0  0  2  0  1  0  0  0  3  0  0  0  0  0  0  0]\n",
      " [ 0  0  0  0  0  0  0  0  0  0  0  0  0  0 42  0  1  0  0  0  0  0  0  1\n",
      "   1  0  0  0  0  0  0  0  1  0  0  0  0  0  0  0]\n",
      " [ 0  2  0  1  1  0  0  0  0  0  0  0  0  0  0 30  0  0  2  0  0  2  1  1\n",
      "   0  0  0  0  0  0  0  5  1  3  0  1  0  0  2  0]\n",
      " [ 2  0  0  0  0  0  2  0  2  0  0  0  0  0  0  0 32  0  0  0  0  5  0  2\n",
      "   0  0  0  0  0  0  0  0  2  0  0  0  0  0  0  0]\n",
      " [ 2  1  0  1  0  0  0  0  0  0  0  0  0  1  0  0  0 30  1  0  0  3  5  0\n",
      "   0  0  0  0  3  0  0  1  1  2  0  2  0  0  0  1]\n",
      " [ 3  2  0  0  0  0  0  0  0  0  1  0  0  0  0  3  0  0 38  0  0  0  0  0\n",
      "   0  0  0  0  0  0  0  0  0  0  0  1  0  0  0  0]\n",
      " [ 0  1  0  0  0  0  0  0  0  0  0  1  0  0  0  0  0  0  0 39  0  0  0  0\n",
      "   1  0  0  0  0  0  0  0  0  0  0  0  0  2  0  0]\n",
      " [ 1  4  1  0  3  0  1  0  0  1  2  0  0  0  0  0  0  1  4  0 27  1  1  0\n",
      "   0  0  0  1  1  0  3  0  0  0  2  1  1  0  0  0]\n",
      " [ 0  0  0  0  0  0  0  0  0  0  0  0  0  0  0  0  0  0  0  0  0 47  1  1\n",
      "   0  0  2  1  0  0  0  0  0  0  0  0  0  0  0  0]\n",
      " [ 0  2  0  1  3  1  0  0  0  0  0  1  0  0  0  0  0  0  1  1  1  0 35  1\n",
      "   1  0  0  0  0  0  0  0  0  0  3  0  0  0  0  0]\n",
      " [ 0  0  0  0  0  0  0  1  0  0  0  0  0  1  0  0  0  1  0  0  0  1  1 43\n",
      "   1  0  2  0  1  0  0  0  1  0  0  0  0  0  0  1]\n",
      " [ 0  0  0  0  1  0  0  0  0  0  1  0  1  0  1  1  0  0  0  0  0  5  2  0\n",
      "  40  0  1  0  0  0  0  0  4  0  0  0  0  0  0  0]\n",
      " [ 1  0  0  3  0  0  3  0  0  0  0  2  1  0  0  0  1  0  0  0  0  0  0  0\n",
      "   1 33  2  1  0  1  1  0  0  0  0  0  0  0  0  0]\n",
      " [ 0  0  0  0  0  0  1  0  0  0  0  0  0  1  0  0  0  0  0  1  0  3  1  1\n",
      "   2  0 44  0  2  0  0  0  0  0  0  0  0  0  0  0]\n",
      " [ 0  0  0  0  0  0  0  0  0  0  0  0  0  0  0  0  0  0  0  0  0  0  0  0\n",
      "   5  0  0 46  0  0  0  0  1  0  0  0  0  0  0  0]\n",
      " [ 0  1  0  0  0  0  1  0  0  2  3  0  0  0  0  0  0  0  1  0  0  1  3  0\n",
      "   2  0  0  0 29  0  1  0  0  0  0  2  1  0  1  1]\n",
      " [ 0  3  0  0  0  3  1  2  0  0  0  1  2  0  0  0  0  0  0  1  0  1  1  1\n",
      "   0  0  0  0  1 27  4  0  0  2  0  0  0  2  0  0]\n",
      " [ 0  0  0  0  0  0  0  1  0  0  0  0  0  0  0  0  1  0  0  0  6  0  0  0\n",
      "   0  0  0  0  0  0 41  0  0  1  0  0  0  2  0  0]\n",
      " [ 0  1  0  0  0  0  0  0  0  0  0  0  1  0  0  4  0  1  1  0  0  0  5  0\n",
      "   1  0  0  0  1  0  0 37  0  0  0  0  0  0  0  2]\n",
      " [ 0  0  0  0  0  0  0  0  0  0  0  0  0  0  1  0  0  0  0  0  0  7  3  0\n",
      "   0  0  2  0  2  1  0  0 37  0  0  0  0  0  0  0]\n",
      " [ 1  1  0  0  1  0  0  1  0  0  0  0  2  1  0  3  0  0  1  0  0  0  0  0\n",
      "   0  0  1  0  1  0  0  1  0 31  0  0  0  0  0  1]\n",
      " [ 1  1  0  1  2  0  0  0  0  0  0  0  0  1  0  0  1  0  0  0  0  1  3  0\n",
      "   0  0  0  0  1  0  0  1  1  0 32  2  0  0  0  1]\n",
      " [ 1  0  0  2  1  0  0  1  0  0  0  0  0  0  0  3  1  2  2  0  0  1  3  1\n",
      "   0  0  0  0  5  0  0  1  0  0  1 27  0  0  0  0]\n",
      " [ 2  0  1  0  0  0  0  0  0  0  0  0  0  0  0  2  0  0  0  0  0  0  0  0\n",
      "   1  0  0  0  3  0  0  0  0  3  2  1 32  0  2  0]\n",
      " [ 1  1  0  0  0  0  0  2  1  0  0  0  1  0  0  0  0  0  0  0  1  0  1  0\n",
      "   0  1  0  0  0  1  0  0  0  0  0  0  2 40  0  0]\n",
      " [ 0  1  0  0  0  0  0  0  0  0  2  0  0  0  0  2  0  0  2  0  0  0  3  0\n",
      "   0  0  0  0  0  0  0  0  0  2  1  0  0  0 38  0]\n",
      " [ 0  3  0  3  0  0  0  0  0  0  0  0  1  1  0  1  0  0  0  0  1  2  1  0\n",
      "   0  0  1  0  2  0  0  1  0  1  1  0  0  0  0 31]]\n"
     ]
    }
   ],
   "source": [
    "classifier = load_model('CNN-ROI-DS1-bestWeights.hdf5')           # loading the model with the best weights\n",
    "np.set_printoptions(threshold=sys.maxsize)\n",
    "Y_pred = classifier.predict_generator(test_set, 1986//bat_size + 1)\n",
    "y_pred = np.argmax(Y_pred, axis=1)\n",
    "conf_mat = confusion_matrix(test_set.classes, y_pred)\n",
    "print(conf_mat)"
   ]
  },
  {
   "cell_type": "code",
   "execution_count": 26,
   "metadata": {},
   "outputs": [
    {
     "data": {
      "text/plain": [
       "<matplotlib.text.Text at 0x1e4c3c7b0b8>"
      ]
     },
     "execution_count": 26,
     "metadata": {},
     "output_type": "execute_result"
    },
    {
     "data": {
      "image/png": "[encoded data removed]",
      "text/plain": [
       "<matplotlib.figure.Figure at 0x1e4593230f0>"
      ]
     },
     "metadata": {
      "needs_background": "light"
     },
     "output_type": "display_data"
    }
   ],
   "source": [
    "plt.imshow(conf_mat, cmap=plt.cm.Blues)\n",
    "plt.colorbar()\n",
    "plt.title('Matrice de confusion')\n",
    "# plt.savefig('confMat.jpg', format='jpg', dpi=300)"
   ]
  },
  {
   "cell_type": "markdown",
   "metadata": {},
   "source": [
    "#### Model Report"
   ]
  },
  {
   "cell_type": "code",
   "execution_count": 27,
   "metadata": {},
   "outputs": [],
   "source": [
    "true_classes = test_set.classes\n",
    "class_labels = list(test_set.class_indices.keys())  "
   ]
  },
  {
   "cell_type": "code",
   "execution_count": 28,
   "metadata": {},
   "outputs": [
    {
     "name": "stdout",
     "output_type": "stream",
     "text": [
      "              precision    recall  f1-score   support\n",
      "\n",
      "          s1       0.44      0.53      0.48        45\n",
      "         s10       0.43      0.65      0.52        48\n",
      "         s11       0.89      0.75      0.81        44\n",
      "         s12       0.71      0.73      0.72        49\n",
      "         s13       0.70      0.73      0.72        45\n",
      "         s14       0.88      0.81      0.84        47\n",
      "         s15       0.76      0.79      0.77        52\n",
      "         s16       0.65      0.60      0.63        43\n",
      "         s17       0.89      0.50      0.64        48\n",
      "         s18       0.86      0.65      0.74        48\n",
      "         s19       0.73      0.76      0.74        46\n",
      "          s2       0.84      0.73      0.78        44\n",
      "         s20       0.73      0.63      0.67        51\n",
      "         s21       0.81      0.71      0.76        48\n",
      "         s22       0.91      0.91      0.91        46\n",
      "         s23       0.53      0.58      0.55        52\n",
      "         s24       0.71      0.68      0.70        47\n",
      "         s25       0.86      0.56      0.67        54\n",
      "         s26       0.66      0.79      0.72        48\n",
      "         s27       0.87      0.89      0.88        44\n",
      "         s28       0.71      0.48      0.57        56\n",
      "         s29       0.52      0.90      0.66        52\n",
      "          s3       0.46      0.69      0.55        51\n",
      "         s30       0.72      0.80      0.75        54\n",
      "         s31       0.59      0.70      0.64        57\n",
      "         s32       0.82      0.66      0.73        50\n",
      "         s33       0.67      0.79      0.72        56\n",
      "         s34       0.94      0.88      0.91        52\n",
      "         s35       0.48      0.59      0.53        49\n",
      "         s36       0.87      0.52      0.65        52\n",
      "         s37       0.80      0.79      0.80        52\n",
      "         s38       0.70      0.69      0.69        54\n",
      "         s39       0.65      0.70      0.67        53\n",
      "          s4       0.63      0.67      0.65        46\n",
      "         s40       0.67      0.65      0.66        49\n",
      "          s5       0.63      0.52      0.57        52\n",
      "          s6       0.82      0.65      0.73        49\n",
      "          s7       0.83      0.77      0.80        52\n",
      "          s8       0.64      0.75      0.69        51\n",
      "          s9       0.78      0.62      0.69        50\n",
      "\n",
      "    accuracy                           0.69      1986\n",
      "   macro avg       0.72      0.69      0.70      1986\n",
      "weighted avg       0.72      0.69      0.70      1986\n",
      "\n"
     ]
    }
   ],
   "source": [
    "# Calculating the model report\n",
    "report = metrics.classification_report(true_classes, y_pred, target_names=class_labels)\n",
    "print(report) "
   ]
  },
  {
   "cell_type": "markdown",
   "metadata": {},
   "source": [
    "### Displaying feature maps"
   ]
  },
  {
   "cell_type": "code",
   "execution_count": 30,
   "metadata": {},
   "outputs": [
    {
     "data": {
      "image/png": "[encoded data removed]",
      "text/plain": [
       "<matplotlib.figure.Figure at 0x1e4bb921b70>"
      ]
     },
     "metadata": {},
     "output_type": "display_data"
    }
   ],
   "source": [
    "# new model used for displaying the feature maps\n",
    "model = Model(inputs=classifier.inputs, outputs=classifier.layers[0].output)\n",
    "\n",
    "# load the image with the required shape\n",
    "img = load_img('../../datasets/dataset1/ROI_images/ROI_dataset/testing/s1/s1_8_0.jpg', target_size=(32, 32))\n",
    "\n",
    "# convert the image to an array\n",
    "img = img_to_array(img)\n",
    "\n",
    "# expand dimensions so that it represents a single 'sample'\n",
    "img = expand_dims(img, axis=0)\n",
    "\n",
    "# model feature maps \n",
    "feature_maps = model.predict(img)\n",
    "\n",
    "square = 8\n",
    "ix = 1\n",
    "for _ in range(8):\n",
    "    for _ in range(4):\n",
    "        # specify subplot and turn of axis\n",
    "        ax = plt.subplot(square, square, ix)\n",
    "        ax.set_xticks([])\n",
    "        ax.set_yticks([])\n",
    "        plt.imshow(feature_maps[0, :, :, ix-1], cmap='gray')\n",
    "        ix += 1\n",
    "# plt.savefig('DS1-featuresMaps_L4.jpg', dpi=300)\n",
    "plt.show()"
   ]
  },
  {
   "cell_type": "markdown",
   "metadata": {},
   "source": [
    "## Decision Module (noted as KNN)"
   ]
  },
  {
   "cell_type": "code",
   "execution_count": 37,
   "metadata": {},
   "outputs": [
    {
     "name": "stdout",
     "output_type": "stream",
     "text": [
      "image class : 0\n",
      "image class : 0\n",
      "image class : 0\n",
      "image class : 1\n",
      "image class : 1\n",
      "image class : 1\n",
      "image class : 2\n",
      "image class : 2\n",
      "image class : 2\n",
      "image class : 3\n",
      "image class : 3\n",
      "image class : 3\n",
      "image class : 4\n",
      "image class : 4\n",
      "image class : 4\n",
      "image class : 5\n",
      "image class : 5\n",
      "image class : 5\n",
      "image class : 6\n",
      "image class : 6\n",
      "image class : 6\n",
      "image class : 7\n",
      "image class : 7\n",
      "image class : 7\n",
      "image class : 8\n",
      "image class : 8\n",
      "image class : 8\n",
      "image class : 9\n",
      "image class : 9\n",
      "image class : 9\n",
      "image class : 10\n",
      "image class : 10\n",
      "image class : 10\n",
      "image class : 11\n",
      "image class : 11\n",
      "image class : 11\n",
      "image class : 12\n",
      "image class : 12\n",
      "image class : 12\n",
      "image class : 13\n",
      "image class : 13\n",
      "image class : 13\n",
      "image class : 14\n",
      "image class : 14\n",
      "image class : 14\n",
      "image class : 15\n",
      "image class : 15\n",
      "image class : 15\n",
      "image class : 16\n",
      "image class : 16\n",
      "image class : 16\n",
      "image class : 17\n",
      "image class : 17\n",
      "image class : 17\n",
      "image class : 18\n",
      "image class : 18\n",
      "image class : 18\n",
      "image class : 19\n",
      "image class : 19\n",
      "image class : 19\n",
      "image class : 20\n",
      "image class : 20\n",
      "image class : 20\n",
      "image class : 21\n",
      "image class : 21\n",
      "image class : 21\n",
      "image class : 22\n",
      "image class : 22\n",
      "image class : 22\n",
      "image class : 23\n",
      "image class : 23\n",
      "image class : 23\n",
      "image class : 24\n",
      "image class : 24\n",
      "image class : 24\n",
      "image class : 25\n",
      "image class : 25\n",
      "image class : 25\n",
      "image class : 26\n",
      "image class : 26\n",
      "image class : 26\n",
      "image class : 27\n",
      "image class : 27\n",
      "image class : 27\n",
      "image class : 28\n",
      "image class : 28\n",
      "image class : 10\n",
      "image class : 29\n",
      "image class : 29\n",
      "image class : 29\n",
      "image class : 30\n",
      "image class : 30\n",
      "image class : 30\n",
      "image class : 31\n",
      "image class : 31\n",
      "image class : 31\n",
      "image class : 32\n",
      "image class : 32\n",
      "image class : 32\n",
      "image class : 33\n",
      "image class : 33\n",
      "image class : 33\n",
      "image class : 34\n",
      "image class : 34\n",
      "image class : 34\n",
      "image class : 35\n",
      "image class : 35\n",
      "image class : 35\n",
      "image class : 36\n",
      "image class : 36\n",
      "image class : 36\n",
      "image class : 37\n",
      "image class : 37\n",
      "image class : 37\n",
      "image class : 38\n",
      "image class : 38\n",
      "image class : 38\n",
      "image class : 39\n",
      "image class : 39\n",
      "image class : 39\n"
     ]
    }
   ],
   "source": [
    "tst_img_per_class = 3\n",
    "total_tst_imgs = 120\n",
    "\n",
    "dataset_path = '../../datasets/dataset1/ROI_images/KNN_dataset/'\n",
    "\n",
    "# listing file directories\n",
    "dataset_files = os.listdir(dataset_path)\n",
    "\n",
    "# vector to store the class of each test image\n",
    "classes_vect = np.zeros(total_tst_imgs, dtype=int) \n",
    "\n",
    "# confusion matrix \n",
    "conf_mat = np.zeros((40, 40))\n",
    "\n",
    "current_class = 0\n",
    "\n",
    "# looping through the folder files\n",
    "for folder in dataset_files:\n",
    "    folder_path = dataset_path + folder\n",
    "    \n",
    "    # looping through the classes folders\n",
    "    sub_folder = os.listdir(folder_path)\n",
    "    \n",
    "    # index of the current image \n",
    "    current_image_index = 0\n",
    "    \n",
    "    # looping through the images folders\n",
    "    for file in sub_folder:\n",
    "        \n",
    "        # listing files in \n",
    "        ROI_list = os.listdir(folder_path + '/' + file)\n",
    "        \n",
    "        ROI_vect = np.zeros(len(ROI_list))\n",
    "        current_ROI_index = 0\n",
    "        \n",
    "        # looping through the region of interest images\n",
    "        for ROI_img in ROI_list:\n",
    "            # path for the current region of interest\n",
    "            ROI_img_path = folder_path + '/' + file + '/' + ROI_img\n",
    "            # loading the ROI\n",
    "            img = image.load_img(ROI_img_path)\n",
    "            img  = image.img_to_array(img)  / 255.0 \n",
    "            img  = img.reshape((1,) + img.shape)\n",
    "            # predicting the ROI class\n",
    "            img_class=classifier.predict_classes(img)\n",
    "            classname = int(img_class[0])\n",
    "            # apprending the ROI img class to the ROI vector\n",
    "            ROI_vect[current_ROI_index] = classname\n",
    "            current_ROI_index += 1\n",
    "        # the ROI class is the class that is repeated the most \n",
    "        ROI_image_class = Counter(ROI_vect).most_common(1)\n",
    "        \n",
    "        # appending to the confusion matrix\n",
    "        conf_mat[current_class][int(ROI_image_class[0][0])] += 1\n",
    "        \n",
    "        print('image class :', int(ROI_image_class[0][0]))\n",
    "\n",
    "        # checking if the predicted class is the same as the real class for the ROI\n",
    "        if int(ROI_image_class[0][0]) == current_class:\n",
    "            \n",
    "            classes_vect[current_class * tst_img_per_class + current_image_index] = 1          \n",
    "\n",
    "        current_image_index += 1\n",
    "    \n",
    "    current_class += 1       \n",
    "            "
   ]
  },
  {
   "cell_type": "code",
   "execution_count": 35,
   "metadata": {},
   "outputs": [
    {
     "data": {
      "text/plain": [
       "array([1, 1, 1, 1, 1, 1, 1, 1, 1, 1, 1, 1, 1, 1, 1, 1, 1, 1, 1, 1, 1, 1,\n",
       "       1, 1, 1, 1, 1, 1, 1, 1, 1, 1, 1, 1, 1, 1, 1, 1, 1, 1, 1, 1, 1, 1,\n",
       "       1, 1, 1, 1, 1, 1, 1, 1, 1, 1, 1, 1, 1, 1, 1, 1, 1, 1, 1, 1, 1, 1,\n",
       "       1, 1, 1, 1, 1, 1, 1, 1, 1, 1, 1, 1, 1, 1, 1, 1, 1, 1, 1, 1, 0, 1,\n",
       "       1, 1, 1, 1, 1, 1, 1, 1, 1, 1, 1, 1, 1, 1, 1, 1, 1, 1, 1, 1, 1, 1,\n",
       "       1, 1, 1, 1, 1, 1, 1, 1, 1, 1])"
      ]
     },
     "execution_count": 35,
     "metadata": {},
     "output_type": "execute_result"
    }
   ],
   "source": [
    "# test images classification \n",
    "classes_vect"
   ]
  },
  {
   "cell_type": "code",
   "execution_count": 36,
   "metadata": {},
   "outputs": [
    {
     "data": {
      "text/plain": [
       "0.9916666666666667"
      ]
     },
     "execution_count": 36,
     "metadata": {},
     "output_type": "execute_result"
    }
   ],
   "source": [
    "accuracy_new = Counter(classes_vect).most_common(1)\n",
    "accuracy_new[0][1] / total_tst_imgs     "
   ]
  },
  {
   "cell_type": "markdown",
   "metadata": {},
   "source": [
    "### KNN confusion matrix"
   ]
  },
  {
   "cell_type": "code",
   "execution_count": 38,
   "metadata": {},
   "outputs": [
    {
     "data": {
      "text/plain": [
       "array([[3., 0., 0., 0., 0., 0., 0., 0., 0., 0., 0., 0., 0., 0., 0., 0.,\n",
       "        0., 0., 0., 0., 0., 0., 0., 0., 0., 0., 0., 0., 0., 0., 0., 0.,\n",
       "        0., 0., 0., 0., 0., 0., 0., 0.],\n",
       "       [0., 3., 0., 0., 0., 0., 0., 0., 0., 0., 0., 0., 0., 0., 0., 0.,\n",
       "        0., 0., 0., 0., 0., 0., 0., 0., 0., 0., 0., 0., 0., 0., 0., 0.,\n",
       "        0., 0., 0., 0., 0., 0., 0., 0.],\n",
       "       [0., 0., 3., 0., 0., 0., 0., 0., 0., 0., 0., 0., 0., 0., 0., 0.,\n",
       "        0., 0., 0., 0., 0., 0., 0., 0., 0., 0., 0., 0., 0., 0., 0., 0.,\n",
       "        0., 0., 0., 0., 0., 0., 0., 0.],\n",
       "       [0., 0., 0., 3., 0., 0., 0., 0., 0., 0., 0., 0., 0., 0., 0., 0.,\n",
       "        0., 0., 0., 0., 0., 0., 0., 0., 0., 0., 0., 0., 0., 0., 0., 0.,\n",
       "        0., 0., 0., 0., 0., 0., 0., 0.],\n",
       "       [0., 0., 0., 0., 3., 0., 0., 0., 0., 0., 0., 0., 0., 0., 0., 0.,\n",
       "        0., 0., 0., 0., 0., 0., 0., 0., 0., 0., 0., 0., 0., 0., 0., 0.,\n",
       "        0., 0., 0., 0., 0., 0., 0., 0.],\n",
       "       [0., 0., 0., 0., 0., 3., 0., 0., 0., 0., 0., 0., 0., 0., 0., 0.,\n",
       "        0., 0., 0., 0., 0., 0., 0., 0., 0., 0., 0., 0., 0., 0., 0., 0.,\n",
       "        0., 0., 0., 0., 0., 0., 0., 0.],\n",
       "       [0., 0., 0., 0., 0., 0., 3., 0., 0., 0., 0., 0., 0., 0., 0., 0.,\n",
       "        0., 0., 0., 0., 0., 0., 0., 0., 0., 0., 0., 0., 0., 0., 0., 0.,\n",
       "        0., 0., 0., 0., 0., 0., 0., 0.],\n",
       "       [0., 0., 0., 0., 0., 0., 0., 3., 0., 0., 0., 0., 0., 0., 0., 0.,\n",
       "        0., 0., 0., 0., 0., 0., 0., 0., 0., 0., 0., 0., 0., 0., 0., 0.,\n",
       "        0., 0., 0., 0., 0., 0., 0., 0.],\n",
       "       [0., 0., 0., 0., 0., 0., 0., 0., 3., 0., 0., 0., 0., 0., 0., 0.,\n",
       "        0., 0., 0., 0., 0., 0., 0., 0., 0., 0., 0., 0., 0., 0., 0., 0.,\n",
       "        0., 0., 0., 0., 0., 0., 0., 0.],\n",
       "       [0., 0., 0., 0., 0., 0., 0., 0., 0., 3., 0., 0., 0., 0., 0., 0.,\n",
       "        0., 0., 0., 0., 0., 0., 0., 0., 0., 0., 0., 0., 0., 0., 0., 0.,\n",
       "        0., 0., 0., 0., 0., 0., 0., 0.],\n",
       "       [0., 0., 0., 0., 0., 0., 0., 0., 0., 0., 3., 0., 0., 0., 0., 0.,\n",
       "        0., 0., 0., 0., 0., 0., 0., 0., 0., 0., 0., 0., 0., 0., 0., 0.,\n",
       "        0., 0., 0., 0., 0., 0., 0., 0.],\n",
       "       [0., 0., 0., 0., 0., 0., 0., 0., 0., 0., 0., 3., 0., 0., 0., 0.,\n",
       "        0., 0., 0., 0., 0., 0., 0., 0., 0., 0., 0., 0., 0., 0., 0., 0.,\n",
       "        0., 0., 0., 0., 0., 0., 0., 0.],\n",
       "       [0., 0., 0., 0., 0., 0., 0., 0., 0., 0., 0., 0., 3., 0., 0., 0.,\n",
       "        0., 0., 0., 0., 0., 0., 0., 0., 0., 0., 0., 0., 0., 0., 0., 0.,\n",
       "        0., 0., 0., 0., 0., 0., 0., 0.],\n",
       "       [0., 0., 0., 0., 0., 0., 0., 0., 0., 0., 0., 0., 0., 3., 0., 0.,\n",
       "        0., 0., 0., 0., 0., 0., 0., 0., 0., 0., 0., 0., 0., 0., 0., 0.,\n",
       "        0., 0., 0., 0., 0., 0., 0., 0.],\n",
       "       [0., 0., 0., 0., 0., 0., 0., 0., 0., 0., 0., 0., 0., 0., 3., 0.,\n",
       "        0., 0., 0., 0., 0., 0., 0., 0., 0., 0., 0., 0., 0., 0., 0., 0.,\n",
       "        0., 0., 0., 0., 0., 0., 0., 0.],\n",
       "       [0., 0., 0., 0., 0., 0., 0., 0., 0., 0., 0., 0., 0., 0., 0., 3.,\n",
       "        0., 0., 0., 0., 0., 0., 0., 0., 0., 0., 0., 0., 0., 0., 0., 0.,\n",
       "        0., 0., 0., 0., 0., 0., 0., 0.],\n",
       "       [0., 0., 0., 0., 0., 0., 0., 0., 0., 0., 0., 0., 0., 0., 0., 0.,\n",
       "        3., 0., 0., 0., 0., 0., 0., 0., 0., 0., 0., 0., 0., 0., 0., 0.,\n",
       "        0., 0., 0., 0., 0., 0., 0., 0.],\n",
       "       [0., 0., 0., 0., 0., 0., 0., 0., 0., 0., 0., 0., 0., 0., 0., 0.,\n",
       "        0., 3., 0., 0., 0., 0., 0., 0., 0., 0., 0., 0., 0., 0., 0., 0.,\n",
       "        0., 0., 0., 0., 0., 0., 0., 0.],\n",
       "       [0., 0., 0., 0., 0., 0., 0., 0., 0., 0., 0., 0., 0., 0., 0., 0.,\n",
       "        0., 0., 3., 0., 0., 0., 0., 0., 0., 0., 0., 0., 0., 0., 0., 0.,\n",
       "        0., 0., 0., 0., 0., 0., 0., 0.],\n",
       "       [0., 0., 0., 0., 0., 0., 0., 0., 0., 0., 0., 0., 0., 0., 0., 0.,\n",
       "        0., 0., 0., 3., 0., 0., 0., 0., 0., 0., 0., 0., 0., 0., 0., 0.,\n",
       "        0., 0., 0., 0., 0., 0., 0., 0.],\n",
       "       [0., 0., 0., 0., 0., 0., 0., 0., 0., 0., 0., 0., 0., 0., 0., 0.,\n",
       "        0., 0., 0., 0., 3., 0., 0., 0., 0., 0., 0., 0., 0., 0., 0., 0.,\n",
       "        0., 0., 0., 0., 0., 0., 0., 0.],\n",
       "       [0., 0., 0., 0., 0., 0., 0., 0., 0., 0., 0., 0., 0., 0., 0., 0.,\n",
       "        0., 0., 0., 0., 0., 3., 0., 0., 0., 0., 0., 0., 0., 0., 0., 0.,\n",
       "        0., 0., 0., 0., 0., 0., 0., 0.],\n",
       "       [0., 0., 0., 0., 0., 0., 0., 0., 0., 0., 0., 0., 0., 0., 0., 0.,\n",
       "        0., 0., 0., 0., 0., 0., 3., 0., 0., 0., 0., 0., 0., 0., 0., 0.,\n",
       "        0., 0., 0., 0., 0., 0., 0., 0.],\n",
       "       [0., 0., 0., 0., 0., 0., 0., 0., 0., 0., 0., 0., 0., 0., 0., 0.,\n",
       "        0., 0., 0., 0., 0., 0., 0., 3., 0., 0., 0., 0., 0., 0., 0., 0.,\n",
       "        0., 0., 0., 0., 0., 0., 0., 0.],\n",
       "       [0., 0., 0., 0., 0., 0., 0., 0., 0., 0., 0., 0., 0., 0., 0., 0.,\n",
       "        0., 0., 0., 0., 0., 0., 0., 0., 3., 0., 0., 0., 0., 0., 0., 0.,\n",
       "        0., 0., 0., 0., 0., 0., 0., 0.],\n",
       "       [0., 0., 0., 0., 0., 0., 0., 0., 0., 0., 0., 0., 0., 0., 0., 0.,\n",
       "        0., 0., 0., 0., 0., 0., 0., 0., 0., 3., 0., 0., 0., 0., 0., 0.,\n",
       "        0., 0., 0., 0., 0., 0., 0., 0.],\n",
       "       [0., 0., 0., 0., 0., 0., 0., 0., 0., 0., 0., 0., 0., 0., 0., 0.,\n",
       "        0., 0., 0., 0., 0., 0., 0., 0., 0., 0., 3., 0., 0., 0., 0., 0.,\n",
       "        0., 0., 0., 0., 0., 0., 0., 0.],\n",
       "       [0., 0., 0., 0., 0., 0., 0., 0., 0., 0., 0., 0., 0., 0., 0., 0.,\n",
       "        0., 0., 0., 0., 0., 0., 0., 0., 0., 0., 0., 3., 0., 0., 0., 0.,\n",
       "        0., 0., 0., 0., 0., 0., 0., 0.],\n",
       "       [0., 0., 0., 0., 0., 0., 0., 0., 0., 0., 1., 0., 0., 0., 0., 0.,\n",
       "        0., 0., 0., 0., 0., 0., 0., 0., 0., 0., 0., 0., 2., 0., 0., 0.,\n",
       "        0., 0., 0., 0., 0., 0., 0., 0.],\n",
       "       [0., 0., 0., 0., 0., 0., 0., 0., 0., 0., 0., 0., 0., 0., 0., 0.,\n",
       "        0., 0., 0., 0., 0., 0., 0., 0., 0., 0., 0., 0., 0., 3., 0., 0.,\n",
       "        0., 0., 0., 0., 0., 0., 0., 0.],\n",
       "       [0., 0., 0., 0., 0., 0., 0., 0., 0., 0., 0., 0., 0., 0., 0., 0.,\n",
       "        0., 0., 0., 0., 0., 0., 0., 0., 0., 0., 0., 0., 0., 0., 3., 0.,\n",
       "        0., 0., 0., 0., 0., 0., 0., 0.],\n",
       "       [0., 0., 0., 0., 0., 0., 0., 0., 0., 0., 0., 0., 0., 0., 0., 0.,\n",
       "        0., 0., 0., 0., 0., 0., 0., 0., 0., 0., 0., 0., 0., 0., 0., 3.,\n",
       "        0., 0., 0., 0., 0., 0., 0., 0.],\n",
       "       [0., 0., 0., 0., 0., 0., 0., 0., 0., 0., 0., 0., 0., 0., 0., 0.,\n",
       "        0., 0., 0., 0., 0., 0., 0., 0., 0., 0., 0., 0., 0., 0., 0., 0.,\n",
       "        3., 0., 0., 0., 0., 0., 0., 0.],\n",
       "       [0., 0., 0., 0., 0., 0., 0., 0., 0., 0., 0., 0., 0., 0., 0., 0.,\n",
       "        0., 0., 0., 0., 0., 0., 0., 0., 0., 0., 0., 0., 0., 0., 0., 0.,\n",
       "        0., 3., 0., 0., 0., 0., 0., 0.],\n",
       "       [0., 0., 0., 0., 0., 0., 0., 0., 0., 0., 0., 0., 0., 0., 0., 0.,\n",
       "        0., 0., 0., 0., 0., 0., 0., 0., 0., 0., 0., 0., 0., 0., 0., 0.,\n",
       "        0., 0., 3., 0., 0., 0., 0., 0.],\n",
       "       [0., 0., 0., 0., 0., 0., 0., 0., 0., 0., 0., 0., 0., 0., 0., 0.,\n",
       "        0., 0., 0., 0., 0., 0., 0., 0., 0., 0., 0., 0., 0., 0., 0., 0.,\n",
       "        0., 0., 0., 3., 0., 0., 0., 0.],\n",
       "       [0., 0., 0., 0., 0., 0., 0., 0., 0., 0., 0., 0., 0., 0., 0., 0.,\n",
       "        0., 0., 0., 0., 0., 0., 0., 0., 0., 0., 0., 0., 0., 0., 0., 0.,\n",
       "        0., 0., 0., 0., 3., 0., 0., 0.],\n",
       "       [0., 0., 0., 0., 0., 0., 0., 0., 0., 0., 0., 0., 0., 0., 0., 0.,\n",
       "        0., 0., 0., 0., 0., 0., 0., 0., 0., 0., 0., 0., 0., 0., 0., 0.,\n",
       "        0., 0., 0., 0., 0., 3., 0., 0.],\n",
       "       [0., 0., 0., 0., 0., 0., 0., 0., 0., 0., 0., 0., 0., 0., 0., 0.,\n",
       "        0., 0., 0., 0., 0., 0., 0., 0., 0., 0., 0., 0., 0., 0., 0., 0.,\n",
       "        0., 0., 0., 0., 0., 0., 3., 0.],\n",
       "       [0., 0., 0., 0., 0., 0., 0., 0., 0., 0., 0., 0., 0., 0., 0., 0.,\n",
       "        0., 0., 0., 0., 0., 0., 0., 0., 0., 0., 0., 0., 0., 0., 0., 0.,\n",
       "        0., 0., 0., 0., 0., 0., 0., 3.]])"
      ]
     },
     "execution_count": 38,
     "metadata": {},
     "output_type": "execute_result"
    }
   ],
   "source": [
    "conf_mat"
   ]
  },
  {
   "cell_type": "code",
   "execution_count": 39,
   "metadata": {},
   "outputs": [
    {
     "data": {
      "text/plain": [
       "<matplotlib.text.Text at 0x19bc818b358>"
      ]
     },
     "execution_count": 39,
     "metadata": {},
     "output_type": "execute_result"
    },
    {
     "data": {
      "image/png": "[encoded data removed]",
      "text/plain": [
       "<matplotlib.figure.Figure at 0x19bc7fbaf98>"
      ]
     },
     "metadata": {
      "needs_background": "light"
     },
     "output_type": "display_data"
    }
   ],
   "source": [
    "plt.imshow(conf_mat, cmap=plt.cm.Blues)\n",
    "plt.colorbar()\n",
    "plt.title('Matrice de confusion de KNN')\n",
    "# plt.savefig('confMat.jpg', format='jpg', dpi=300)"
   ]
  },
  {
   "cell_type": "code",
   "execution_count": null,
   "metadata": {},
   "outputs": [],
   "source": []
  }
 ],
 "metadata": {
  "kernelspec": {
   "display_name": "Python 3",
   "language": "python",
   "name": "python3"
  },
  "language_info": {
   "codemirror_mode": {
    "name": "ipython",
    "version": 3
   },
   "file_extension": ".py",
   "mimetype": "text/x-python",
   "name": "python",
   "nbconvert_exporter": "python",
   "pygments_lexer": "ipython3",
   "version": "3.6.8"
  }
 },
 "nbformat": 4,
 "nbformat_minor": 2
}
